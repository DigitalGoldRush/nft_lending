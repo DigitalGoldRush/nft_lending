{
 "cells": [
  {
   "cell_type": "code",
   "execution_count": null,
   "metadata": {},
   "outputs": [],
   "source": [
    "import pandas as pd\n",
    "import os\n",
    "# os.getenv\n",
    "from dotenv import load_dotenv\n",
    "import hvplot.pandas\n",
    "import matplotlib.pyplot as plt\n",
    "import panel as pn\n",
    "import requests\n",
    "import json\n",
    "from sqlalchemy import create_engine\n",
    "from sqlalchemy import inspect\n",
    "from collect_contracts import *\n",
    "from utils import *\n",
    "import csv"
   ]
  },
  {
   "cell_type": "code",
   "execution_count": null,
   "metadata": {},
   "outputs": [],
   "source": [
    "load_dotenv()\n",
    "\n",
    "rarify_api_key = os.getenv(\"RARIFY_API_KEY\")\n",
    "database_uri = os.getenv(\"DATABASE_URI\")\n",
    "database_schema = os.getenv(\"DATABASE_SCHEMA\")\n",
    "display(type(rarify_api_key))"
   ]
  },
  {
   "cell_type": "code",
   "execution_count": null,
   "metadata": {},
   "outputs": [],
   "source": [
    "engine = create_engine(database_uri, echo = False)\n",
    "inspector = inspect(engine)"
   ]
  },
  {
   "cell_type": "markdown",
   "metadata": {},
   "source": [
    "### Generate the formatted lists of collections 1 through 50 (excluding some, see the notes.txt file) so that it can be used for querying. This data is taken using the DataFrame and an SQL Query"
   ]
  },
  {
   "cell_type": "code",
   "execution_count": null,
   "metadata": {},
   "outputs": [],
   "source": [
    "contracts = collect_top_100(rarify_api_key)\n",
    "contracts"
   ]
  },
  {
   "cell_type": "code",
   "execution_count": null,
   "metadata": {},
   "outputs": [],
   "source": [
    "# sql_query = f\"\"\"\n",
    "#     SELECT contract_id, address, name, network_id, num_tokens, unique_owners \n",
    "#     FROM {database_schema}.collection\n",
    "# \"\"\"\n",
    "# table = engine.execute(sql_query)\n",
    "\n",
    "# contracts = create_top_100_contracts_dict(table)"
   ]
  },
  {
   "cell_type": "code",
   "execution_count": null,
   "metadata": {},
   "outputs": [],
   "source": [
    "# Validate the contracts\n",
    "for contract in contracts:\n",
    "    print(contract)"
   ]
  },
  {
   "cell_type": "markdown",
   "metadata": {},
   "source": [
    "### Query each collection from the API to obtain the contract address"
   ]
  },
  {
   "cell_type": "markdown",
   "metadata": {},
   "source": [
    "### Create a dataframe for each of the set of collections"
   ]
  },
  {
   "cell_type": "code",
   "execution_count": null,
   "metadata": {},
   "outputs": [],
   "source": [
    "collections_df = fetch_top_50_collections_data_api(contracts, rarify_api_key)"
   ]
  },
  {
   "cell_type": "code",
   "execution_count": null,
   "metadata": {},
   "outputs": [],
   "source": [
    "# sql_query = f\"\"\"\n",
    "#     SELECT contract_id, timestamp, min_price, avg_price, max_price, volume, num_trades, unique_buyers\n",
    "#     FROM {database_schema}.trade\n",
    "# \"\"\"\n",
    "# foo = engine.execute(sql_query)\n",
    "# for r in foo:\n",
    "#     print(r)\n",
    "collections_df"
   ]
  },
  {
   "cell_type": "code",
   "execution_count": null,
   "metadata": {},
   "outputs": [],
   "source": [
    "# collections_df = fetch_top_50_collections_database(engine, database_schema)\n"
   ]
  },
  {
   "cell_type": "code",
   "execution_count": null,
   "metadata": {},
   "outputs": [],
   "source": [
    "copy = collections_df.copy()"
   ]
  },
  {
   "cell_type": "code",
   "execution_count": null,
   "metadata": {},
   "outputs": [],
   "source": [
    "copy = avg_price_df(copy, contracts)\n",
    "def extract_column_names(df):\n",
    "    cols_list = []\n",
    "    for col in df.columns:\n",
    "        cols_list.append(col[0])\n",
    "    return cols_list\n",
    "\n",
    "def extract_readable_names(contracts):\n",
    "    names =[]\n",
    "    for col in contracts:\n",
    "        name = contracts[col]['name']\n",
    "        names.append(name)\n",
    "    return names\n",
    "readable_names = extract_readable_names(contracts)\n",
    "cols_list = extract_column_names(copy)\n",
    "copy.columns = readable_names  "
   ]
  },
  {
   "cell_type": "code",
   "execution_count": null,
   "metadata": {},
   "outputs": [],
   "source": [
    "# copy = copy.drop(\"Sandbox's LANDs\", axis=1)\n",
    "rolling_avgs = copy.rolling(window=20).mean()\n",
    "rolling_avgs"
   ]
  },
  {
   "cell_type": "code",
   "execution_count": null,
   "metadata": {},
   "outputs": [],
   "source": [
    "y = pn.widgets.Select(\n",
    "    name='Collection', \n",
    "    options=readable_names\n",
    ")\n",
    "plot = rolling_avgs.hvplot(x='time', y=y, colorbar=False, width=900, height=500, ylabel=\"Price (eth)\")\n",
    "pn.Column(pn.WidgetBox(y), plot)\n",
    "\n"
   ]
  },
  {
   "cell_type": "markdown",
   "metadata": {},
   "source": [
    "### Create a pct_change dataframe for each of the set of collections we acquired"
   ]
  },
  {
   "cell_type": "code",
   "execution_count": null,
   "metadata": {},
   "outputs": [],
   "source": [
    "valid_contracts = find_valid_contracts(collections_df, contracts)\n",
    "valid_contracts\n",
    "\n",
    "\n"
   ]
  },
  {
   "cell_type": "code",
   "execution_count": null,
   "metadata": {},
   "outputs": [],
   "source": [
    "all_whale_ratios = find_whale_ratio(contracts)\n",
    "whale_ratios = find_whale_ratio(valid_contracts)\n",
    "write_json_file(whale_ratios, 'whale_ratios.json')\n",
    "whale_ratios\n",
    "whale_ratios_df = pd.DataFrame(whale_ratios)\n"
   ]
  },
  {
   "cell_type": "code",
   "execution_count": null,
   "metadata": {},
   "outputs": [],
   "source": []
  },
  {
   "cell_type": "code",
   "execution_count": null,
   "metadata": {},
   "outputs": [],
   "source": [
    "bad_data_list = find_bad_data(valid_contracts, rarify_api_key)"
   ]
  },
  {
   "cell_type": "code",
   "execution_count": null,
   "metadata": {},
   "outputs": [],
   "source": [
    "for i in bad_data_list:\n",
    "    del valid_contracts[i]"
   ]
  },
  {
   "cell_type": "code",
   "execution_count": null,
   "metadata": {},
   "outputs": [],
   "source": [
    "len(valid_contracts) * 6"
   ]
  },
  {
   "cell_type": "code",
   "execution_count": null,
   "metadata": {},
   "outputs": [],
   "source": [
    "valid_collections_df = fetch_top_50_collections_data_api(valid_contracts, rarify_api_key)"
   ]
  },
  {
   "cell_type": "code",
   "execution_count": null,
   "metadata": {},
   "outputs": [],
   "source": [
    "valid_collections_df"
   ]
  },
  {
   "cell_type": "code",
   "execution_count": null,
   "metadata": {},
   "outputs": [],
   "source": [
    "pct_chg_df = find_pct_change(valid_collections_df, valid_contracts)\n",
    "pct_chg_df = pct_chg_df.iloc[:, -(len(valid_contracts)):]"
   ]
  },
  {
   "cell_type": "code",
   "execution_count": null,
   "metadata": {},
   "outputs": [],
   "source": [
    "pct_chg_df[\"top_collections_basket_pct_chg\"] = pct_chg_df[pct_chg_df.columns].mean(axis=1)\n",
    "pct_chg_df.tail()\n",
    "\n"
   ]
  },
  {
   "cell_type": "code",
   "execution_count": null,
   "metadata": {},
   "outputs": [],
   "source": [
    "betas_df = pct_chg_df.drop([\"InvisibleSociety_pct_chg\", \"ProjectKevins_pct_chg\", \"Bored Ape Chemistry Club_pct_chg\", \"mcgoblintownwtf_pct_chg\"], axis=1)"
   ]
  },
  {
   "cell_type": "code",
   "execution_count": null,
   "metadata": {},
   "outputs": [],
   "source": [
    "con_beta = betas_df[\"Doodles_pct_chg\"].cov(betas_df[\"top_collections_basket_pct_chg\"]) / betas_df[\"top_collections_basket_pct_chg\"].var()\n",
    "con_beta"
   ]
  },
  {
   "cell_type": "code",
   "execution_count": null,
   "metadata": {},
   "outputs": [],
   "source": [
    "# Use a dataframe eliminating invisible society, projectkevins, invisible society\n",
    "betas_contracts = valid_contracts.copy()\n",
    "del betas_contracts[\"bc578ecca2115dac0c93c08674edc0c7d01fe09c\"]\n",
    "del betas_contracts[\"7a376c1f8edf7ba7eb94a7438a8313a17d830ff8\"]\n",
    "del betas_contracts[\"22c36bfdcef207f9c0cc941936eff94d4246d14a\"]\n",
    "del betas_contracts[\"c5b52253f5225835cc81c52cdb3d6a22bc3b0c93\"]\n",
    "# InvisibleSociety, ProjectKevins, Bored Ape Chemistry Club, mcgoblintownwtf\n",
    "betas = find_beta(betas_df, betas_contracts)\n",
    "betas_series = pd.Series(betas)\n",
    "betas_series = betas_series.dropna()\n",
    "betas_series = betas_series.sort_values() * 10000\n"
   ]
  },
  {
   "cell_type": "code",
   "execution_count": null,
   "metadata": {},
   "outputs": [],
   "source": [
    "betas_series = betas_series.drop('Unstoppable Domains_beta')"
   ]
  },
  {
   "cell_type": "code",
   "execution_count": null,
   "metadata": {},
   "outputs": [],
   "source": [
    "betas_series.to_csv('betas.csv')"
   ]
  },
  {
   "cell_type": "code",
   "execution_count": null,
   "metadata": {},
   "outputs": [],
   "source": [
    "betas_series.tail().hvplot(kind=\"bar\")"
   ]
  },
  {
   "cell_type": "code",
   "execution_count": null,
   "metadata": {},
   "outputs": [],
   "source": [
    "std_devs = find_std_devs(pct_chg_df, valid_contracts)\n",
    "std_devs_cor = std_devs.copy()\n",
    "std_devs_copy = std_devs.dropna()\n",
    "std_devs = std_devs[std_devs < 1.0]"
   ]
  },
  {
   "cell_type": "code",
   "execution_count": null,
   "metadata": {},
   "outputs": [],
   "source": [
    "with open ('names.txt', 'w') as f:\n",
    "    for i, v in enumerate(std_devs.index):\n",
    "        f.write('\"' + std_devs.index[i][0] + '\"' + \",\")\n",
    "    "
   ]
  },
  {
   "cell_type": "code",
   "execution_count": null,
   "metadata": {},
   "outputs": [],
   "source": [
    "std_devs[\"mean\"] = std_devs.mean()\n",
    "std_devs = std_devs.sort_values()"
   ]
  },
  {
   "cell_type": "code",
   "execution_count": null,
   "metadata": {},
   "outputs": [],
   "source": [
    "std_devs.plot.bar()"
   ]
  },
  {
   "cell_type": "code",
   "execution_count": null,
   "metadata": {},
   "outputs": [],
   "source": [
    "std_devs.values"
   ]
  },
  {
   "cell_type": "code",
   "execution_count": null,
   "metadata": {},
   "outputs": [],
   "source": [
    "std_devs.to_csv('standard_deviations.csv')"
   ]
  },
  {
   "cell_type": "code",
   "execution_count": null,
   "metadata": {},
   "outputs": [],
   "source": [
    "whale_ratios_cor = {}\n",
    "for con in whale_ratios:\n",
    "    whale_ratios_cor[whale_ratios[con]['name']] = whale_ratios[con]['whale_ratio']\n",
    "whale_ratios_cor\n",
    "whale_ratios_cor = pd.Series(whale_ratios_cor)"
   ]
  },
  {
   "cell_type": "code",
   "execution_count": null,
   "metadata": {},
   "outputs": [],
   "source": [
    "import math\n",
    "std_devs_lst = []\n",
    "counter_lst = []\n",
    "counter = 0\n",
    "for i in std_devs_cor:\n",
    "    if math.isnan(i):\n",
    "        counter_lst.append(counter)\n",
    "    else:\n",
    "        std_devs_lst.append(i)\n",
    "    counter += 1\n",
    "\n",
    "std_devs_lst\n",
    "counter_lst\n"
   ]
  },
  {
   "cell_type": "code",
   "execution_count": null,
   "metadata": {},
   "outputs": [],
   "source": [
    "whale_ratios_lst = []\n",
    "for i in whale_ratios_cor:\n",
    "    whale_ratios_lst.append(i)\n",
    "\n",
    "del whale_ratios_lst[2]\n",
    "del whale_ratios_lst[11]\n",
    "whale_ratios_lst"
   ]
  },
  {
   "cell_type": "code",
   "execution_count": null,
   "metadata": {},
   "outputs": [],
   "source": [
    "avg_prices = find_avg_price(collections_df, contracts)\n",
    "avg_prices = avg_prices.iloc[0]\n",
    "avg_prices_lst = []\n",
    "for i in avg_prices:\n",
    "    avg_prices_lst.append(i)\n",
    "avg_prices_lst"
   ]
  },
  {
   "cell_type": "code",
   "execution_count": null,
   "metadata": {},
   "outputs": [],
   "source": [
    "all_whale_ratios_cor = {}\n",
    "for con in all_whale_ratios:\n",
    "    all_whale_ratios_cor[all_whale_ratios[con]['name']] = all_whale_ratios[con]['whale_ratio']\n",
    "all_whale_ratios_cor = pd.Series(all_whale_ratios_cor)\n",
    "all_whale_ratios_lst = []\n",
    "for i in all_whale_ratios_cor:\n",
    "    all_whale_ratios_lst.append(i)"
   ]
  },
  {
   "cell_type": "code",
   "execution_count": null,
   "metadata": {},
   "outputs": [],
   "source": [
    "import numpy as np\n",
    "del whale_ratios_lst[10]\n",
    "del std_devs_lst[10]\n",
    "np.corrcoef(whale_ratios_lst, std_devs_lst)"
   ]
  },
  {
   "cell_type": "code",
   "execution_count": null,
   "metadata": {},
   "outputs": [],
   "source": [
    "pct_chg_df['top_collections_basket_pct_chg'].hvplot()"
   ]
  }
 ],
 "metadata": {
  "kernelspec": {
   "display_name": "Python 3 (ipykernel)",
   "language": "python",
   "name": "python3"
  },
  "language_info": {
   "codemirror_mode": {
    "name": "ipython",
    "version": 3
   },
   "file_extension": ".py",
   "mimetype": "text/x-python",
   "name": "python",
   "nbconvert_exporter": "python",
   "pygments_lexer": "ipython3",
   "version": "3.7.13"
  },
  "vscode": {
   "interpreter": {
    "hash": "be924676cdfa25a697f162e38e58c9c2d4ca83b5aad6fd188aa72795ee63fc3f"
   }
  }
 },
 "nbformat": 4,
 "nbformat_minor": 4
}
