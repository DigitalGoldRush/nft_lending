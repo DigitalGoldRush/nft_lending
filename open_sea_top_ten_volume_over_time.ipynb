{
 "cells": [
  {
   "cell_type": "code",
   "execution_count": 12,
   "id": "6b3166b4-4818-4879-a50c-9c0e5c1def98",
   "metadata": {},
   "outputs": [],
   "source": [
    "import os\n",
    "import requests\n",
    "import json\n",
    "import pandas as pd\n",
    "import hvplot.pandas\n",
    "import sqlalchemy\n",
    "from sqlalchemy import inspect\n",
    "from dotenv import load_dotenv\n",
    "import numpy as np"
   ]
  },
  {
   "cell_type": "code",
   "execution_count": 13,
   "id": "c19e5919-e995-4faf-8532-e1efa5991b76",
   "metadata": {},
   "outputs": [
    {
     "data": {
      "text/plain": [
       "True"
      ]
     },
     "execution_count": 13,
     "metadata": {},
     "output_type": "execute_result"
    }
   ],
   "source": [
    "load_dotenv()"
   ]
  },
  {
   "cell_type": "code",
   "execution_count": 14,
   "id": "e9dce4ce-514f-4505-8d25-f4d2ebe2d9a5",
   "metadata": {},
   "outputs": [
    {
     "data": {
      "text/plain": [
       "str"
      ]
     },
     "metadata": {},
     "output_type": "display_data"
    },
    {
     "data": {
      "text/plain": [
       "str"
      ]
     },
     "metadata": {},
     "output_type": "display_data"
    }
   ],
   "source": [
    "database_connection_string = os.getenv(\"DATABASE_URL\")\n",
    "database_schema = os.getenv(\"DATABASE_SCHEMA\")\n",
    "\n",
    "display(type(database_connection_string))\n",
    "display(type(database_schema))"
   ]
  },
  {
   "cell_type": "code",
   "execution_count": 15,
   "id": "401c79f4-33a6-4422-8f31-ff0bec0dbf73",
   "metadata": {},
   "outputs": [
    {
     "data": {
      "text/plain": [
       "['token_attribute',\n",
       " 'network',\n",
       " 'collection',\n",
       " 'contract_map',\n",
       " 'token',\n",
       " 'whale',\n",
       " 'api',\n",
       " 'trade',\n",
       " 'social_media',\n",
       " 'data_analysis']"
      ]
     },
     "execution_count": 15,
     "metadata": {},
     "output_type": "execute_result"
    }
   ],
   "source": [
    "engine = sqlalchemy.create_engine(database_connection_string)\n",
    "inspector = inspect(engine)\n",
    "inspector.get_table_names()"
   ]
  },
  {
   "cell_type": "code",
   "execution_count": 24,
   "id": "b9de8a12-97ee-484e-9cd0-1f2fbb091fa5",
   "metadata": {},
   "outputs": [],
   "source": [
    "os_top_collection_index = \"\"\"\n",
    "SELECT t.contract_id,\n",
    "       c.name,\n",
    "       DATE_TRUNC('day', t.timestamp) as year_day_month,\n",
    "       SUM(t.volume) as total_volume,\n",
    "       SUM(t.num_trades) as total_num_trades,\n",
    "       SUM(t.unique_buyers) as total_unique_buyers\n",
    "FROM trade t\n",
    "INNER JOIN collection c ON c.contract_id = t.contract_id\n",
    "INNER JOIN network n ON n.network_id = c.network_id\n",
    "WHERE n.network_id = 'ethereum' \n",
    "AND c.name NOT IN ('','New 0x495f947276749Ce646f68AC8c248420045cb7b5eLock', 'pieceofshit', 'Uniswap V3 Positions NFT-V1','More Loot',\n",
    "                  'NFTfi Promissory Note','dementorstownwtf','ShitBeast','mcgoblintownwtf','LonelyPop','Pablos','For the Culture','Hype Pass', 'Moonbirds Oddities', 'AIMoonbirds', 'Bound NFT CloneX')\n",
    "GROUP BY t.contract_id, c.name, DATE_TRUNC('day', t.timestamp)\n",
    "HAVING MAX(avg_price) > 0\n",
    "ORDER BY DATE_TRUNC('day', t.timestamp)  ASC\n",
    "\"\"\""
   ]
  },
  {
   "cell_type": "code",
   "execution_count": 25,
   "id": "7432ca2b-4f83-4570-9569-57abada1db31",
   "metadata": {},
   "outputs": [
    {
     "data": {
      "text/html": [
       "<div>\n",
       "<style scoped>\n",
       "    .dataframe tbody tr th:only-of-type {\n",
       "        vertical-align: middle;\n",
       "    }\n",
       "\n",
       "    .dataframe tbody tr th {\n",
       "        vertical-align: top;\n",
       "    }\n",
       "\n",
       "    .dataframe thead th {\n",
       "        text-align: right;\n",
       "    }\n",
       "</style>\n",
       "<table border=\"1\" class=\"dataframe\">\n",
       "  <thead>\n",
       "    <tr style=\"text-align: right;\">\n",
       "      <th></th>\n",
       "      <th>contract_id</th>\n",
       "      <th>name</th>\n",
       "      <th>year_day_month</th>\n",
       "      <th>total_volume</th>\n",
       "      <th>total_num_trades</th>\n",
       "      <th>total_unique_buyers</th>\n",
       "    </tr>\n",
       "  </thead>\n",
       "  <tbody>\n",
       "    <tr>\n",
       "      <th>0</th>\n",
       "      <td>ethereum:b47e3cd837ddf8e4c57f05d70ab865de6e193bbb</td>\n",
       "      <td>CryptoPunks</td>\n",
       "      <td>2017-06-23</td>\n",
       "      <td>3</td>\n",
       "      <td>20</td>\n",
       "      <td>8</td>\n",
       "    </tr>\n",
       "    <tr>\n",
       "      <th>1</th>\n",
       "      <td>ethereum:b47e3cd837ddf8e4c57f05d70ab865de6e193bbb</td>\n",
       "      <td>CryptoPunks</td>\n",
       "      <td>2017-06-24</td>\n",
       "      <td>4</td>\n",
       "      <td>20</td>\n",
       "      <td>7</td>\n",
       "    </tr>\n",
       "    <tr>\n",
       "      <th>2</th>\n",
       "      <td>ethereum:b47e3cd837ddf8e4c57f05d70ab865de6e193bbb</td>\n",
       "      <td>CryptoPunks</td>\n",
       "      <td>2017-06-25</td>\n",
       "      <td>2</td>\n",
       "      <td>13</td>\n",
       "      <td>7</td>\n",
       "    </tr>\n",
       "    <tr>\n",
       "      <th>3</th>\n",
       "      <td>ethereum:b47e3cd837ddf8e4c57f05d70ab865de6e193bbb</td>\n",
       "      <td>CryptoPunks</td>\n",
       "      <td>2017-06-26</td>\n",
       "      <td>2</td>\n",
       "      <td>18</td>\n",
       "      <td>8</td>\n",
       "    </tr>\n",
       "    <tr>\n",
       "      <th>4</th>\n",
       "      <td>ethereum:b47e3cd837ddf8e4c57f05d70ab865de6e193bbb</td>\n",
       "      <td>CryptoPunks</td>\n",
       "      <td>2017-06-27</td>\n",
       "      <td>8</td>\n",
       "      <td>35</td>\n",
       "      <td>8</td>\n",
       "    </tr>\n",
       "    <tr>\n",
       "      <th>...</th>\n",
       "      <td>...</td>\n",
       "      <td>...</td>\n",
       "      <td>...</td>\n",
       "      <td>...</td>\n",
       "      <td>...</td>\n",
       "      <td>...</td>\n",
       "    </tr>\n",
       "    <tr>\n",
       "      <th>14613</th>\n",
       "      <td>ethereum:b852c6b5892256c264cc2c888ea462189154d8d7</td>\n",
       "      <td>Rektguy</td>\n",
       "      <td>2022-08-06</td>\n",
       "      <td>1</td>\n",
       "      <td>6</td>\n",
       "      <td>6</td>\n",
       "    </tr>\n",
       "    <tr>\n",
       "      <th>14614</th>\n",
       "      <td>ethereum:659a4bdaaacc62d2bd9cb18225d9c89b5b697a5a</td>\n",
       "      <td>We Are All Going to Die</td>\n",
       "      <td>2022-08-06</td>\n",
       "      <td>10</td>\n",
       "      <td>6</td>\n",
       "      <td>6</td>\n",
       "    </tr>\n",
       "    <tr>\n",
       "      <th>14615</th>\n",
       "      <td>ethereum:ed5af388653567af2f388e6224dc7c4b3241c544</td>\n",
       "      <td>Azuki</td>\n",
       "      <td>2022-08-06</td>\n",
       "      <td>54</td>\n",
       "      <td>6</td>\n",
       "      <td>6</td>\n",
       "    </tr>\n",
       "    <tr>\n",
       "      <th>14616</th>\n",
       "      <td>ethereum:60e4d786628fea6478f785a6d7e704777c86a7c6</td>\n",
       "      <td>MutantApeYachtClub</td>\n",
       "      <td>2022-08-06</td>\n",
       "      <td>241</td>\n",
       "      <td>9</td>\n",
       "      <td>9</td>\n",
       "    </tr>\n",
       "    <tr>\n",
       "      <th>14617</th>\n",
       "      <td>ethereum:5bd815fd6c096bab38b4c6553cfce3585194dff9</td>\n",
       "      <td>The Art of Seasons</td>\n",
       "      <td>2022-08-06</td>\n",
       "      <td>0</td>\n",
       "      <td>8</td>\n",
       "      <td>8</td>\n",
       "    </tr>\n",
       "  </tbody>\n",
       "</table>\n",
       "<p>14618 rows × 6 columns</p>\n",
       "</div>"
      ],
      "text/plain": [
       "                                             contract_id  \\\n",
       "0      ethereum:b47e3cd837ddf8e4c57f05d70ab865de6e193bbb   \n",
       "1      ethereum:b47e3cd837ddf8e4c57f05d70ab865de6e193bbb   \n",
       "2      ethereum:b47e3cd837ddf8e4c57f05d70ab865de6e193bbb   \n",
       "3      ethereum:b47e3cd837ddf8e4c57f05d70ab865de6e193bbb   \n",
       "4      ethereum:b47e3cd837ddf8e4c57f05d70ab865de6e193bbb   \n",
       "...                                                  ...   \n",
       "14613  ethereum:b852c6b5892256c264cc2c888ea462189154d8d7   \n",
       "14614  ethereum:659a4bdaaacc62d2bd9cb18225d9c89b5b697a5a   \n",
       "14615  ethereum:ed5af388653567af2f388e6224dc7c4b3241c544   \n",
       "14616  ethereum:60e4d786628fea6478f785a6d7e704777c86a7c6   \n",
       "14617  ethereum:5bd815fd6c096bab38b4c6553cfce3585194dff9   \n",
       "\n",
       "                          name year_day_month  total_volume  total_num_trades  \\\n",
       "0                  CryptoPunks     2017-06-23             3                20   \n",
       "1                  CryptoPunks     2017-06-24             4                20   \n",
       "2                  CryptoPunks     2017-06-25             2                13   \n",
       "3                  CryptoPunks     2017-06-26             2                18   \n",
       "4                  CryptoPunks     2017-06-27             8                35   \n",
       "...                        ...            ...           ...               ...   \n",
       "14613                  Rektguy     2022-08-06             1                 6   \n",
       "14614  We Are All Going to Die     2022-08-06            10                 6   \n",
       "14615                    Azuki     2022-08-06            54                 6   \n",
       "14616       MutantApeYachtClub     2022-08-06           241                 9   \n",
       "14617       The Art of Seasons     2022-08-06             0                 8   \n",
       "\n",
       "       total_unique_buyers  \n",
       "0                        8  \n",
       "1                        7  \n",
       "2                        7  \n",
       "3                        8  \n",
       "4                        8  \n",
       "...                    ...  \n",
       "14613                    6  \n",
       "14614                    6  \n",
       "14615                    6  \n",
       "14616                    9  \n",
       "14617                    8  \n",
       "\n",
       "[14618 rows x 6 columns]"
      ]
     },
     "execution_count": 25,
     "metadata": {},
     "output_type": "execute_result"
    }
   ],
   "source": [
    "os_top_collection_index_df = pd.read_sql_query(os_top_collection_index, con=engine)\n",
    "os_top_collection_index_df"
   ]
  },
  {
   "cell_type": "code",
   "execution_count": 26,
   "id": "d9085524-52c9-4f79-8322-370c5ed8537d",
   "metadata": {},
   "outputs": [
    {
     "data": {
      "text/html": [
       "<div>\n",
       "<style scoped>\n",
       "    .dataframe tbody tr th:only-of-type {\n",
       "        vertical-align: middle;\n",
       "    }\n",
       "\n",
       "    .dataframe tbody tr th {\n",
       "        vertical-align: top;\n",
       "    }\n",
       "\n",
       "    .dataframe thead th {\n",
       "        text-align: right;\n",
       "    }\n",
       "</style>\n",
       "<table border=\"1\" class=\"dataframe\">\n",
       "  <thead>\n",
       "    <tr style=\"text-align: right;\">\n",
       "      <th></th>\n",
       "      <th>contract_id</th>\n",
       "      <th>name</th>\n",
       "      <th>year_day_month</th>\n",
       "      <th>total_volume</th>\n",
       "      <th>total_num_trades</th>\n",
       "      <th>total_unique_buyers</th>\n",
       "    </tr>\n",
       "  </thead>\n",
       "  <tbody>\n",
       "    <tr>\n",
       "      <th>0</th>\n",
       "      <td>ethereum:b47e3cd837ddf8e4c57f05d70ab865de6e193bbb</td>\n",
       "      <td>CryptoPunks</td>\n",
       "      <td>2017-06-23</td>\n",
       "      <td>3</td>\n",
       "      <td>20</td>\n",
       "      <td>8</td>\n",
       "    </tr>\n",
       "    <tr>\n",
       "      <th>1</th>\n",
       "      <td>ethereum:b47e3cd837ddf8e4c57f05d70ab865de6e193bbb</td>\n",
       "      <td>CryptoPunks</td>\n",
       "      <td>2017-06-24</td>\n",
       "      <td>4</td>\n",
       "      <td>20</td>\n",
       "      <td>7</td>\n",
       "    </tr>\n",
       "    <tr>\n",
       "      <th>2</th>\n",
       "      <td>ethereum:b47e3cd837ddf8e4c57f05d70ab865de6e193bbb</td>\n",
       "      <td>CryptoPunks</td>\n",
       "      <td>2017-06-25</td>\n",
       "      <td>2</td>\n",
       "      <td>13</td>\n",
       "      <td>7</td>\n",
       "    </tr>\n",
       "    <tr>\n",
       "      <th>3</th>\n",
       "      <td>ethereum:b47e3cd837ddf8e4c57f05d70ab865de6e193bbb</td>\n",
       "      <td>CryptoPunks</td>\n",
       "      <td>2017-06-26</td>\n",
       "      <td>2</td>\n",
       "      <td>18</td>\n",
       "      <td>8</td>\n",
       "    </tr>\n",
       "    <tr>\n",
       "      <th>4</th>\n",
       "      <td>ethereum:b47e3cd837ddf8e4c57f05d70ab865de6e193bbb</td>\n",
       "      <td>CryptoPunks</td>\n",
       "      <td>2017-06-27</td>\n",
       "      <td>8</td>\n",
       "      <td>35</td>\n",
       "      <td>8</td>\n",
       "    </tr>\n",
       "    <tr>\n",
       "      <th>...</th>\n",
       "      <td>...</td>\n",
       "      <td>...</td>\n",
       "      <td>...</td>\n",
       "      <td>...</td>\n",
       "      <td>...</td>\n",
       "      <td>...</td>\n",
       "    </tr>\n",
       "    <tr>\n",
       "      <th>14584</th>\n",
       "      <td>ethereum:49cf6f5d44e70224e2e23fdcdd2c053f30ada28b</td>\n",
       "      <td>CloneX</td>\n",
       "      <td>2022-08-06</td>\n",
       "      <td>124</td>\n",
       "      <td>14</td>\n",
       "      <td>14</td>\n",
       "    </tr>\n",
       "    <tr>\n",
       "      <th>14586</th>\n",
       "      <td>ethereum:b47e3cd837ddf8e4c57f05d70ab865de6e193bbb</td>\n",
       "      <td>CryptoPunks</td>\n",
       "      <td>2022-08-06</td>\n",
       "      <td>1149</td>\n",
       "      <td>11</td>\n",
       "      <td>7</td>\n",
       "    </tr>\n",
       "    <tr>\n",
       "      <th>14598</th>\n",
       "      <td>ethereum:ba30e5f9bb24caa003e9f2f0497ad287fdf95623</td>\n",
       "      <td>BoredApeKennelClub</td>\n",
       "      <td>2022-08-06</td>\n",
       "      <td>93</td>\n",
       "      <td>7</td>\n",
       "      <td>7</td>\n",
       "    </tr>\n",
       "    <tr>\n",
       "      <th>14615</th>\n",
       "      <td>ethereum:ed5af388653567af2f388e6224dc7c4b3241c544</td>\n",
       "      <td>Azuki</td>\n",
       "      <td>2022-08-06</td>\n",
       "      <td>54</td>\n",
       "      <td>6</td>\n",
       "      <td>6</td>\n",
       "    </tr>\n",
       "    <tr>\n",
       "      <th>14616</th>\n",
       "      <td>ethereum:60e4d786628fea6478f785a6d7e704777c86a7c6</td>\n",
       "      <td>MutantApeYachtClub</td>\n",
       "      <td>2022-08-06</td>\n",
       "      <td>241</td>\n",
       "      <td>9</td>\n",
       "      <td>9</td>\n",
       "    </tr>\n",
       "  </tbody>\n",
       "</table>\n",
       "<p>4054 rows × 6 columns</p>\n",
       "</div>"
      ],
      "text/plain": [
       "                                             contract_id                name  \\\n",
       "0      ethereum:b47e3cd837ddf8e4c57f05d70ab865de6e193bbb         CryptoPunks   \n",
       "1      ethereum:b47e3cd837ddf8e4c57f05d70ab865de6e193bbb         CryptoPunks   \n",
       "2      ethereum:b47e3cd837ddf8e4c57f05d70ab865de6e193bbb         CryptoPunks   \n",
       "3      ethereum:b47e3cd837ddf8e4c57f05d70ab865de6e193bbb         CryptoPunks   \n",
       "4      ethereum:b47e3cd837ddf8e4c57f05d70ab865de6e193bbb         CryptoPunks   \n",
       "...                                                  ...                 ...   \n",
       "14584  ethereum:49cf6f5d44e70224e2e23fdcdd2c053f30ada28b              CloneX   \n",
       "14586  ethereum:b47e3cd837ddf8e4c57f05d70ab865de6e193bbb         CryptoPunks   \n",
       "14598  ethereum:ba30e5f9bb24caa003e9f2f0497ad287fdf95623  BoredApeKennelClub   \n",
       "14615  ethereum:ed5af388653567af2f388e6224dc7c4b3241c544               Azuki   \n",
       "14616  ethereum:60e4d786628fea6478f785a6d7e704777c86a7c6  MutantApeYachtClub   \n",
       "\n",
       "      year_day_month  total_volume  total_num_trades  total_unique_buyers  \n",
       "0         2017-06-23             3                20                    8  \n",
       "1         2017-06-24             4                20                    7  \n",
       "2         2017-06-25             2                13                    7  \n",
       "3         2017-06-26             2                18                    8  \n",
       "4         2017-06-27             8                35                    8  \n",
       "...              ...           ...               ...                  ...  \n",
       "14584     2022-08-06           124                14                   14  \n",
       "14586     2022-08-06          1149                11                    7  \n",
       "14598     2022-08-06            93                 7                    7  \n",
       "14615     2022-08-06            54                 6                    6  \n",
       "14616     2022-08-06           241                 9                    9  \n",
       "\n",
       "[4054 rows x 6 columns]"
      ]
     },
     "execution_count": 26,
     "metadata": {},
     "output_type": "execute_result"
    }
   ],
   "source": [
    "# filter the query for only the top ten collections listed on OpenSea\"\n",
    "os_top_collection_index_df = os_top_collection_index_df[os_top_collection_index_df['name'].str.contains('CryptoPunks|BoredApeYachtClub|MutantApeYachtClub|Otherdeed|Azuki|CloneX|Moonbirds|Doodles|Cool Cats|BoredApeKennelClub')==True]\n",
    "\n",
    "os_top_collection_index_df"
   ]
  },
  {
   "cell_type": "code",
   "execution_count": 27,
   "id": "bd7b77b2-1985-4f2d-b4f9-7717e320a0a3",
   "metadata": {},
   "outputs": [],
   "source": [
    "os_top_collection_index_df = os_top_collection_index_df[['year_day_month', 'total_volume', 'total_num_trades', 'total_unique_buyers']]"
   ]
  },
  {
   "cell_type": "code",
   "execution_count": 28,
   "id": "94faaed4-1e35-490b-8b77-af9bc2b16385",
   "metadata": {},
   "outputs": [],
   "source": [
    "os_top_collection_index_df.columns = ['date', 'volume', 'num_trades', 'unique_buyers']"
   ]
  },
  {
   "cell_type": "code",
   "execution_count": 29,
   "id": "a57215fd-7d68-4fff-a322-0b972a48ec23",
   "metadata": {},
   "outputs": [
    {
     "data": {
      "text/html": [
       "<div>\n",
       "<style scoped>\n",
       "    .dataframe tbody tr th:only-of-type {\n",
       "        vertical-align: middle;\n",
       "    }\n",
       "\n",
       "    .dataframe tbody tr th {\n",
       "        vertical-align: top;\n",
       "    }\n",
       "\n",
       "    .dataframe thead th {\n",
       "        text-align: right;\n",
       "    }\n",
       "</style>\n",
       "<table border=\"1\" class=\"dataframe\">\n",
       "  <thead>\n",
       "    <tr style=\"text-align: right;\">\n",
       "      <th></th>\n",
       "      <th>date</th>\n",
       "      <th>volume</th>\n",
       "      <th>num_trades</th>\n",
       "      <th>unique_buyers</th>\n",
       "    </tr>\n",
       "  </thead>\n",
       "  <tbody>\n",
       "    <tr>\n",
       "      <th>0</th>\n",
       "      <td>2017-06-23</td>\n",
       "      <td>3</td>\n",
       "      <td>20</td>\n",
       "      <td>8</td>\n",
       "    </tr>\n",
       "    <tr>\n",
       "      <th>1</th>\n",
       "      <td>2017-06-24</td>\n",
       "      <td>4</td>\n",
       "      <td>20</td>\n",
       "      <td>7</td>\n",
       "    </tr>\n",
       "    <tr>\n",
       "      <th>2</th>\n",
       "      <td>2017-06-25</td>\n",
       "      <td>2</td>\n",
       "      <td>13</td>\n",
       "      <td>7</td>\n",
       "    </tr>\n",
       "    <tr>\n",
       "      <th>3</th>\n",
       "      <td>2017-06-26</td>\n",
       "      <td>2</td>\n",
       "      <td>18</td>\n",
       "      <td>8</td>\n",
       "    </tr>\n",
       "    <tr>\n",
       "      <th>4</th>\n",
       "      <td>2017-06-27</td>\n",
       "      <td>8</td>\n",
       "      <td>35</td>\n",
       "      <td>8</td>\n",
       "    </tr>\n",
       "    <tr>\n",
       "      <th>...</th>\n",
       "      <td>...</td>\n",
       "      <td>...</td>\n",
       "      <td>...</td>\n",
       "      <td>...</td>\n",
       "    </tr>\n",
       "    <tr>\n",
       "      <th>14584</th>\n",
       "      <td>2022-08-06</td>\n",
       "      <td>124</td>\n",
       "      <td>14</td>\n",
       "      <td>14</td>\n",
       "    </tr>\n",
       "    <tr>\n",
       "      <th>14586</th>\n",
       "      <td>2022-08-06</td>\n",
       "      <td>1149</td>\n",
       "      <td>11</td>\n",
       "      <td>7</td>\n",
       "    </tr>\n",
       "    <tr>\n",
       "      <th>14598</th>\n",
       "      <td>2022-08-06</td>\n",
       "      <td>93</td>\n",
       "      <td>7</td>\n",
       "      <td>7</td>\n",
       "    </tr>\n",
       "    <tr>\n",
       "      <th>14615</th>\n",
       "      <td>2022-08-06</td>\n",
       "      <td>54</td>\n",
       "      <td>6</td>\n",
       "      <td>6</td>\n",
       "    </tr>\n",
       "    <tr>\n",
       "      <th>14616</th>\n",
       "      <td>2022-08-06</td>\n",
       "      <td>241</td>\n",
       "      <td>9</td>\n",
       "      <td>9</td>\n",
       "    </tr>\n",
       "  </tbody>\n",
       "</table>\n",
       "<p>4054 rows × 4 columns</p>\n",
       "</div>"
      ],
      "text/plain": [
       "            date  volume  num_trades  unique_buyers\n",
       "0     2017-06-23       3          20              8\n",
       "1     2017-06-24       4          20              7\n",
       "2     2017-06-25       2          13              7\n",
       "3     2017-06-26       2          18              8\n",
       "4     2017-06-27       8          35              8\n",
       "...          ...     ...         ...            ...\n",
       "14584 2022-08-06     124          14             14\n",
       "14586 2022-08-06    1149          11              7\n",
       "14598 2022-08-06      93           7              7\n",
       "14615 2022-08-06      54           6              6\n",
       "14616 2022-08-06     241           9              9\n",
       "\n",
       "[4054 rows x 4 columns]"
      ]
     },
     "execution_count": 29,
     "metadata": {},
     "output_type": "execute_result"
    }
   ],
   "source": [
    "os_top_collection_index_df"
   ]
  },
  {
   "cell_type": "code",
   "execution_count": 30,
   "id": "84b829c1-4b33-4ffe-b8ee-3dc6a2addbc4",
   "metadata": {},
   "outputs": [],
   "source": [
    "os_top_collection_index_df = os_top_collection_index_df[os_top_collection_index_df['date'] > '2020-12-31']"
   ]
  },
  {
   "cell_type": "code",
   "execution_count": 31,
   "id": "f9488479-eb43-47c5-bbc8-0d2bf52e3f4b",
   "metadata": {},
   "outputs": [],
   "source": [
    "os_top_collection_index_volume = os_top_collection_index_df.groupby('date')['volume'].sum()\n",
    "os_top_collection_index_num_trades = os_top_collection_index_df.groupby('date')['num_trades'].sum()\n",
    "os_top_collection_index_unique_buyers = os_top_collection_index_df.groupby('date')['unique_buyers'].sum()"
   ]
  },
  {
   "cell_type": "code",
   "execution_count": 32,
   "id": "757e1ac2-4e54-45ba-9c59-a74777a01697",
   "metadata": {},
   "outputs": [
    {
     "data": {
      "text/plain": [
       "date\n",
       "2021-01-01      3\n",
       "2021-01-02      4\n",
       "2021-01-03      5\n",
       "2021-01-04     11\n",
       "2021-01-05     15\n",
       "             ... \n",
       "2022-08-02     58\n",
       "2022-08-03     70\n",
       "2022-08-04    108\n",
       "2022-08-05    176\n",
       "2022-08-06    133\n",
       "Name: unique_buyers, Length: 583, dtype: int64"
      ]
     },
     "execution_count": 32,
     "metadata": {},
     "output_type": "execute_result"
    }
   ],
   "source": [
    "os_top_collection_index_unique_buyers"
   ]
  },
  {
   "cell_type": "markdown",
   "id": "e71a68e6-2394-4b17-976d-2ac7e882a9a9",
   "metadata": {},
   "source": [
    "# OPTION ONE"
   ]
  },
  {
   "cell_type": "code",
   "execution_count": 35,
   "id": "b6260959-aba7-407d-8aa4-ce34718d6f8c",
   "metadata": {},
   "outputs": [],
   "source": [
    "overlay_1 = os_top_collection_index_volume.hvplot(\n",
    "    height=700, \n",
    "    width=1000, \n",
    "    yformatter='%.0f', \n",
    "    ylabel = 'Volume in ETH', \n",
    "    xlabel = 'Date',\n",
    "    title = 'Open Sea Volume for Top Collections January 2021 to August 2022',\n",
    "    color = 'green',\n",
    "    label = 'Volume in ETH'\n",
    ")"
   ]
  },
  {
   "cell_type": "code",
   "execution_count": 37,
   "id": "7ccd40da-b206-4094-a2dd-44dabb581318",
   "metadata": {},
   "outputs": [
    {
     "data": {},
     "metadata": {},
     "output_type": "display_data"
    },
    {
     "data": {
      "application/vnd.holoviews_exec.v0+json": "",
      "text/html": [
       "<div id='1406'>\n",
       "\n",
       "\n",
       "\n",
       "\n",
       "\n",
       "  <div class=\"bk-root\" id=\"1849b5d8-8b91-4ea3-b946-9ec7f5de31b3\" data-root-id=\"1406\"></div>\n",
       "</div>\n",
       "<script type=\"application/javascript\">(function(root) {\n",
       "  function embed_document(root) {\n",
       "    var docs_json = {\"4eb99789-342e-4922-b5a4-31dc4805c318\":{\"defs\":[{\"extends\":null,\"module\":null,\"name\":\"ReactiveHTML1\",\"overrides\":[],\"properties\":[]},{\"extends\":null,\"module\":null,\"name\":\"FlexBox1\",\"overrides\":[],\"properties\":[{\"default\":\"flex-start\",\"kind\":null,\"name\":\"align_content\"},{\"default\":\"flex-start\",\"kind\":null,\"name\":\"align_items\"},{\"default\":\"row\",\"kind\":null,\"name\":\"flex_direction\"},{\"default\":\"wrap\",\"kind\":null,\"name\":\"flex_wrap\"},{\"default\":\"flex-start\",\"kind\":null,\"name\":\"justify_content\"}]},{\"extends\":null,\"module\":null,\"name\":\"GridStack1\",\"overrides\":[],\"properties\":[{\"default\":\"warn\",\"kind\":null,\"name\":\"mode\"},{\"default\":null,\"kind\":null,\"name\":\"ncols\"},{\"default\":null,\"kind\":null,\"name\":\"nrows\"},{\"default\":true,\"kind\":null,\"name\":\"allow_resize\"},{\"default\":true,\"kind\":null,\"name\":\"allow_drag\"},{\"default\":[],\"kind\":null,\"name\":\"state\"}]},{\"extends\":null,\"module\":null,\"name\":\"click1\",\"overrides\":[],\"properties\":[{\"default\":\"\",\"kind\":null,\"name\":\"terminal_output\"},{\"default\":\"\",\"kind\":null,\"name\":\"debug_name\"},{\"default\":0,\"kind\":null,\"name\":\"clears\"}]},{\"extends\":null,\"module\":null,\"name\":\"TemplateActions1\",\"overrides\":[],\"properties\":[{\"default\":0,\"kind\":null,\"name\":\"open_modal\"},{\"default\":0,\"kind\":null,\"name\":\"close_modal\"}]},{\"extends\":null,\"module\":null,\"name\":\"MaterialTemplateActions1\",\"overrides\":[],\"properties\":[{\"default\":0,\"kind\":null,\"name\":\"open_modal\"},{\"default\":0,\"kind\":null,\"name\":\"close_modal\"}]}],\"roots\":{\"references\":[{\"attributes\":{\"bottom_units\":\"screen\",\"coordinates\":null,\"fill_alpha\":0.5,\"fill_color\":\"lightgrey\",\"group\":null,\"left_units\":\"screen\",\"level\":\"overlay\",\"line_alpha\":1.0,\"line_color\":\"black\",\"line_dash\":[4,4],\"line_width\":2,\"right_units\":\"screen\",\"syncable\":false,\"top_units\":\"screen\"},\"id\":\"1433\",\"type\":\"BoxAnnotation\"},{\"attributes\":{},\"id\":\"1428\",\"type\":\"SaveTool\"},{\"attributes\":{},\"id\":\"1429\",\"type\":\"PanTool\"},{\"attributes\":{},\"id\":\"1456\",\"type\":\"AllLabels\"},{\"attributes\":{},\"id\":\"1479\",\"type\":\"YearsTicker\"},{\"attributes\":{},\"id\":\"1418\",\"type\":\"LinearScale\"},{\"attributes\":{},\"id\":\"1432\",\"type\":\"ResetTool\"},{\"attributes\":{},\"id\":\"1425\",\"type\":\"BasicTicker\"},{\"attributes\":{},\"id\":\"1430\",\"type\":\"WheelZoomTool\"},{\"attributes\":{\"axis_label\":\"Volume in ETH\",\"coordinates\":null,\"formatter\":{\"id\":\"1450\"},\"group\":null,\"major_label_policy\":{\"id\":\"1456\"},\"ticker\":{\"id\":\"1425\"}},\"id\":\"1424\",\"type\":\"LinearAxis\"},{\"attributes\":{\"overlay\":{\"id\":\"1433\"}},\"id\":\"1431\",\"type\":\"BoxZoomTool\"},{\"attributes\":{\"margin\":[5,5,5,5],\"name\":\"HSpacer01912\",\"sizing_mode\":\"stretch_width\"},\"id\":\"1501\",\"type\":\"Spacer\"},{\"attributes\":{\"end\":1659744000000.0,\"reset_end\":1659744000000.0,\"reset_start\":1609459200000.0,\"start\":1609459200000.0,\"tags\":[[[\"date\",\"date\",null]]]},\"id\":\"1408\",\"type\":\"Range1d\"},{\"attributes\":{\"children\":[{\"id\":\"1407\"},{\"id\":\"1411\"},{\"id\":\"1501\"}],\"margin\":[0,0,0,0],\"name\":\"Row01907\",\"tags\":[\"embedded\"]},\"id\":\"1406\",\"type\":\"Row\"},{\"attributes\":{\"margin\":[5,5,5,5],\"name\":\"HSpacer01911\",\"sizing_mode\":\"stretch_width\"},\"id\":\"1407\",\"type\":\"Spacer\"},{\"attributes\":{},\"id\":\"1465\",\"type\":\"UnionRenderers\"},{\"attributes\":{\"line_color\":\"green\",\"line_width\":2,\"x\":{\"field\":\"date\"},\"y\":{\"field\":\"volume\"}},\"id\":\"1444\",\"type\":\"Line\"},{\"attributes\":{},\"id\":\"1442\",\"type\":\"Selection\"},{\"attributes\":{\"base\":60,\"mantissas\":[1,2,5,10,15,20,30],\"max_interval\":1800000.0,\"min_interval\":1000.0,\"num_minor_ticks\":0},\"id\":\"1469\",\"type\":\"AdaptiveTicker\"},{\"attributes\":{\"days\":[1,2,3,4,5,6,7,8,9,10,11,12,13,14,15,16,17,18,19,20,21,22,23,24,25,26,27,28,29,30,31]},\"id\":\"1471\",\"type\":\"DaysTicker\"},{\"attributes\":{\"days\":[1,4,7,10,13,16,19,22,25,28]},\"id\":\"1472\",\"type\":\"DaysTicker\"},{\"attributes\":{\"data\":{\"date\":{\"__ndarray__\":\"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\",\"dtype\":\"float64\",\"order\":\"little\",\"shape\":[583]},\"volume\":[105,26,35,99,97,294,146,57,70,216,74,112,212,76,37,81,4,212,48,41,54,48,794,336,155,140,449,343,101,189,113,279,527,339,481,367,230,319,687,488,218,785,383,793,2127,1444,1052,2578,3151,3225,1956,6236,6245,2339,2123,1191,921,1469,1683,1191,2037,1537,1408,1899,527,777,1010,780,716,11730,5205,2158,2426,2492,1492,1993,1739,1397,1621,2378,798,1938,691,534,479,1056,1133,847,1249,601,596,469,377,426,976,642,508,4697,2526,1261,2075,2182,2588,1495,1595,1180,1077,1156,1448,1526,1017,1093,1171,686,415,972,2066,954,636,822,2438,2792,5534,1997,1153,889,506,1090,750,801,827,729,890,645,407,242,260,635,284,217,327,364,431,833,388,333,251,459,412,903,658,1041,586,491,241,464,714,1346,1043,478,589,731,322,399,350,921,947,1121,1037,2172,3339,2004,1104,1037,1038,2268,2838,1097,1297,1379,722,1236,937,512,1946,1448,1192,1969,901,1908,1550,1809,2231,2781,1972,3187,3714,5392,2234,3182,2534,1902,1190,1175,1081,1056,2328,1534,1111,2615,13388,17579,17824,3608,7827,17095,17033,18412,6300,5494,3575,4106,4386,2805,2809,2580,2250,2510,2117,2357,2660,7026,9354,4574,34535,19833,11591,9510,22586,67838,91994,21741,11330,10565,8663,7153,6775,6133,5884,4118,2495,2767,4063,3893,2480,5080,2426,4882,13299,3361,2574,2350,2553,3536,2606,3984,5997,5690,5592,2626,3381,4833,8497,8581,4494,4878,5418,5025,2443,2165,3681,1872,2326,1667,2093,2168,2690,1927,1811,4161,8155,3978,3860,3246,3516,6387,2526,2939,2968,3191,127603,3551,1767,2055,1889,1787,2693,2059,1773,2991,2543,3612,2769,3096,3217,3794,10528,12296,8704,11356,10885,7833,4441,3286,3108,3073,2123,2528,2760,2020,1694,2075,2625,2198,2674,2964,5400,3869,3131,4395,2283,2715,5890,3424,2500,4553,19255,15216,6755,5459,5424,3820,3279,2765,4265,5113,5432,9218,5195,9864,11277,6319,6281,7300,10230,15654,18242,16218,11354,9729,7474,7031,8092,10314,7936,6715,20682,9543,7601,9127,7005,6003,6777,7620,17067,19378,10611,9538,8522,26044,29605,19706,21755,24996,30850,42324,28308,14793,11275,11189,6784,7409,11512,6049,9830,5062,5104,14282,9669,5668,9464,6302,4858,4914,3633,5118,4142,4819,4689,10533,9396,4409,5759,3437,3182,4645,5046,5956,3177,2340,5641,5108,4460,3432,7577,10738,9542,4127,5191,15640,32772,24837,21122,9500,6723,7364,8973,16980,10441,9589,7308,6636,6616,7183,10904,17665,13682,18273,8328,8825,6347,5004,4259,3611,3957,6452,5934,8714,7485,6799,64032,32004,24349,22964,26057,29348,27429,28962,30897,30395,21968,14948,22989,28092,37908,224484,107701,50531,54572,31731,23238,22511,15656,33185,57629,34701,29126,30786,10986,9102,9480,9911,16343,12738,12642,8571,6648,6181,5966,6022,7759,8987,4461,5574,6894,9498,10462,4984,5049,3877,3845,6324,6732,4483,5363,5572,5751,6452,20652,16745,12589,9000,8660,15078,16574,13466,9011,8260,2788,3510,3141,5123,5028,4646,3210,3237,5746,2077,2592,3400,2899,3553,4487,5566,6938,12170,3333,6487,4698,3765,10781,8092,7310,3994,2585,1637,2004,1267,1019,1271,1578,1568,1610,1663,1444,333,1111,2031,996,1489,3147,2854,2384]},\"selected\":{\"id\":\"1442\"},\"selection_policy\":{\"id\":\"1465\"}},\"id\":\"1441\",\"type\":\"ColumnDataSource\"},{\"attributes\":{\"below\":[{\"id\":\"1420\"}],\"center\":[{\"id\":\"1423\"},{\"id\":\"1427\"}],\"height\":700,\"left\":[{\"id\":\"1424\"}],\"margin\":[5,5,5,5],\"min_border_bottom\":10,\"min_border_left\":10,\"min_border_right\":10,\"min_border_top\":10,\"renderers\":[{\"id\":\"1447\"}],\"sizing_mode\":\"fixed\",\"title\":{\"id\":\"1412\"},\"toolbar\":{\"id\":\"1434\"},\"width\":1000,\"x_range\":{\"id\":\"1408\"},\"x_scale\":{\"id\":\"1416\"},\"y_range\":{\"id\":\"1409\"},\"y_scale\":{\"id\":\"1418\"}},\"id\":\"1411\",\"subtype\":\"Figure\",\"type\":\"Plot\"},{\"attributes\":{\"end\":246932.0,\"reset_end\":246932.0,\"reset_start\":-22444.0,\"start\":-22444.0,\"tags\":[[[\"volume\",\"volume\",null]]]},\"id\":\"1409\",\"type\":\"Range1d\"},{\"attributes\":{\"callback\":null,\"formatters\":{\"@{date}\":\"datetime\"},\"renderers\":[{\"id\":\"1447\"}],\"tags\":[\"hv_created\"],\"tooltips\":[[\"date\",\"@{date}{%F %T}\"],[\"volume\",\"@{volume}\"]]},\"id\":\"1410\",\"type\":\"HoverTool\"},{\"attributes\":{\"base\":24,\"mantissas\":[1,2,4,6,8,12],\"max_interval\":43200000.0,\"min_interval\":3600000.0,\"num_minor_ticks\":0},\"id\":\"1470\",\"type\":\"AdaptiveTicker\"},{\"attributes\":{\"months\":[0,1,2,3,4,5,6,7,8,9,10,11]},\"id\":\"1475\",\"type\":\"MonthsTicker\"},{\"attributes\":{\"axis\":{\"id\":\"1420\"},\"coordinates\":null,\"grid_line_color\":null,\"group\":null,\"ticker\":null},\"id\":\"1423\",\"type\":\"Grid\"},{\"attributes\":{\"line_alpha\":0.1,\"line_color\":\"green\",\"line_width\":2,\"x\":{\"field\":\"date\"},\"y\":{\"field\":\"volume\"}},\"id\":\"1445\",\"type\":\"Line\"},{\"attributes\":{\"days\":[1,8,15,22]},\"id\":\"1473\",\"type\":\"DaysTicker\"},{\"attributes\":{\"format\":\"%.0f\"},\"id\":\"1450\",\"type\":\"PrintfTickFormatter\"},{\"attributes\":{\"days\":[1,15]},\"id\":\"1474\",\"type\":\"DaysTicker\"},{\"attributes\":{\"axis\":{\"id\":\"1424\"},\"coordinates\":null,\"dimension\":1,\"grid_line_color\":null,\"group\":null,\"ticker\":null},\"id\":\"1427\",\"type\":\"Grid\"},{\"attributes\":{},\"id\":\"1453\",\"type\":\"AllLabels\"},{\"attributes\":{\"num_minor_ticks\":5,\"tickers\":[{\"id\":\"1468\"},{\"id\":\"1469\"},{\"id\":\"1470\"},{\"id\":\"1471\"},{\"id\":\"1472\"},{\"id\":\"1473\"},{\"id\":\"1474\"},{\"id\":\"1475\"},{\"id\":\"1476\"},{\"id\":\"1477\"},{\"id\":\"1478\"},{\"id\":\"1479\"}]},\"id\":\"1421\",\"type\":\"DatetimeTicker\"},{\"attributes\":{\"months\":[0,2,4,6,8,10]},\"id\":\"1476\",\"type\":\"MonthsTicker\"},{\"attributes\":{\"mantissas\":[1,2,5],\"max_interval\":500.0,\"num_minor_ticks\":0},\"id\":\"1468\",\"type\":\"AdaptiveTicker\"},{\"attributes\":{\"line_color\":\"green\",\"line_width\":2,\"x\":{\"field\":\"date\"},\"y\":{\"field\":\"volume\"}},\"id\":\"1449\",\"type\":\"Line\"},{\"attributes\":{},\"id\":\"1452\",\"type\":\"DatetimeTickFormatter\"},{\"attributes\":{},\"id\":\"1416\",\"type\":\"LinearScale\"},{\"attributes\":{\"coordinates\":null,\"group\":null,\"text\":\"Open Sea Volume for Top Collections January 2021 to August 2022\",\"text_color\":\"black\",\"text_font_size\":\"12pt\"},\"id\":\"1412\",\"type\":\"Title\"},{\"attributes\":{\"axis_label\":\"Date\",\"coordinates\":null,\"formatter\":{\"id\":\"1452\"},\"group\":null,\"major_label_policy\":{\"id\":\"1453\"},\"ticker\":{\"id\":\"1421\"}},\"id\":\"1420\",\"type\":\"DatetimeAxis\"},{\"attributes\":{\"months\":[0,4,8]},\"id\":\"1477\",\"type\":\"MonthsTicker\"},{\"attributes\":{\"source\":{\"id\":\"1441\"}},\"id\":\"1448\",\"type\":\"CDSView\"},{\"attributes\":{\"line_alpha\":0.2,\"line_color\":\"green\",\"line_width\":2,\"x\":{\"field\":\"date\"},\"y\":{\"field\":\"volume\"}},\"id\":\"1446\",\"type\":\"Line\"},{\"attributes\":{\"months\":[0,6]},\"id\":\"1478\",\"type\":\"MonthsTicker\"},{\"attributes\":{\"coordinates\":null,\"data_source\":{\"id\":\"1441\"},\"glyph\":{\"id\":\"1444\"},\"group\":null,\"hover_glyph\":null,\"muted_glyph\":{\"id\":\"1446\"},\"nonselection_glyph\":{\"id\":\"1445\"},\"selection_glyph\":{\"id\":\"1449\"},\"view\":{\"id\":\"1448\"}},\"id\":\"1447\",\"type\":\"GlyphRenderer\"},{\"attributes\":{\"tools\":[{\"id\":\"1410\"},{\"id\":\"1428\"},{\"id\":\"1429\"},{\"id\":\"1430\"},{\"id\":\"1431\"},{\"id\":\"1432\"}]},\"id\":\"1434\",\"type\":\"Toolbar\"}],\"root_ids\":[\"1406\"]},\"title\":\"Bokeh Application\",\"version\":\"2.4.2\"}};\n",
       "    var render_items = [{\"docid\":\"4eb99789-342e-4922-b5a4-31dc4805c318\",\"root_ids\":[\"1406\"],\"roots\":{\"1406\":\"1849b5d8-8b91-4ea3-b946-9ec7f5de31b3\"}}];\n",
       "    root.Bokeh.embed.embed_items_notebook(docs_json, render_items);\n",
       "  }\n",
       "  if (root.Bokeh !== undefined && root.Bokeh.Panel !== undefined) {\n",
       "    embed_document(root);\n",
       "  } else {\n",
       "    var attempts = 0;\n",
       "    var timer = setInterval(function(root) {\n",
       "      if (root.Bokeh !== undefined && root.Bokeh.Panel !== undefined) {\n",
       "        clearInterval(timer);\n",
       "        embed_document(root);\n",
       "      } else if (document.readyState == \"complete\") {\n",
       "        attempts++;\n",
       "        if (attempts > 200) {\n",
       "          clearInterval(timer);\n",
       "          console.log(\"Bokeh: ERROR: Unable to run BokehJS code because BokehJS library is missing\");\n",
       "        }\n",
       "      }\n",
       "    }, 25, root)\n",
       "  }\n",
       "})(window);</script>"
      ],
      "text/plain": [
       ":Curve   [date]   (volume)"
      ]
     },
     "execution_count": 37,
     "metadata": {
      "application/vnd.holoviews_exec.v0+json": {
       "id": "1406"
      }
     },
     "output_type": "execute_result"
    }
   ],
   "source": [
    "overlay_1"
   ]
  },
  {
   "cell_type": "markdown",
   "id": "e09e0909-f71d-4af6-9567-238b5f3fb573",
   "metadata": {},
   "source": [
    "# OPTION 2"
   ]
  },
  {
   "cell_type": "code",
   "execution_count": 38,
   "id": "508b6558-6c04-4b6e-9822-fda899109a09",
   "metadata": {},
   "outputs": [],
   "source": [
    "overlay_2 = os_top_collection_index_num_trades.hvplot(\n",
    "    height=700, \n",
    "    width=1000, \n",
    "    yformatter='%.0f', \n",
    "    ylabel = 'Number of Trades', \n",
    "    xlabel = 'Date',\n",
    "    title = 'Open Sea Number of Trades for Top Collections January 2021 to August 2022',\n",
    "    color = 'blue',\n",
    "    label = 'Number of Trades'\n",
    ")"
   ]
  },
  {
   "cell_type": "code",
   "execution_count": 39,
   "id": "3290305c-48a8-4325-bd1c-9df0b423205d",
   "metadata": {},
   "outputs": [
    {
     "data": {},
     "metadata": {},
     "output_type": "display_data"
    },
    {
     "data": {
      "application/vnd.holoviews_exec.v0+json": "",
      "text/html": [
       "<div id='1608'>\n",
       "\n",
       "\n",
       "\n",
       "\n",
       "\n",
       "  <div class=\"bk-root\" id=\"93b8a417-043f-4758-ba7a-382393367e19\" data-root-id=\"1608\"></div>\n",
       "</div>\n",
       "<script type=\"application/javascript\">(function(root) {\n",
       "  function embed_document(root) {\n",
       "    var docs_json = {\"bc06e397-0b93-47ae-84fb-79cd33ad9ff5\":{\"defs\":[{\"extends\":null,\"module\":null,\"name\":\"ReactiveHTML1\",\"overrides\":[],\"properties\":[]},{\"extends\":null,\"module\":null,\"name\":\"FlexBox1\",\"overrides\":[],\"properties\":[{\"default\":\"flex-start\",\"kind\":null,\"name\":\"align_content\"},{\"default\":\"flex-start\",\"kind\":null,\"name\":\"align_items\"},{\"default\":\"row\",\"kind\":null,\"name\":\"flex_direction\"},{\"default\":\"wrap\",\"kind\":null,\"name\":\"flex_wrap\"},{\"default\":\"flex-start\",\"kind\":null,\"name\":\"justify_content\"}]},{\"extends\":null,\"module\":null,\"name\":\"GridStack1\",\"overrides\":[],\"properties\":[{\"default\":\"warn\",\"kind\":null,\"name\":\"mode\"},{\"default\":null,\"kind\":null,\"name\":\"ncols\"},{\"default\":null,\"kind\":null,\"name\":\"nrows\"},{\"default\":true,\"kind\":null,\"name\":\"allow_resize\"},{\"default\":true,\"kind\":null,\"name\":\"allow_drag\"},{\"default\":[],\"kind\":null,\"name\":\"state\"}]},{\"extends\":null,\"module\":null,\"name\":\"click1\",\"overrides\":[],\"properties\":[{\"default\":\"\",\"kind\":null,\"name\":\"terminal_output\"},{\"default\":\"\",\"kind\":null,\"name\":\"debug_name\"},{\"default\":0,\"kind\":null,\"name\":\"clears\"}]},{\"extends\":null,\"module\":null,\"name\":\"TemplateActions1\",\"overrides\":[],\"properties\":[{\"default\":0,\"kind\":null,\"name\":\"open_modal\"},{\"default\":0,\"kind\":null,\"name\":\"close_modal\"}]},{\"extends\":null,\"module\":null,\"name\":\"MaterialTemplateActions1\",\"overrides\":[],\"properties\":[{\"default\":0,\"kind\":null,\"name\":\"open_modal\"},{\"default\":0,\"kind\":null,\"name\":\"close_modal\"}]}],\"roots\":{\"references\":[{\"attributes\":{\"children\":[{\"id\":\"1609\"},{\"id\":\"1613\"},{\"id\":\"1703\"}],\"margin\":[0,0,0,0],\"name\":\"Row02084\",\"tags\":[\"embedded\"]},\"id\":\"1608\",\"type\":\"Row\"},{\"attributes\":{\"base\":60,\"mantissas\":[1,2,5,10,15,20,30],\"max_interval\":1800000.0,\"min_interval\":1000.0,\"num_minor_ticks\":0},\"id\":\"1671\",\"type\":\"AdaptiveTicker\"},{\"attributes\":{\"end\":1659744000000.0,\"reset_end\":1659744000000.0,\"reset_start\":1609459200000.0,\"start\":1609459200000.0,\"tags\":[[[\"date\",\"date\",null]]]},\"id\":\"1610\",\"type\":\"Range1d\"},{\"attributes\":{},\"id\":\"1681\",\"type\":\"YearsTicker\"},{\"attributes\":{\"format\":\"%.0f\"},\"id\":\"1652\",\"type\":\"PrintfTickFormatter\"},{\"attributes\":{\"mantissas\":[1,2,5],\"max_interval\":500.0,\"num_minor_ticks\":0},\"id\":\"1670\",\"type\":\"AdaptiveTicker\"},{\"attributes\":{},\"id\":\"1620\",\"type\":\"LinearScale\"},{\"attributes\":{\"tools\":[{\"id\":\"1612\"},{\"id\":\"1630\"},{\"id\":\"1631\"},{\"id\":\"1632\"},{\"id\":\"1633\"},{\"id\":\"1634\"}]},\"id\":\"1636\",\"type\":\"Toolbar\"},{\"attributes\":{\"data\":{\"date\":{\"__ndarray__\":\"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\",\"dtype\":\"float64\",\"order\":\"little\",\"shape\":[583]},\"num_trades\":[3,5,5,12,15,15,16,11,7,21,13,17,29,15,6,10,1,15,4,5,12,8,26,30,17,23,64,24,12,19,13,31,28,35,30,26,18,11,54,52,22,33,19,85,167,108,76,178,132,113,101,277,181,81,68,37,24,43,53,42,45,42,36,55,21,34,36,30,25,117,135,53,61,76,42,53,50,47,48,63,26,51,24,18,16,44,43,18,59,24,26,19,17,24,42,30,24,165,80,37,60,63,74,49,54,39,37,26,29,42,31,32,57,45,22,50,64,51,56,151,3839,1700,1301,404,289,214,169,120,140,87,73,71,98,68,70,95,64,88,66,92,101,86,84,116,93,67,83,148,155,604,475,527,303,184,126,257,353,531,280,165,142,145,85,136,98,206,170,227,406,827,725,499,227,240,230,662,817,349,237,235,171,2887,1415,594,2754,643,696,2306,521,960,645,434,507,525,454,944,652,1128,688,1003,732,371,250,213,142,195,296,242,187,145,422,644,1017,315,493,1522,862,718,415,366,282,297,212,198,679,256,199,140,129,129,148,353,569,382,940,1276,398,304,419,1905,11187,1491,870,697,639,533,326,405,367,292,270,248,289,177,205,484,253,332,391,231,261,200,155,362,202,217,259,261,357,195,163,164,186,191,151,245,188,210,146,150,289,164,113,123,115,153,161,144,109,2136,5226,773,736,475,710,1061,400,355,270,250,321,267,214,195,207,253,295,306,338,210,247,238,225,203,245,283,1067,1238,698,996,1023,730,381,254,240,250,200,232,174,139,120,140,198,166,186,204,238,211,150,180,121,145,153,172,161,699,2653,1517,651,467,529,351,257,252,329,380,454,472,425,830,1047,431,446,416,730,803,1238,1122,919,641,392,370,489,408,380,404,5860,2705,971,868,619,631,668,948,2546,2399,826,671,615,1438,2260,1222,999,1155,1301,1578,1214,653,551,543,308,376,539,269,314,262,239,244,344,279,461,291,226,212,195,224,196,244,257,690,434,164,162,146,155,198,229,308,176,133,288,243,216,249,255,311,398,200,259,656,1204,1029,848,360,272,307,406,743,442,374,277,222,264,247,439,638,449,790,303,393,216,170,155,139,124,242,216,283,237,265,11992,1956,1028,933,907,931,1247,979,929,1044,783,549,651,747,880,18424,8955,4226,3808,2595,1922,1619,1314,2942,4582,3001,3046,2174,1001,692,635,790,1278,937,935,710,541,570,557,502,629,731,416,427,504,616,617,364,408,314,291,318,382,357,290,363,467,529,1728,1444,893,660,613,683,861,851,583,373,199,169,120,281,834,317,239,186,196,135,156,174,212,216,251,237,246,321,176,192,190,155,225,364,265,262,203,116,137,101,85,129,105,136,112,117,105,22,59,71,64,84,119,188,144]},\"selected\":{\"id\":\"1644\"},\"selection_policy\":{\"id\":\"1667\"}},\"id\":\"1643\",\"type\":\"ColumnDataSource\"},{\"attributes\":{\"days\":[1,2,3,4,5,6,7,8,9,10,11,12,13,14,15,16,17,18,19,20,21,22,23,24,25,26,27,28,29,30,31]},\"id\":\"1673\",\"type\":\"DaysTicker\"},{\"attributes\":{\"axis_label\":\"Date\",\"coordinates\":null,\"formatter\":{\"id\":\"1654\"},\"group\":null,\"major_label_policy\":{\"id\":\"1655\"},\"ticker\":{\"id\":\"1623\"}},\"id\":\"1622\",\"type\":\"DatetimeAxis\"},{\"attributes\":{\"axis\":{\"id\":\"1626\"},\"coordinates\":null,\"dimension\":1,\"grid_line_color\":null,\"group\":null,\"ticker\":null},\"id\":\"1629\",\"type\":\"Grid\"},{\"attributes\":{\"line_alpha\":0.2,\"line_color\":\"blue\",\"line_width\":2,\"x\":{\"field\":\"date\"},\"y\":{\"field\":\"num_trades\"}},\"id\":\"1648\",\"type\":\"Line\"},{\"attributes\":{\"base\":24,\"mantissas\":[1,2,4,6,8,12],\"max_interval\":43200000.0,\"min_interval\":3600000.0,\"num_minor_ticks\":0},\"id\":\"1672\",\"type\":\"AdaptiveTicker\"},{\"attributes\":{\"end\":20266.3,\"reset_end\":20266.3,\"reset_start\":-1841.3000000000002,\"start\":-1841.3000000000002,\"tags\":[[[\"num_trades\",\"num_trades\",null]]]},\"id\":\"1611\",\"type\":\"Range1d\"},{\"attributes\":{},\"id\":\"1632\",\"type\":\"WheelZoomTool\"},{\"attributes\":{},\"id\":\"1627\",\"type\":\"BasicTicker\"},{\"attributes\":{},\"id\":\"1667\",\"type\":\"UnionRenderers\"},{\"attributes\":{\"line_alpha\":0.1,\"line_color\":\"blue\",\"line_width\":2,\"x\":{\"field\":\"date\"},\"y\":{\"field\":\"num_trades\"}},\"id\":\"1647\",\"type\":\"Line\"},{\"attributes\":{\"source\":{\"id\":\"1643\"}},\"id\":\"1650\",\"type\":\"CDSView\"},{\"attributes\":{\"line_color\":\"blue\",\"line_width\":2,\"x\":{\"field\":\"date\"},\"y\":{\"field\":\"num_trades\"}},\"id\":\"1646\",\"type\":\"Line\"},{\"attributes\":{\"bottom_units\":\"screen\",\"coordinates\":null,\"fill_alpha\":0.5,\"fill_color\":\"lightgrey\",\"group\":null,\"left_units\":\"screen\",\"level\":\"overlay\",\"line_alpha\":1.0,\"line_color\":\"black\",\"line_dash\":[4,4],\"line_width\":2,\"right_units\":\"screen\",\"syncable\":false,\"top_units\":\"screen\"},\"id\":\"1635\",\"type\":\"BoxAnnotation\"},{\"attributes\":{},\"id\":\"1654\",\"type\":\"DatetimeTickFormatter\"},{\"attributes\":{\"days\":[1,4,7,10,13,16,19,22,25,28]},\"id\":\"1674\",\"type\":\"DaysTicker\"},{\"attributes\":{},\"id\":\"1618\",\"type\":\"LinearScale\"},{\"attributes\":{},\"id\":\"1630\",\"type\":\"SaveTool\"},{\"attributes\":{\"axis\":{\"id\":\"1622\"},\"coordinates\":null,\"grid_line_color\":null,\"group\":null,\"ticker\":null},\"id\":\"1625\",\"type\":\"Grid\"},{\"attributes\":{},\"id\":\"1631\",\"type\":\"PanTool\"},{\"attributes\":{},\"id\":\"1634\",\"type\":\"ResetTool\"},{\"attributes\":{\"months\":[0,1,2,3,4,5,6,7,8,9,10,11]},\"id\":\"1677\",\"type\":\"MonthsTicker\"},{\"attributes\":{\"margin\":[5,5,5,5],\"name\":\"HSpacer02088\",\"sizing_mode\":\"stretch_width\"},\"id\":\"1609\",\"type\":\"Spacer\"},{\"attributes\":{},\"id\":\"1658\",\"type\":\"AllLabels\"},{\"attributes\":{\"days\":[1,8,15,22]},\"id\":\"1675\",\"type\":\"DaysTicker\"},{\"attributes\":{\"days\":[1,15]},\"id\":\"1676\",\"type\":\"DaysTicker\"},{\"attributes\":{\"overlay\":{\"id\":\"1635\"}},\"id\":\"1633\",\"type\":\"BoxZoomTool\"},{\"attributes\":{\"line_color\":\"blue\",\"line_width\":2,\"x\":{\"field\":\"date\"},\"y\":{\"field\":\"num_trades\"}},\"id\":\"1651\",\"type\":\"Line\"},{\"attributes\":{\"num_minor_ticks\":5,\"tickers\":[{\"id\":\"1670\"},{\"id\":\"1671\"},{\"id\":\"1672\"},{\"id\":\"1673\"},{\"id\":\"1674\"},{\"id\":\"1675\"},{\"id\":\"1676\"},{\"id\":\"1677\"},{\"id\":\"1678\"},{\"id\":\"1679\"},{\"id\":\"1680\"},{\"id\":\"1681\"}]},\"id\":\"1623\",\"type\":\"DatetimeTicker\"},{\"attributes\":{\"months\":[0,2,4,6,8,10]},\"id\":\"1678\",\"type\":\"MonthsTicker\"},{\"attributes\":{\"margin\":[5,5,5,5],\"name\":\"HSpacer02089\",\"sizing_mode\":\"stretch_width\"},\"id\":\"1703\",\"type\":\"Spacer\"},{\"attributes\":{\"axis_label\":\"Number of Trades\",\"coordinates\":null,\"formatter\":{\"id\":\"1652\"},\"group\":null,\"major_label_policy\":{\"id\":\"1658\"},\"ticker\":{\"id\":\"1627\"}},\"id\":\"1626\",\"type\":\"LinearAxis\"},{\"attributes\":{},\"id\":\"1644\",\"type\":\"Selection\"},{\"attributes\":{\"months\":[0,4,8]},\"id\":\"1679\",\"type\":\"MonthsTicker\"},{\"attributes\":{\"coordinates\":null,\"group\":null,\"text\":\"Open Sea Number of Trades for Top Collections January 2021 to August 2022\",\"text_color\":\"black\",\"text_font_size\":\"12pt\"},\"id\":\"1614\",\"type\":\"Title\"},{\"attributes\":{\"below\":[{\"id\":\"1622\"}],\"center\":[{\"id\":\"1625\"},{\"id\":\"1629\"}],\"height\":700,\"left\":[{\"id\":\"1626\"}],\"margin\":[5,5,5,5],\"min_border_bottom\":10,\"min_border_left\":10,\"min_border_right\":10,\"min_border_top\":10,\"renderers\":[{\"id\":\"1649\"}],\"sizing_mode\":\"fixed\",\"title\":{\"id\":\"1614\"},\"toolbar\":{\"id\":\"1636\"},\"width\":1000,\"x_range\":{\"id\":\"1610\"},\"x_scale\":{\"id\":\"1618\"},\"y_range\":{\"id\":\"1611\"},\"y_scale\":{\"id\":\"1620\"}},\"id\":\"1613\",\"subtype\":\"Figure\",\"type\":\"Plot\"},{\"attributes\":{},\"id\":\"1655\",\"type\":\"AllLabels\"},{\"attributes\":{\"months\":[0,6]},\"id\":\"1680\",\"type\":\"MonthsTicker\"},{\"attributes\":{\"coordinates\":null,\"data_source\":{\"id\":\"1643\"},\"glyph\":{\"id\":\"1646\"},\"group\":null,\"hover_glyph\":null,\"muted_glyph\":{\"id\":\"1648\"},\"nonselection_glyph\":{\"id\":\"1647\"},\"selection_glyph\":{\"id\":\"1651\"},\"view\":{\"id\":\"1650\"}},\"id\":\"1649\",\"type\":\"GlyphRenderer\"},{\"attributes\":{\"callback\":null,\"formatters\":{\"@{date}\":\"datetime\"},\"renderers\":[{\"id\":\"1649\"}],\"tags\":[\"hv_created\"],\"tooltips\":[[\"date\",\"@{date}{%F %T}\"],[\"num_trades\",\"@{num_trades}\"]]},\"id\":\"1612\",\"type\":\"HoverTool\"}],\"root_ids\":[\"1608\"]},\"title\":\"Bokeh Application\",\"version\":\"2.4.2\"}};\n",
       "    var render_items = [{\"docid\":\"bc06e397-0b93-47ae-84fb-79cd33ad9ff5\",\"root_ids\":[\"1608\"],\"roots\":{\"1608\":\"93b8a417-043f-4758-ba7a-382393367e19\"}}];\n",
       "    root.Bokeh.embed.embed_items_notebook(docs_json, render_items);\n",
       "  }\n",
       "  if (root.Bokeh !== undefined && root.Bokeh.Panel !== undefined) {\n",
       "    embed_document(root);\n",
       "  } else {\n",
       "    var attempts = 0;\n",
       "    var timer = setInterval(function(root) {\n",
       "      if (root.Bokeh !== undefined && root.Bokeh.Panel !== undefined) {\n",
       "        clearInterval(timer);\n",
       "        embed_document(root);\n",
       "      } else if (document.readyState == \"complete\") {\n",
       "        attempts++;\n",
       "        if (attempts > 200) {\n",
       "          clearInterval(timer);\n",
       "          console.log(\"Bokeh: ERROR: Unable to run BokehJS code because BokehJS library is missing\");\n",
       "        }\n",
       "      }\n",
       "    }, 25, root)\n",
       "  }\n",
       "})(window);</script>"
      ],
      "text/plain": [
       ":Curve   [date]   (num_trades)"
      ]
     },
     "execution_count": 39,
     "metadata": {
      "application/vnd.holoviews_exec.v0+json": {
       "id": "1608"
      }
     },
     "output_type": "execute_result"
    }
   ],
   "source": [
    "overlay_2"
   ]
  },
  {
   "cell_type": "markdown",
   "id": "563058ed-7bf7-4693-b7f5-7c5abaa2dbfe",
   "metadata": {},
   "source": [
    "# OPTION 3"
   ]
  },
  {
   "cell_type": "code",
   "execution_count": 40,
   "id": "648723a6-7827-47e1-bbb2-0faf0ce993a6",
   "metadata": {},
   "outputs": [],
   "source": [
    "overlay_3 = os_top_collection_index_unique_buyers.hvplot(\n",
    "    height=700, \n",
    "    width=1000, \n",
    "    yformatter='%.0f', \n",
    "    xlabel = 'Date',\n",
    "    ylabel = 'Nmber of Unique Buyers',\n",
    "    title = 'Open Sea Unique Buyers for Top Collections January 2021 to August 2022',\n",
    "    color = 'red',\n",
    "    label = 'Number of Unique Buyers',\n",
    ")"
   ]
  },
  {
   "cell_type": "code",
   "execution_count": 41,
   "id": "55abfb58-903a-4288-9c7e-2c5a553e613f",
   "metadata": {},
   "outputs": [
    {
     "data": {},
     "metadata": {},
     "output_type": "display_data"
    },
    {
     "data": {
      "application/vnd.holoviews_exec.v0+json": "",
      "text/html": [
       "<div id='1810'>\n",
       "\n",
       "\n",
       "\n",
       "\n",
       "\n",
       "  <div class=\"bk-root\" id=\"04a5bc7c-246b-4b35-b83d-fd1f9ca7cf26\" data-root-id=\"1810\"></div>\n",
       "</div>\n",
       "<script type=\"application/javascript\">(function(root) {\n",
       "  function embed_document(root) {\n",
       "    var docs_json = {\"7087f5c5-812f-4c9d-b00f-804863e9d6de\":{\"defs\":[{\"extends\":null,\"module\":null,\"name\":\"ReactiveHTML1\",\"overrides\":[],\"properties\":[]},{\"extends\":null,\"module\":null,\"name\":\"FlexBox1\",\"overrides\":[],\"properties\":[{\"default\":\"flex-start\",\"kind\":null,\"name\":\"align_content\"},{\"default\":\"flex-start\",\"kind\":null,\"name\":\"align_items\"},{\"default\":\"row\",\"kind\":null,\"name\":\"flex_direction\"},{\"default\":\"wrap\",\"kind\":null,\"name\":\"flex_wrap\"},{\"default\":\"flex-start\",\"kind\":null,\"name\":\"justify_content\"}]},{\"extends\":null,\"module\":null,\"name\":\"GridStack1\",\"overrides\":[],\"properties\":[{\"default\":\"warn\",\"kind\":null,\"name\":\"mode\"},{\"default\":null,\"kind\":null,\"name\":\"ncols\"},{\"default\":null,\"kind\":null,\"name\":\"nrows\"},{\"default\":true,\"kind\":null,\"name\":\"allow_resize\"},{\"default\":true,\"kind\":null,\"name\":\"allow_drag\"},{\"default\":[],\"kind\":null,\"name\":\"state\"}]},{\"extends\":null,\"module\":null,\"name\":\"click1\",\"overrides\":[],\"properties\":[{\"default\":\"\",\"kind\":null,\"name\":\"terminal_output\"},{\"default\":\"\",\"kind\":null,\"name\":\"debug_name\"},{\"default\":0,\"kind\":null,\"name\":\"clears\"}]},{\"extends\":null,\"module\":null,\"name\":\"TemplateActions1\",\"overrides\":[],\"properties\":[{\"default\":0,\"kind\":null,\"name\":\"open_modal\"},{\"default\":0,\"kind\":null,\"name\":\"close_modal\"}]},{\"extends\":null,\"module\":null,\"name\":\"MaterialTemplateActions1\",\"overrides\":[],\"properties\":[{\"default\":0,\"kind\":null,\"name\":\"open_modal\"},{\"default\":0,\"kind\":null,\"name\":\"close_modal\"}]}],\"roots\":{\"references\":[{\"attributes\":{},\"id\":\"1820\",\"type\":\"LinearScale\"},{\"attributes\":{\"mantissas\":[1,2,5],\"max_interval\":500.0,\"num_minor_ticks\":0},\"id\":\"1872\",\"type\":\"AdaptiveTicker\"},{\"attributes\":{},\"id\":\"1829\",\"type\":\"BasicTicker\"},{\"attributes\":{\"num_minor_ticks\":5,\"tickers\":[{\"id\":\"1872\"},{\"id\":\"1873\"},{\"id\":\"1874\"},{\"id\":\"1875\"},{\"id\":\"1876\"},{\"id\":\"1877\"},{\"id\":\"1878\"},{\"id\":\"1879\"},{\"id\":\"1880\"},{\"id\":\"1881\"},{\"id\":\"1882\"},{\"id\":\"1883\"}]},\"id\":\"1825\",\"type\":\"DatetimeTicker\"},{\"attributes\":{\"end\":11191.3,\"reset_end\":11191.3,\"reset_start\":-1016.3000000000001,\"start\":-1016.3000000000001,\"tags\":[[[\"unique_buyers\",\"unique_buyers\",null]]]},\"id\":\"1813\",\"type\":\"Range1d\"},{\"attributes\":{\"axis_label\":\"Nmber of Unique Buyers\",\"coordinates\":null,\"formatter\":{\"id\":\"1854\"},\"group\":null,\"major_label_policy\":{\"id\":\"1860\"},\"ticker\":{\"id\":\"1829\"}},\"id\":\"1828\",\"type\":\"LinearAxis\"},{\"attributes\":{\"axis\":{\"id\":\"1824\"},\"coordinates\":null,\"grid_line_color\":null,\"group\":null,\"ticker\":null},\"id\":\"1827\",\"type\":\"Grid\"},{\"attributes\":{\"days\":[1,2,3,4,5,6,7,8,9,10,11,12,13,14,15,16,17,18,19,20,21,22,23,24,25,26,27,28,29,30,31]},\"id\":\"1875\",\"type\":\"DaysTicker\"},{\"attributes\":{\"base\":24,\"mantissas\":[1,2,4,6,8,12],\"max_interval\":43200000.0,\"min_interval\":3600000.0,\"num_minor_ticks\":0},\"id\":\"1874\",\"type\":\"AdaptiveTicker\"},{\"attributes\":{},\"id\":\"1857\",\"type\":\"AllLabels\"},{\"attributes\":{\"below\":[{\"id\":\"1824\"}],\"center\":[{\"id\":\"1827\"},{\"id\":\"1831\"}],\"height\":700,\"left\":[{\"id\":\"1828\"}],\"margin\":[5,5,5,5],\"min_border_bottom\":10,\"min_border_left\":10,\"min_border_right\":10,\"min_border_top\":10,\"renderers\":[{\"id\":\"1851\"}],\"sizing_mode\":\"fixed\",\"title\":{\"id\":\"1816\"},\"toolbar\":{\"id\":\"1838\"},\"width\":1000,\"x_range\":{\"id\":\"1812\"},\"x_scale\":{\"id\":\"1820\"},\"y_range\":{\"id\":\"1813\"},\"y_scale\":{\"id\":\"1822\"}},\"id\":\"1815\",\"subtype\":\"Figure\",\"type\":\"Plot\"},{\"attributes\":{\"axis\":{\"id\":\"1828\"},\"coordinates\":null,\"dimension\":1,\"grid_line_color\":null,\"group\":null,\"ticker\":null},\"id\":\"1831\",\"type\":\"Grid\"},{\"attributes\":{\"line_alpha\":0.1,\"line_color\":\"red\",\"line_width\":2,\"x\":{\"field\":\"date\"},\"y\":{\"field\":\"unique_buyers\"}},\"id\":\"1849\",\"type\":\"Line\"},{\"attributes\":{\"source\":{\"id\":\"1845\"}},\"id\":\"1852\",\"type\":\"CDSView\"},{\"attributes\":{\"days\":[1,4,7,10,13,16,19,22,25,28]},\"id\":\"1876\",\"type\":\"DaysTicker\"},{\"attributes\":{\"format\":\"%.0f\"},\"id\":\"1854\",\"type\":\"PrintfTickFormatter\"},{\"attributes\":{\"base\":60,\"mantissas\":[1,2,5,10,15,20,30],\"max_interval\":1800000.0,\"min_interval\":1000.0,\"num_minor_ticks\":0},\"id\":\"1873\",\"type\":\"AdaptiveTicker\"},{\"attributes\":{},\"id\":\"1856\",\"type\":\"DatetimeTickFormatter\"},{\"attributes\":{\"months\":[0,1,2,3,4,5,6,7,8,9,10,11]},\"id\":\"1879\",\"type\":\"MonthsTicker\"},{\"attributes\":{\"coordinates\":null,\"data_source\":{\"id\":\"1845\"},\"glyph\":{\"id\":\"1848\"},\"group\":null,\"hover_glyph\":null,\"muted_glyph\":{\"id\":\"1850\"},\"nonselection_glyph\":{\"id\":\"1849\"},\"selection_glyph\":{\"id\":\"1853\"},\"view\":{\"id\":\"1852\"}},\"id\":\"1851\",\"type\":\"GlyphRenderer\"},{\"attributes\":{\"days\":[1,8,15,22]},\"id\":\"1877\",\"type\":\"DaysTicker\"},{\"attributes\":{\"line_color\":\"red\",\"line_width\":2,\"x\":{\"field\":\"date\"},\"y\":{\"field\":\"unique_buyers\"}},\"id\":\"1853\",\"type\":\"Line\"},{\"attributes\":{\"callback\":null,\"formatters\":{\"@{date}\":\"datetime\"},\"renderers\":[{\"id\":\"1851\"}],\"tags\":[\"hv_created\"],\"tooltips\":[[\"date\",\"@{date}{%F %T}\"],[\"unique_buyers\",\"@{unique_buyers}\"]]},\"id\":\"1814\",\"type\":\"HoverTool\"},{\"attributes\":{\"days\":[1,15]},\"id\":\"1878\",\"type\":\"DaysTicker\"},{\"attributes\":{\"tools\":[{\"id\":\"1814\"},{\"id\":\"1832\"},{\"id\":\"1833\"},{\"id\":\"1834\"},{\"id\":\"1835\"},{\"id\":\"1836\"}]},\"id\":\"1838\",\"type\":\"Toolbar\"},{\"attributes\":{\"line_alpha\":0.2,\"line_color\":\"red\",\"line_width\":2,\"x\":{\"field\":\"date\"},\"y\":{\"field\":\"unique_buyers\"}},\"id\":\"1850\",\"type\":\"Line\"},{\"attributes\":{},\"id\":\"1846\",\"type\":\"Selection\"},{\"attributes\":{\"bottom_units\":\"screen\",\"coordinates\":null,\"fill_alpha\":0.5,\"fill_color\":\"lightgrey\",\"group\":null,\"left_units\":\"screen\",\"level\":\"overlay\",\"line_alpha\":1.0,\"line_color\":\"black\",\"line_dash\":[4,4],\"line_width\":2,\"right_units\":\"screen\",\"syncable\":false,\"top_units\":\"screen\"},\"id\":\"1837\",\"type\":\"BoxAnnotation\"},{\"attributes\":{},\"id\":\"1832\",\"type\":\"SaveTool\"},{\"attributes\":{},\"id\":\"1883\",\"type\":\"YearsTicker\"},{\"attributes\":{\"line_color\":\"red\",\"line_width\":2,\"x\":{\"field\":\"date\"},\"y\":{\"field\":\"unique_buyers\"}},\"id\":\"1848\",\"type\":\"Line\"},{\"attributes\":{},\"id\":\"1833\",\"type\":\"PanTool\"},{\"attributes\":{\"months\":[0,2,4,6,8,10]},\"id\":\"1880\",\"type\":\"MonthsTicker\"},{\"attributes\":{},\"id\":\"1836\",\"type\":\"ResetTool\"},{\"attributes\":{},\"id\":\"1834\",\"type\":\"WheelZoomTool\"},{\"attributes\":{\"months\":[0,4,8]},\"id\":\"1881\",\"type\":\"MonthsTicker\"},{\"attributes\":{\"data\":{\"date\":{\"__ndarray__\":\"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\",\"dtype\":\"float64\",\"order\":\"little\",\"shape\":[583]},\"unique_buyers\":[3,4,5,11,15,8,11,11,7,14,10,9,22,11,6,8,1,13,2,4,10,7,22,24,10,18,41,20,9,12,9,20,13,30,16,16,14,10,32,31,17,21,12,56,98,64,61,91,93,73,55,149,118,57,47,33,23,31,41,39,39,30,33,46,19,24,30,22,16,74,87,46,50,49,36,42,42,34,40,57,26,35,23,18,15,33,33,15,49,22,20,14,15,15,26,26,23,91,66,34,46,54,56,39,40,35,28,20,23,30,25,23,42,39,20,44,54,48,52,115,1507,921,733,272,207,165,139,101,105,73,55,56,80,59,59,68,53,75,61,72,81,80,71,98,77,58,65,123,120,358,347,384,198,156,91,217,277,362,235,129,118,118,78,95,86,164,148,181,293,534,425,289,166,163,147,416,508,259,185,194,150,1195,564,303,941,379,405,1068,369,567,410,325,389,368,324,663,508,737,520,619,499,301,211,181,126,156,222,189,160,124,242,488,652,265,403,1044,632,543,324,274,233,244,169,161,472,219,171,124,114,112,116,283,435,268,724,908,323,237,324,1310,6670,1193,694,567,547,463,281,340,301,255,235,217,265,157,184,362,216,289,333,187,219,180,141,332,177,188,201,224,298,170,155,147,160,172,140,222,171,180,127,137,243,137,100,119,106,136,154,123,100,1608,3444,618,550,397,565,874,352,303,232,223,263,234,191,181,191,227,250,273,288,192,225,225,206,182,227,259,925,996,613,816,883,602,315,236,218,228,177,193,164,128,112,127,175,150,158,184,204,191,141,162,111,125,131,150,138,538,1830,1127,557,405,402,308,229,231,297,336,410,429,383,735,883,392,404,383,613,691,990,937,731,532,355,330,422,358,335,304,4477,2081,736,586,433,433,503,629,1683,1763,705,571,537,1099,1710,983,808,959,1062,1272,942,502,445,472,261,301,441,244,280,221,218,223,265,213,385,241,197,193,164,190,167,214,229,630,353,149,140,139,138,168,205,256,158,123,243,216,202,210,225,281,334,184,244,582,990,834,741,324,247,259,302,548,326,282,241,207,225,208,358,484,386,680,276,331,191,157,147,119,114,207,185,252,221,229,10174,1438,854,818,725,750,730,592,546,586,524,392,432,488,558,8618,5459,2800,2470,1519,1196,936,813,1814,2732,1723,1903,1462,656,463,429,477,686,622,539,497,371,335,351,320,465,499,301,307,366,411,380,251,256,222,190,224,257,251,209,239,338,406,1155,817,616,504,429,476,494,519,398,255,124,112,83,154,328,171,151,127,130,87,106,115,114,143,147,152,146,196,125,127,134,103,146,221,178,169,134,97,118,88,70,106,95,112,94,94,88,19,52,57,58,70,108,176,133]},\"selected\":{\"id\":\"1846\"},\"selection_policy\":{\"id\":\"1869\"}},\"id\":\"1845\",\"type\":\"ColumnDataSource\"},{\"attributes\":{\"overlay\":{\"id\":\"1837\"}},\"id\":\"1835\",\"type\":\"BoxZoomTool\"},{\"attributes\":{\"margin\":[5,5,5,5],\"name\":\"HSpacer02266\",\"sizing_mode\":\"stretch_width\"},\"id\":\"1905\",\"type\":\"Spacer\"},{\"attributes\":{},\"id\":\"1860\",\"type\":\"AllLabels\"},{\"attributes\":{\"months\":[0,6]},\"id\":\"1882\",\"type\":\"MonthsTicker\"},{\"attributes\":{\"children\":[{\"id\":\"1811\"},{\"id\":\"1815\"},{\"id\":\"1905\"}],\"margin\":[0,0,0,0],\"name\":\"Row02261\",\"tags\":[\"embedded\"]},\"id\":\"1810\",\"type\":\"Row\"},{\"attributes\":{\"coordinates\":null,\"group\":null,\"text\":\"Open Sea Unique Buyers for Top Collections January 2021 to August 2022\",\"text_color\":\"black\",\"text_font_size\":\"12pt\"},\"id\":\"1816\",\"type\":\"Title\"},{\"attributes\":{\"end\":1659744000000.0,\"reset_end\":1659744000000.0,\"reset_start\":1609459200000.0,\"start\":1609459200000.0,\"tags\":[[[\"date\",\"date\",null]]]},\"id\":\"1812\",\"type\":\"Range1d\"},{\"attributes\":{},\"id\":\"1869\",\"type\":\"UnionRenderers\"},{\"attributes\":{},\"id\":\"1822\",\"type\":\"LinearScale\"},{\"attributes\":{\"margin\":[5,5,5,5],\"name\":\"HSpacer02265\",\"sizing_mode\":\"stretch_width\"},\"id\":\"1811\",\"type\":\"Spacer\"},{\"attributes\":{\"axis_label\":\"Date\",\"coordinates\":null,\"formatter\":{\"id\":\"1856\"},\"group\":null,\"major_label_policy\":{\"id\":\"1857\"},\"ticker\":{\"id\":\"1825\"}},\"id\":\"1824\",\"type\":\"DatetimeAxis\"}],\"root_ids\":[\"1810\"]},\"title\":\"Bokeh Application\",\"version\":\"2.4.2\"}};\n",
       "    var render_items = [{\"docid\":\"7087f5c5-812f-4c9d-b00f-804863e9d6de\",\"root_ids\":[\"1810\"],\"roots\":{\"1810\":\"04a5bc7c-246b-4b35-b83d-fd1f9ca7cf26\"}}];\n",
       "    root.Bokeh.embed.embed_items_notebook(docs_json, render_items);\n",
       "  }\n",
       "  if (root.Bokeh !== undefined && root.Bokeh.Panel !== undefined) {\n",
       "    embed_document(root);\n",
       "  } else {\n",
       "    var attempts = 0;\n",
       "    var timer = setInterval(function(root) {\n",
       "      if (root.Bokeh !== undefined && root.Bokeh.Panel !== undefined) {\n",
       "        clearInterval(timer);\n",
       "        embed_document(root);\n",
       "      } else if (document.readyState == \"complete\") {\n",
       "        attempts++;\n",
       "        if (attempts > 200) {\n",
       "          clearInterval(timer);\n",
       "          console.log(\"Bokeh: ERROR: Unable to run BokehJS code because BokehJS library is missing\");\n",
       "        }\n",
       "      }\n",
       "    }, 25, root)\n",
       "  }\n",
       "})(window);</script>"
      ],
      "text/plain": [
       ":Curve   [date]   (unique_buyers)"
      ]
     },
     "execution_count": 41,
     "metadata": {
      "application/vnd.holoviews_exec.v0+json": {
       "id": "1810"
      }
     },
     "output_type": "execute_result"
    }
   ],
   "source": [
    "overlay_3"
   ]
  },
  {
   "cell_type": "markdown",
   "id": "8c2b8be4-f95d-46f7-a4e4-0289c9b44751",
   "metadata": {},
   "source": [
    "# OPTION 4"
   ]
  },
  {
   "cell_type": "code",
   "execution_count": 42,
   "id": "48f44da4-96d0-4b18-9bae-09596abbf665",
   "metadata": {},
   "outputs": [],
   "source": [
    "overlay = overlay_1 * overlay_2 * overlay_3"
   ]
  },
  {
   "cell_type": "code",
   "execution_count": 49,
   "id": "bb748330-88ea-41c0-b1f9-78b950018dc3",
   "metadata": {},
   "outputs": [
    {
     "data": {},
     "metadata": {},
     "output_type": "display_data"
    },
    {
     "data": {
      "application/vnd.holoviews_exec.v0+json": "",
      "text/html": [
       "<div id='4437'>\n",
       "\n",
       "\n",
       "\n",
       "\n",
       "\n",
       "  <div class=\"bk-root\" id=\"c8e63544-b331-4b25-a676-de9fc60900e8\" data-root-id=\"4437\"></div>\n",
       "</div>\n",
       "<script type=\"application/javascript\">(function(root) {\n",
       "  function embed_document(root) {\n",
       "    var docs_json = {\"e1b298fe-7b7e-484b-9cec-a7608cb2a062\":{\"defs\":[{\"extends\":null,\"module\":null,\"name\":\"ReactiveHTML1\",\"overrides\":[],\"properties\":[]},{\"extends\":null,\"module\":null,\"name\":\"FlexBox1\",\"overrides\":[],\"properties\":[{\"default\":\"flex-start\",\"kind\":null,\"name\":\"align_content\"},{\"default\":\"flex-start\",\"kind\":null,\"name\":\"align_items\"},{\"default\":\"row\",\"kind\":null,\"name\":\"flex_direction\"},{\"default\":\"wrap\",\"kind\":null,\"name\":\"flex_wrap\"},{\"default\":\"flex-start\",\"kind\":null,\"name\":\"justify_content\"}]},{\"extends\":null,\"module\":null,\"name\":\"GridStack1\",\"overrides\":[],\"properties\":[{\"default\":\"warn\",\"kind\":null,\"name\":\"mode\"},{\"default\":null,\"kind\":null,\"name\":\"ncols\"},{\"default\":null,\"kind\":null,\"name\":\"nrows\"},{\"default\":true,\"kind\":null,\"name\":\"allow_resize\"},{\"default\":true,\"kind\":null,\"name\":\"allow_drag\"},{\"default\":[],\"kind\":null,\"name\":\"state\"}]},{\"extends\":null,\"module\":null,\"name\":\"click1\",\"overrides\":[],\"properties\":[{\"default\":\"\",\"kind\":null,\"name\":\"terminal_output\"},{\"default\":\"\",\"kind\":null,\"name\":\"debug_name\"},{\"default\":0,\"kind\":null,\"name\":\"clears\"}]},{\"extends\":null,\"module\":null,\"name\":\"TemplateActions1\",\"overrides\":[],\"properties\":[{\"default\":0,\"kind\":null,\"name\":\"open_modal\"},{\"default\":0,\"kind\":null,\"name\":\"close_modal\"}]},{\"extends\":null,\"module\":null,\"name\":\"MaterialTemplateActions1\",\"overrides\":[],\"properties\":[{\"default\":0,\"kind\":null,\"name\":\"open_modal\"},{\"default\":0,\"kind\":null,\"name\":\"close_modal\"}]}],\"roots\":{\"references\":[{\"attributes\":{\"axis_label\":\"Date\",\"coordinates\":null,\"formatter\":{\"id\":\"4478\"},\"group\":null,\"major_label_policy\":{\"id\":\"4479\"},\"ticker\":{\"id\":\"4454\"}},\"id\":\"4453\",\"type\":\"DatetimeAxis\"},{\"attributes\":{\"days\":[1,4,7,10,13,16,19,22,25,28]},\"id\":\"4506\",\"type\":\"DaysTicker\"},{\"attributes\":{},\"id\":\"4449\",\"type\":\"LinearScale\"},{\"attributes\":{\"line_alpha\":0.2,\"line_color\":\"green\",\"line_width\":2,\"x\":{\"field\":\"date\"},\"y\":{\"field\":\"volume\"}},\"id\":\"4490\",\"type\":\"Line\"},{\"attributes\":{\"base\":24,\"mantissas\":[1,2,4,6,8,12],\"max_interval\":43200000.0,\"min_interval\":3600000.0,\"num_minor_ticks\":0},\"id\":\"4504\",\"type\":\"AdaptiveTicker\"},{\"attributes\":{\"months\":[0,1,2,3,4,5,6,7,8,9,10,11]},\"id\":\"4509\",\"type\":\"MonthsTicker\"},{\"attributes\":{\"coordinates\":null,\"group\":null,\"text\":\"Open Sea Top Collections January 2021 to August 2022\",\"text_color\":\"black\",\"text_font_size\":\"12pt\"},\"id\":\"4445\",\"type\":\"Title\"},{\"attributes\":{\"days\":[1,8,15,22]},\"id\":\"4507\",\"type\":\"DaysTicker\"},{\"attributes\":{},\"id\":\"4458\",\"type\":\"BasicTicker\"},{\"attributes\":{},\"id\":\"4499\",\"type\":\"UnionRenderers\"},{\"attributes\":{\"days\":[1,15]},\"id\":\"4508\",\"type\":\"DaysTicker\"},{\"attributes\":{\"num_minor_ticks\":5,\"tickers\":[{\"id\":\"4502\"},{\"id\":\"4503\"},{\"id\":\"4504\"},{\"id\":\"4505\"},{\"id\":\"4506\"},{\"id\":\"4507\"},{\"id\":\"4508\"},{\"id\":\"4509\"},{\"id\":\"4510\"},{\"id\":\"4511\"},{\"id\":\"4512\"},{\"id\":\"4513\"}]},\"id\":\"4454\",\"type\":\"DatetimeTicker\"},{\"attributes\":{\"days\":[1,2,3,4,5,6,7,8,9,10,11,12,13,14,15,16,17,18,19,20,21,22,23,24,25,26,27,28,29,30,31]},\"id\":\"4505\",\"type\":\"DaysTicker\"},{\"attributes\":{},\"id\":\"4518\",\"type\":\"Selection\"},{\"attributes\":{\"mantissas\":[1,2,5],\"max_interval\":500.0,\"num_minor_ticks\":0},\"id\":\"4502\",\"type\":\"AdaptiveTicker\"},{\"attributes\":{\"months\":[0,2,4,6,8,10]},\"id\":\"4510\",\"type\":\"MonthsTicker\"},{\"attributes\":{},\"id\":\"4451\",\"type\":\"LinearScale\"},{\"attributes\":{\"axis_label\":\"Volume in ETH\",\"coordinates\":null,\"formatter\":{\"id\":\"4476\"},\"group\":null,\"major_label_policy\":{\"id\":\"4482\"},\"ticker\":{\"id\":\"4458\"}},\"id\":\"4457\",\"type\":\"LinearAxis\"},{\"attributes\":{\"axis\":{\"id\":\"4453\"},\"coordinates\":null,\"grid_line_color\":null,\"group\":null,\"ticker\":null},\"id\":\"4456\",\"type\":\"Grid\"},{\"attributes\":{\"data\":{\"date\":{\"__ndarray__\":\"AAAA57Nrd0IAAMBMBmx3QgAAgLJYbHdCAABAGKtsd0IAAAB+/Wx3QgAAwONPbXdCAACASaJtd0IAAECv9G13QgAAABVHbndCAADAeplud0IAAIDg6253QgAAQEY+b3dCAAAArJBvd0IAAMAR4293QgAAgHc1cHdCAABA3Ydwd0IAAABD2nB3QgAAwKgscXdCAACADn9xd0IAAEB00XF3QgAAANojcndCAADAP3Zyd0IAAIClyHJ3QgAAQAsbc3dCAAAAcW1zd0IAAMDWv3N3QgAAgDwSdHdCAABAomR0d0IAAAAIt3R3QgAAwG0JdXdCAACA01t1d0IAAEA5rnV3QgAAAJ8AdndCAADABFN2d0IAAIBqpXZ3QgAAQND3dndCAAAANkp3d0IAAMCbnHd3QgAAgAHvd3dCAABAZ0F4d0IAAADNk3h3QgAAwDLmeHdCAACAmDh5d0IAAED+inl3QgAAAGTdeXdCAADAyS96d0IAAIAvgnp3QgAAQJXUendCAAAA+yZ7d0IAAMBgeXt3QgAAgMbLe3dCAABALB58d0IAAACScHx3QgAAwPfCfHdCAACAXRV9d0IAAEDDZ313QgAAACm6fXdCAADAjgx+d0IAAID0Xn53QgAAQFqxfndCAAAAwAN/d0IAAMAlVn93QgAAgIuof3dCAABA8fp/d0IAAABXTYB3QgAAwLyfgHdCAACAIvKAd0IAAECIRIF3QgAAAO6WgXdCAADAU+mBd0IAAIC5O4J3QgAAQB+OgndCAAAAheCCd0IAAMDqMoN3QgAAgFCFg3dCAABAtteDd0IAAAAcKoR3QgAAwIF8hHdCAACA586Ed0IAAEBNIYV3QgAAALNzhXdCAADAGMaFd0IAAIB+GIZ3QgAAQORqhndCAAAASr2Gd0IAAMCvD4d3QgAAgBVih3dCAABAe7SHd0IAAADhBoh3QgAAwEZZiHdCAACArKuId0IAAEAS/oh3QgAAAHhQiXdCAADA3aKJd0IAAIBD9Yl3QgAAQKlHindCAAAAD5qKd0IAAMB07Ip3QgAAgNo+i3dCAABAQJGLd0IAAACm44t3QgAAwAs2jHdCAACAcYiMd0IAAEDX2ox3QgAAAD0tjXdCAADAon+Nd0IAAIAI0o13QgAAQG4kjndCAAAA1HaOd0IAAMA5yY53QgAAgJ8bj3dCAABABW6Pd0IAAABrwI93QgAAwNASkHdCAACANmWQd0IAAECct5B3QgAAAAIKkXdCAADAZ1yRd0IAAIDNrpF3QgAAQDMBkndCAAAAmVOSd0IAAMD+pZJ3QgAAgGT4kndCAABAykqTd0IAAAAwnZN3QgAAwJXvk3dCAACA+0GUd0IAAEBhlJR3QgAAAMfmlHdCAADALDmVd0IAAICSi5V3QgAAQPjdlXdCAAAAXjCWd0IAAMDDgpZ3QgAAgCnVlndCAABAjyeXd0IAAAD1eZd3QgAAwFrMl3dCAACAwB6Yd0IAAEAmcZh3QgAAAIzDmHdCAADA8RWZd0IAAIBXaJl3QgAAQL26mXdCAAAAIw2ad0IAAMCIX5p3QgAAgO6xmndCAABAVASbd0IAAAC6Vpt3QgAAwB+pm3dCAACAhfubd0IAAEDrTZx3QgAAAFGgnHdCAADAtvKcd0IAAIAcRZ13QgAAQIKXnXdCAAAA6Omdd0IAAMBNPJ53QgAAgLOOnndCAABAGeGed0IAAAB/M593QgAAwOSFn3dCAACAStifd0IAAECwKqB3QgAAABZ9oHdCAADAe8+gd0IAAIDhIaF3QgAAQEd0oXdCAAAArcahd0IAAMASGaJ3QgAAgHhrondCAABA3r2id0IAAABEEKN3QgAAwKlio3dCAACAD7Wjd0IAAEB1B6R3QgAAANtZpHdCAADAQKykd0IAAICm/qR3QgAAQAxRpXdCAAAAcqOld0IAAMDX9aV3QgAAgD1IpndCAABAo5qmd0IAAAAJ7aZ3QgAAwG4/p3dCAACA1JGnd0IAAEA65Kd3QgAAAKA2qHdCAADABYmod0IAAIBr26h3QgAAQNEtqXdCAAAAN4Cpd0IAAMCc0ql3QgAAgAIlqndCAABAaHeqd0IAAADOyap3QgAAwDMcq3dCAACAmW6rd0IAAED/wKt3QgAAAGUTrHdCAADAymWsd0IAAIAwuKx3QgAAQJYKrXdCAAAA/Fytd0IAAMBhr613QgAAgMcBrndCAABALVSud0IAAACTpq53QgAAwPj4rndCAACAXkuvd0IAAEDEna93QgAAACrwr3dCAADAj0Kwd0IAAID1lLB3QgAAQFvnsHdCAAAAwTmxd0IAAMAmjLF3QgAAgIzesXdCAABA8jCyd0IAAABYg7J3QgAAwL3VsndCAACAIyizd0IAAECJerN3QgAAAO/Ms3dCAADAVB+0d0IAAIC6cbR3QgAAQCDEtHdCAAAAhha1d0IAAMDraLV3QgAAgFG7tXdCAABAtw22d0IAAAAdYLZ3QgAAwIKytndCAACA6AS3d0IAAEBOV7d3QgAAALSpt3dCAADAGfy3d0IAAIB/Trh3QgAAQOWguHdCAAAAS/O4d0IAAMCwRbl3QgAAgBaYuXdCAABAfOq5d0IAAADiPLp3QgAAwEePundCAACAreG6d0IAAEATNLt3QgAAAHmGu3dCAADA3ti7d0IAAIBEK7x3QgAAQKp9vHdCAAAAENC8d0IAAMB1Ir13QgAAgNt0vXdCAABAQce9d0IAAACnGb53QgAAwAxsvndCAACAcr6+d0IAAEDYEL93QgAAAD5jv3dCAADAo7W/d0IAAIAJCMB3QgAAQG9awHdCAAAA1azAd0IAAMA6/8B3QgAAgKBRwXdCAABABqTBd0IAAABs9sF3QgAAwNFIwndCAACAN5vCd0IAAECd7cJ3QgAAAANAw3dCAADAaJLDd0IAAIDO5MN3QgAAQDQ3xHdCAAAAmonEd0IAAMD/28R3QgAAgGUuxXdCAABAy4DFd0IAAAAx08V3QgAAwJYlxndCAACA/HfGd0IAAEBiysZ3QgAAAMgcx3dCAADALW/Hd0IAAICTwcd3QgAAQPkTyHdCAAAAX2bId0IAAMDEuMh3QgAAgCoLyXdCAABAkF3Jd0IAAAD2r8l3QgAAwFsCyndCAACAwVTKd0IAAEAnp8p3QgAAAI35yndCAADA8kvLd0IAAIBYnst3QgAAQL7wy3dCAAAAJEPMd0IAAMCJlcx3QgAAgO/nzHdCAABAVTrNd0IAAAC7jM13QgAAwCDfzXdCAACAhjHOd0IAAEDsg853QgAAAFLWzndCAADAtyjPd0IAAIAde893QgAAQIPNz3dCAAAA6R/Qd0IAAMBOctB3QgAAgLTE0HdCAABAGhfRd0IAAACAadF3QgAAwOW70XdCAACASw7Sd0IAAECxYNJ3QgAAABez0ndCAADAfAXTd0IAAIDiV9N3QgAAQEiq03dCAAAArvzTd0IAAMATT9R3QgAAgHmh1HdCAABA3/PUd0IAAABFRtV3QgAAwKqY1XdCAACAEOvVd0IAAEB2PdZ3QgAAANyP1ndCAADAQeLWd0IAAICnNNd3QgAAQA2H13dCAAAAc9nXd0IAAMDYK9h3QgAAgD5+2HdCAABApNDYd0IAAAAKI9l3QgAAwG912XdCAACA1cfZd0IAAEA7Gtp3QgAAAKFs2ndCAADABr/ad0IAAIBsEdt3QgAAQNJj23dCAAAAOLbbd0IAAMCdCNx3QgAAgANb3HdCAABAaa3cd0IAAADP/9x3QgAAwDRS3XdCAACAmqTdd0IAAEAA9913QgAAAGZJ3ndCAADAy5ved0IAAIAx7t53QgAAQJdA33dCAAAA/ZLfd0IAAMBi5d93QgAAgMg34HdCAABALorgd0IAAACU3OB3QgAAwPku4XdCAACAX4Hhd0IAAEDF0+F3QgAAACsm4ndCAADAkHjid0IAAID2yuJ3QgAAQFwd43dCAAAAwm/jd0IAAMAnwuN3QgAAgI0U5HdCAABA82bkd0IAAABZueR3QgAAwL4L5XdCAACAJF7ld0IAAECKsOV3QgAAAPAC5ndCAADAVVXmd0IAAIC7p+Z3QgAAQCH65ndCAAAAh0znd0IAAMDsnud3QgAAgFLx53dCAABAuEPod0IAAAAeluh3QgAAwIPo6HdCAACA6Trpd0IAAEBPjel3QgAAALXf6XdCAADAGjLqd0IAAICAhOp3QgAAQObW6ndCAAAATCnrd0IAAMCxe+t3QgAAgBfO63dCAABAfSDsd0IAAADjcux3QgAAwEjF7HdCAACArhftd0IAAEAUau13QgAAAHq87XdCAADA3w7ud0IAAIBFYe53QgAAQKuz7ndCAAAAEQbvd0IAAMB2WO93QgAAgNyq73dCAABAQv3vd0IAAACoT/B3QgAAwA2i8HdCAACAc/Twd0IAAEDZRvF3QgAAAD+Z8XdCAADApOvxd0IAAIAKPvJ3QgAAQHCQ8ndCAAAA1uLyd0IAAMA7NfN3QgAAgKGH83dCAABAB9rzd0IAAABtLPR3QgAAwNJ+9HdCAACAONH0d0IAAECeI/V3QgAAAAR29XdCAADAacj1d0IAAIDPGvZ3QgAAQDVt9ndCAAAAm7/2d0IAAMAAEvd3QgAAgGZk93dCAABAzLb3d0IAAAAyCfh3QgAAwJdb+HdCAACA/a34d0IAAEBjAPl3QgAAAMlS+XdCAADALqX5d0IAAICU9/l3QgAAQPpJ+ndCAAAAYJz6d0IAAMDF7vp3QgAAgCtB+3dCAABAkZP7d0IAAAD35ft3QgAAwFw4/HdCAACAwor8d0IAAEAo3fx3QgAAAI4v/XdCAADA84H9d0IAAIBZ1P13QgAAQL8m/ndCAAAAJXn+d0IAAMCKy/53QgAAgPAd/3dCAABAVnD/d0IAAAC8wv93QgAAwCEVAHhCAACAh2cAeEIAAEDtuQB4QgAAAFMMAXhCAADAuF4BeEIAAIAesQF4QgAAQIQDAnhCAAAA6lUCeEIAAMBPqAJ4QgAAgLX6AnhCAABAG00DeEIAAACBnwN4QgAAwObxA3hCAACATEQEeEIAAECylgR4QgAAABjpBHhCAADAfTsFeEIAAIDjjQV4QgAAQEngBXhCAAAArzIGeEIAAMAUhQZ4QgAAgHrXBnhCAABA4CkHeEIAAABGfAd4QgAAwKvOB3hCAACAESEIeEIAAEB3cwh4QgAAAN3FCHhCAADAQhgJeEIAAICoagl4QgAAQA69CXhCAAAAdA8KeEIAAMDZYQp4QgAAgD+0CnhCAABApQYLeEIAAAALWQt4QgAAwHCrC3hCAACA1v0LeEIAAEA8UAx4QgAAAKKiDHhCAADAB/UMeEIAAIBtRw14QgAAQNOZDXhCAAAAOewNeEIAAMCePg54QgAAgASRDnhCAABAauMOeEIAAADQNQ94QgAAwDWID3hCAACAm9oPeEIAAEABLRB4QgAAAGd/EHhCAADAzNEQeEIAAIAyJBF4QgAAQJh2EXhCAAAA/sgReEIAAMBjGxJ4QgAAgMltEnhCAABAL8ASeEIAAACVEhN4QgAAwPpkE3hCAACAYLcTeEIAAEDGCRR4QgAAACxcFHhCAADAka4UeEIAAID3ABV4QgAAQF1TFXhCAAAAw6UVeEIAAMAo+BV4QgAAgI5KFnhCAABA9JwWeEIAAABa7xZ4QgAAwL9BF3hCAACAJZQXeEIAAECL5hd4QgAAAPE4GHhCAADAVosYeEIAAIC83Rh4QgAAQCIwGXhCAAAAiIIZeEIAAMDt1Bl4QgAAgFMnGnhCAABAuXkaeEIAAAAfzBp4QgAAwIQeG3hCAACA6nAbeEIAAEBQwxt4QgAAALYVHHhCAADAG2gceEIAAICBuhx4QgAAQOcMHXhCAAAATV8deEIAAMCysR14QgAAgBgEHnhCAABAflYeeEIAAADkqB54QgAAwEn7HnhCAACAr00feEIAAEAVoB94QgAAAHvyH3hCAADA4EQgeEIAAIBGlyB4QgAAQKzpIHhCAAAAEjwheEIAAMB3jiF4QgAAgN3gIXhCAABAQzMieEIAAACphSJ4QgAAwA7YInhCAACAdCojeEIAAEDafCN4QgAAAEDPI3hCAADApSEkeEIAAIALdCR4QgAAQHHGJHhCAAAA1xgleEIAAMA8ayV4QgAAgKK9JXhCAABACBAmeEIAAABuYiZ4QgAAwNO0JnhCAACAOQcneEI=\",\"dtype\":\"float64\",\"order\":\"little\",\"shape\":[583]},\"volume\":[105,26,35,99,97,294,146,57,70,216,74,112,212,76,37,81,4,212,48,41,54,48,794,336,155,140,449,343,101,189,113,279,527,339,481,367,230,319,687,488,218,785,383,793,2127,1444,1052,2578,3151,3225,1956,6236,6245,2339,2123,1191,921,1469,1683,1191,2037,1537,1408,1899,527,777,1010,780,716,11730,5205,2158,2426,2492,1492,1993,1739,1397,1621,2378,798,1938,691,534,479,1056,1133,847,1249,601,596,469,377,426,976,642,508,4697,2526,1261,2075,2182,2588,1495,1595,1180,1077,1156,1448,1526,1017,1093,1171,686,415,972,2066,954,636,822,2438,2792,5534,1997,1153,889,506,1090,750,801,827,729,890,645,407,242,260,635,284,217,327,364,431,833,388,333,251,459,412,903,658,1041,586,491,241,464,714,1346,1043,478,589,731,322,399,350,921,947,1121,1037,2172,3339,2004,1104,1037,1038,2268,2838,1097,1297,1379,722,1236,937,512,1946,1448,1192,1969,901,1908,1550,1809,2231,2781,1972,3187,3714,5392,2234,3182,2534,1902,1190,1175,1081,1056,2328,1534,1111,2615,13388,17579,17824,3608,7827,17095,17033,18412,6300,5494,3575,4106,4386,2805,2809,2580,2250,2510,2117,2357,2660,7026,9354,4574,34535,19833,11591,9510,22586,67838,91994,21741,11330,10565,8663,7153,6775,6133,5884,4118,2495,2767,4063,3893,2480,5080,2426,4882,13299,3361,2574,2350,2553,3536,2606,3984,5997,5690,5592,2626,3381,4833,8497,8581,4494,4878,5418,5025,2443,2165,3681,1872,2326,1667,2093,2168,2690,1927,1811,4161,8155,3978,3860,3246,3516,6387,2526,2939,2968,3191,127603,3551,1767,2055,1889,1787,2693,2059,1773,2991,2543,3612,2769,3096,3217,3794,10528,12296,8704,11356,10885,7833,4441,3286,3108,3073,2123,2528,2760,2020,1694,2075,2625,2198,2674,2964,5400,3869,3131,4395,2283,2715,5890,3424,2500,4553,19255,15216,6755,5459,5424,3820,3279,2765,4265,5113,5432,9218,5195,9864,11277,6319,6281,7300,10230,15654,18242,16218,11354,9729,7474,7031,8092,10314,7936,6715,20682,9543,7601,9127,7005,6003,6777,7620,17067,19378,10611,9538,8522,26044,29605,19706,21755,24996,30850,42324,28308,14793,11275,11189,6784,7409,11512,6049,9830,5062,5104,14282,9669,5668,9464,6302,4858,4914,3633,5118,4142,4819,4689,10533,9396,4409,5759,3437,3182,4645,5046,5956,3177,2340,5641,5108,4460,3432,7577,10738,9542,4127,5191,15640,32772,24837,21122,9500,6723,7364,8973,16980,10441,9589,7308,6636,6616,7183,10904,17665,13682,18273,8328,8825,6347,5004,4259,3611,3957,6452,5934,8714,7485,6799,64032,32004,24349,22964,26057,29348,27429,28962,30897,30395,21968,14948,22989,28092,37908,224484,107701,50531,54572,31731,23238,22511,15656,33185,57629,34701,29126,30786,10986,9102,9480,9911,16343,12738,12642,8571,6648,6181,5966,6022,7759,8987,4461,5574,6894,9498,10462,4984,5049,3877,3845,6324,6732,4483,5363,5572,5751,6452,20652,16745,12589,9000,8660,15078,16574,13466,9011,8260,2788,3510,3141,5123,5028,4646,3210,3237,5746,2077,2592,3400,2899,3553,4487,5566,6938,12170,3333,6487,4698,3765,10781,8092,7310,3994,2585,1637,2004,1267,1019,1271,1578,1568,1610,1663,1444,333,1111,2031,996,1489,3147,2854,2384]},\"selected\":{\"id\":\"4486\"},\"selection_policy\":{\"id\":\"4499\"}},\"id\":\"4485\",\"type\":\"ColumnDataSource\"},{\"attributes\":{\"months\":[0,4,8]},\"id\":\"4511\",\"type\":\"MonthsTicker\"},{\"attributes\":{},\"id\":\"4551\",\"type\":\"Selection\"},{\"attributes\":{\"base\":60,\"mantissas\":[1,2,5,10,15,20,30],\"max_interval\":1800000.0,\"min_interval\":1000.0,\"num_minor_ticks\":0},\"id\":\"4503\",\"type\":\"AdaptiveTicker\"},{\"attributes\":{\"label\":{\"value\":\"Number of Unique Buyers\"},\"renderers\":[{\"id\":\"4556\"}]},\"id\":\"4583\",\"type\":\"LegendItem\"},{\"attributes\":{\"months\":[0,6]},\"id\":\"4512\",\"type\":\"MonthsTicker\"},{\"attributes\":{\"axis\":{\"id\":\"4457\"},\"coordinates\":null,\"dimension\":1,\"grid_line_color\":null,\"group\":null,\"ticker\":null},\"id\":\"4460\",\"type\":\"Grid\"},{\"attributes\":{\"coordinates\":null,\"data_source\":{\"id\":\"4485\"},\"glyph\":{\"id\":\"4488\"},\"group\":null,\"hover_glyph\":null,\"muted_glyph\":{\"id\":\"4490\"},\"nonselection_glyph\":{\"id\":\"4489\"},\"selection_glyph\":{\"id\":\"4516\"},\"view\":{\"id\":\"4492\"}},\"id\":\"4491\",\"type\":\"GlyphRenderer\"},{\"attributes\":{},\"id\":\"4513\",\"type\":\"YearsTicker\"},{\"attributes\":{\"click_policy\":\"mute\",\"coordinates\":null,\"group\":null,\"items\":[{\"id\":\"4515\"},{\"id\":\"4548\"},{\"id\":\"4583\"}],\"location\":\"top_left\"},\"id\":\"4514\",\"type\":\"Legend\"},{\"attributes\":{\"line_alpha\":0.2,\"line_color\":\"blue\",\"line_width\":2,\"x\":{\"field\":\"date\"},\"y\":{\"field\":\"num_trades\"}},\"id\":\"4522\",\"type\":\"Line\"},{\"attributes\":{\"data\":{\"date\":{\"__ndarray__\":\"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\",\"dtype\":\"float64\",\"order\":\"little\",\"shape\":[583]},\"unique_buyers\":[3,4,5,11,15,8,11,11,7,14,10,9,22,11,6,8,1,13,2,4,10,7,22,24,10,18,41,20,9,12,9,20,13,30,16,16,14,10,32,31,17,21,12,56,98,64,61,91,93,73,55,149,118,57,47,33,23,31,41,39,39,30,33,46,19,24,30,22,16,74,87,46,50,49,36,42,42,34,40,57,26,35,23,18,15,33,33,15,49,22,20,14,15,15,26,26,23,91,66,34,46,54,56,39,40,35,28,20,23,30,25,23,42,39,20,44,54,48,52,115,1507,921,733,272,207,165,139,101,105,73,55,56,80,59,59,68,53,75,61,72,81,80,71,98,77,58,65,123,120,358,347,384,198,156,91,217,277,362,235,129,118,118,78,95,86,164,148,181,293,534,425,289,166,163,147,416,508,259,185,194,150,1195,564,303,941,379,405,1068,369,567,410,325,389,368,324,663,508,737,520,619,499,301,211,181,126,156,222,189,160,124,242,488,652,265,403,1044,632,543,324,274,233,244,169,161,472,219,171,124,114,112,116,283,435,268,724,908,323,237,324,1310,6670,1193,694,567,547,463,281,340,301,255,235,217,265,157,184,362,216,289,333,187,219,180,141,332,177,188,201,224,298,170,155,147,160,172,140,222,171,180,127,137,243,137,100,119,106,136,154,123,100,1608,3444,618,550,397,565,874,352,303,232,223,263,234,191,181,191,227,250,273,288,192,225,225,206,182,227,259,925,996,613,816,883,602,315,236,218,228,177,193,164,128,112,127,175,150,158,184,204,191,141,162,111,125,131,150,138,538,1830,1127,557,405,402,308,229,231,297,336,410,429,383,735,883,392,404,383,613,691,990,937,731,532,355,330,422,358,335,304,4477,2081,736,586,433,433,503,629,1683,1763,705,571,537,1099,1710,983,808,959,1062,1272,942,502,445,472,261,301,441,244,280,221,218,223,265,213,385,241,197,193,164,190,167,214,229,630,353,149,140,139,138,168,205,256,158,123,243,216,202,210,225,281,334,184,244,582,990,834,741,324,247,259,302,548,326,282,241,207,225,208,358,484,386,680,276,331,191,157,147,119,114,207,185,252,221,229,10174,1438,854,818,725,750,730,592,546,586,524,392,432,488,558,8618,5459,2800,2470,1519,1196,936,813,1814,2732,1723,1903,1462,656,463,429,477,686,622,539,497,371,335,351,320,465,499,301,307,366,411,380,251,256,222,190,224,257,251,209,239,338,406,1155,817,616,504,429,476,494,519,398,255,124,112,83,154,328,171,151,127,130,87,106,115,114,143,147,152,146,196,125,127,134,103,146,221,178,169,134,97,118,88,70,106,95,112,94,94,88,19,52,57,58,70,108,176,133]},\"selected\":{\"id\":\"4551\"},\"selection_policy\":{\"id\":\"4568\"}},\"id\":\"4550\",\"type\":\"ColumnDataSource\"},{\"attributes\":{},\"id\":\"4478\",\"type\":\"DatetimeTickFormatter\"},{\"attributes\":{},\"id\":\"4479\",\"type\":\"AllLabels\"},{\"attributes\":{},\"id\":\"4482\",\"type\":\"AllLabels\"},{\"attributes\":{\"bottom_units\":\"screen\",\"coordinates\":null,\"fill_alpha\":0.5,\"fill_color\":\"lightgrey\",\"group\":null,\"left_units\":\"screen\",\"level\":\"overlay\",\"line_alpha\":1.0,\"line_color\":\"black\",\"line_dash\":[4,4],\"line_width\":2,\"right_units\":\"screen\",\"syncable\":false,\"top_units\":\"screen\"},\"id\":\"4466\",\"type\":\"BoxAnnotation\"},{\"attributes\":{\"line_color\":\"blue\",\"line_width\":2,\"x\":{\"field\":\"date\"},\"y\":{\"field\":\"num_trades\"}},\"id\":\"4520\",\"type\":\"Line\"},{\"attributes\":{},\"id\":\"4461\",\"type\":\"SaveTool\"},{\"attributes\":{\"label\":{\"value\":\"Volume in ETH\"},\"renderers\":[{\"id\":\"4491\"}]},\"id\":\"4515\",\"type\":\"LegendItem\"},{\"attributes\":{\"end\":1659744000000.0,\"reset_end\":1659744000000.0,\"reset_start\":1609459200000.0,\"start\":1609459200000.0,\"tags\":[[[\"date\",\"date\",null]]]},\"id\":\"4439\",\"type\":\"Range1d\"},{\"attributes\":{},\"id\":\"4462\",\"type\":\"PanTool\"},{\"attributes\":{\"line_color\":\"blue\",\"line_width\":2,\"x\":{\"field\":\"date\"},\"y\":{\"field\":\"num_trades\"}},\"id\":\"4549\",\"type\":\"Line\"},{\"attributes\":{},\"id\":\"4463\",\"type\":\"WheelZoomTool\"},{\"attributes\":{\"line_alpha\":0.1,\"line_color\":\"blue\",\"line_width\":2,\"x\":{\"field\":\"date\"},\"y\":{\"field\":\"num_trades\"}},\"id\":\"4521\",\"type\":\"Line\"},{\"attributes\":{\"below\":[{\"id\":\"4453\"}],\"center\":[{\"id\":\"4456\"},{\"id\":\"4460\"},{\"id\":\"4514\"}],\"height\":700,\"left\":[{\"id\":\"4457\"}],\"margin\":[5,5,5,5],\"min_border_bottom\":10,\"min_border_left\":10,\"min_border_right\":10,\"min_border_top\":10,\"renderers\":[{\"id\":\"4491\"},{\"id\":\"4523\"},{\"id\":\"4556\"}],\"sizing_mode\":\"fixed\",\"title\":{\"id\":\"4445\"},\"toolbar\":{\"id\":\"4467\"},\"width\":1000,\"x_range\":{\"id\":\"4439\"},\"x_scale\":{\"id\":\"4449\"},\"y_range\":{\"id\":\"4440\"},\"y_scale\":{\"id\":\"4451\"}},\"id\":\"4444\",\"subtype\":\"Figure\",\"type\":\"Plot\"},{\"attributes\":{\"margin\":[5,5,5,5],\"name\":\"HSpacer04875\",\"sizing_mode\":\"stretch_width\"},\"id\":\"4438\",\"type\":\"Spacer\"},{\"attributes\":{\"overlay\":{\"id\":\"4466\"}},\"id\":\"4464\",\"type\":\"BoxZoomTool\"},{\"attributes\":{},\"id\":\"4465\",\"type\":\"ResetTool\"},{\"attributes\":{},\"id\":\"4486\",\"type\":\"Selection\"},{\"attributes\":{\"source\":{\"id\":\"4485\"}},\"id\":\"4492\",\"type\":\"CDSView\"},{\"attributes\":{\"line_color\":\"green\",\"line_width\":2,\"x\":{\"field\":\"date\"},\"y\":{\"field\":\"volume\"}},\"id\":\"4516\",\"type\":\"Line\"},{\"attributes\":{\"coordinates\":null,\"data_source\":{\"id\":\"4517\"},\"glyph\":{\"id\":\"4520\"},\"group\":null,\"hover_glyph\":null,\"muted_glyph\":{\"id\":\"4522\"},\"nonselection_glyph\":{\"id\":\"4521\"},\"selection_glyph\":{\"id\":\"4549\"},\"view\":{\"id\":\"4524\"}},\"id\":\"4523\",\"type\":\"GlyphRenderer\"},{\"attributes\":{\"coordinates\":null,\"data_source\":{\"id\":\"4550\"},\"glyph\":{\"id\":\"4553\"},\"group\":null,\"hover_glyph\":null,\"muted_glyph\":{\"id\":\"4555\"},\"nonselection_glyph\":{\"id\":\"4554\"},\"selection_glyph\":{\"id\":\"4584\"},\"view\":{\"id\":\"4557\"}},\"id\":\"4556\",\"type\":\"GlyphRenderer\"},{\"attributes\":{\"callback\":null,\"formatters\":{\"@{date}\":\"datetime\"},\"renderers\":[{\"id\":\"4491\"}],\"tags\":[\"hv_created\"],\"tooltips\":[[\"date\",\"@{date}{%F %T}\"],[\"volume\",\"@{volume}\"]]},\"id\":\"4441\",\"type\":\"HoverTool\"},{\"attributes\":{\"source\":{\"id\":\"4550\"}},\"id\":\"4557\",\"type\":\"CDSView\"},{\"attributes\":{\"source\":{\"id\":\"4517\"}},\"id\":\"4524\",\"type\":\"CDSView\"},{\"attributes\":{\"tools\":[{\"id\":\"4441\"},{\"id\":\"4442\"},{\"id\":\"4443\"},{\"id\":\"4461\"},{\"id\":\"4462\"},{\"id\":\"4463\"},{\"id\":\"4464\"},{\"id\":\"4465\"}]},\"id\":\"4467\",\"type\":\"Toolbar\"},{\"attributes\":{\"line_alpha\":0.2,\"line_color\":\"red\",\"line_width\":2,\"x\":{\"field\":\"date\"},\"y\":{\"field\":\"unique_buyers\"}},\"id\":\"4555\",\"type\":\"Line\"},{\"attributes\":{},\"id\":\"4568\",\"type\":\"UnionRenderers\"},{\"attributes\":{\"line_color\":\"red\",\"line_width\":2,\"x\":{\"field\":\"date\"},\"y\":{\"field\":\"unique_buyers\"}},\"id\":\"4553\",\"type\":\"Line\"},{\"attributes\":{\"label\":{\"value\":\"Number of Trades\"},\"renderers\":[{\"id\":\"4523\"}]},\"id\":\"4548\",\"type\":\"LegendItem\"},{\"attributes\":{\"callback\":null,\"formatters\":{\"@{date}\":\"datetime\"},\"renderers\":[{\"id\":\"4523\"}],\"tags\":[\"hv_created\"],\"tooltips\":[[\"date\",\"@{date}{%F %T}\"],[\"num_trades\",\"@{num_trades}\"]]},\"id\":\"4442\",\"type\":\"HoverTool\"},{\"attributes\":{\"line_color\":\"green\",\"line_width\":2,\"x\":{\"field\":\"date\"},\"y\":{\"field\":\"volume\"}},\"id\":\"4488\",\"type\":\"Line\"},{\"attributes\":{\"data\":{\"date\":{\"__ndarray__\":\"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\",\"dtype\":\"float64\",\"order\":\"little\",\"shape\":[583]},\"num_trades\":[3,5,5,12,15,15,16,11,7,21,13,17,29,15,6,10,1,15,4,5,12,8,26,30,17,23,64,24,12,19,13,31,28,35,30,26,18,11,54,52,22,33,19,85,167,108,76,178,132,113,101,277,181,81,68,37,24,43,53,42,45,42,36,55,21,34,36,30,25,117,135,53,61,76,42,53,50,47,48,63,26,51,24,18,16,44,43,18,59,24,26,19,17,24,42,30,24,165,80,37,60,63,74,49,54,39,37,26,29,42,31,32,57,45,22,50,64,51,56,151,3839,1700,1301,404,289,214,169,120,140,87,73,71,98,68,70,95,64,88,66,92,101,86,84,116,93,67,83,148,155,604,475,527,303,184,126,257,353,531,280,165,142,145,85,136,98,206,170,227,406,827,725,499,227,240,230,662,817,349,237,235,171,2887,1415,594,2754,643,696,2306,521,960,645,434,507,525,454,944,652,1128,688,1003,732,371,250,213,142,195,296,242,187,145,422,644,1017,315,493,1522,862,718,415,366,282,297,212,198,679,256,199,140,129,129,148,353,569,382,940,1276,398,304,419,1905,11187,1491,870,697,639,533,326,405,367,292,270,248,289,177,205,484,253,332,391,231,261,200,155,362,202,217,259,261,357,195,163,164,186,191,151,245,188,210,146,150,289,164,113,123,115,153,161,144,109,2136,5226,773,736,475,710,1061,400,355,270,250,321,267,214,195,207,253,295,306,338,210,247,238,225,203,245,283,1067,1238,698,996,1023,730,381,254,240,250,200,232,174,139,120,140,198,166,186,204,238,211,150,180,121,145,153,172,161,699,2653,1517,651,467,529,351,257,252,329,380,454,472,425,830,1047,431,446,416,730,803,1238,1122,919,641,392,370,489,408,380,404,5860,2705,971,868,619,631,668,948,2546,2399,826,671,615,1438,2260,1222,999,1155,1301,1578,1214,653,551,543,308,376,539,269,314,262,239,244,344,279,461,291,226,212,195,224,196,244,257,690,434,164,162,146,155,198,229,308,176,133,288,243,216,249,255,311,398,200,259,656,1204,1029,848,360,272,307,406,743,442,374,277,222,264,247,439,638,449,790,303,393,216,170,155,139,124,242,216,283,237,265,11992,1956,1028,933,907,931,1247,979,929,1044,783,549,651,747,880,18424,8955,4226,3808,2595,1922,1619,1314,2942,4582,3001,3046,2174,1001,692,635,790,1278,937,935,710,541,570,557,502,629,731,416,427,504,616,617,364,408,314,291,318,382,357,290,363,467,529,1728,1444,893,660,613,683,861,851,583,373,199,169,120,281,834,317,239,186,196,135,156,174,212,216,251,237,246,321,176,192,190,155,225,364,265,262,203,116,137,101,85,129,105,136,112,117,105,22,59,71,64,84,119,188,144]},\"selected\":{\"id\":\"4518\"},\"selection_policy\":{\"id\":\"4533\"}},\"id\":\"4517\",\"type\":\"ColumnDataSource\"},{\"attributes\":{\"end\":246932.3,\"reset_end\":246932.3,\"reset_start\":-22447.300000000003,\"start\":-22447.300000000003,\"tags\":[[[\"volume\",\"volume\",null]]]},\"id\":\"4440\",\"type\":\"Range1d\"},{\"attributes\":{\"line_color\":\"red\",\"line_width\":2,\"x\":{\"field\":\"date\"},\"y\":{\"field\":\"unique_buyers\"}},\"id\":\"4584\",\"type\":\"Line\"},{\"attributes\":{\"callback\":null,\"formatters\":{\"@{date}\":\"datetime\"},\"renderers\":[{\"id\":\"4556\"}],\"tags\":[\"hv_created\"],\"tooltips\":[[\"date\",\"@{date}{%F %T}\"],[\"unique_buyers\",\"@{unique_buyers}\"]]},\"id\":\"4443\",\"type\":\"HoverTool\"},{\"attributes\":{\"format\":\"%.0f\"},\"id\":\"4476\",\"type\":\"PrintfTickFormatter\"},{\"attributes\":{\"line_alpha\":0.1,\"line_color\":\"green\",\"line_width\":2,\"x\":{\"field\":\"date\"},\"y\":{\"field\":\"volume\"}},\"id\":\"4489\",\"type\":\"Line\"},{\"attributes\":{},\"id\":\"4533\",\"type\":\"UnionRenderers\"},{\"attributes\":{\"margin\":[5,5,5,5],\"name\":\"HSpacer04876\",\"sizing_mode\":\"stretch_width\"},\"id\":\"4810\",\"type\":\"Spacer\"},{\"attributes\":{\"children\":[{\"id\":\"4438\"},{\"id\":\"4444\"},{\"id\":\"4810\"}],\"margin\":[0,0,0,0],\"name\":\"Row04871\",\"tags\":[\"embedded\"]},\"id\":\"4437\",\"type\":\"Row\"},{\"attributes\":{\"line_alpha\":0.1,\"line_color\":\"red\",\"line_width\":2,\"x\":{\"field\":\"date\"},\"y\":{\"field\":\"unique_buyers\"}},\"id\":\"4554\",\"type\":\"Line\"}],\"root_ids\":[\"4437\"]},\"title\":\"Bokeh Application\",\"version\":\"2.4.2\"}};\n",
       "    var render_items = [{\"docid\":\"e1b298fe-7b7e-484b-9cec-a7608cb2a062\",\"root_ids\":[\"4437\"],\"roots\":{\"4437\":\"c8e63544-b331-4b25-a676-de9fc60900e8\"}}];\n",
       "    root.Bokeh.embed.embed_items_notebook(docs_json, render_items);\n",
       "  }\n",
       "  if (root.Bokeh !== undefined && root.Bokeh.Panel !== undefined) {\n",
       "    embed_document(root);\n",
       "  } else {\n",
       "    var attempts = 0;\n",
       "    var timer = setInterval(function(root) {\n",
       "      if (root.Bokeh !== undefined && root.Bokeh.Panel !== undefined) {\n",
       "        clearInterval(timer);\n",
       "        embed_document(root);\n",
       "      } else if (document.readyState == \"complete\") {\n",
       "        attempts++;\n",
       "        if (attempts > 200) {\n",
       "          clearInterval(timer);\n",
       "          console.log(\"Bokeh: ERROR: Unable to run BokehJS code because BokehJS library is missing\");\n",
       "        }\n",
       "      }\n",
       "    }, 25, root)\n",
       "  }\n",
       "})(window);</script>"
      ],
      "text/plain": [
       ":Overlay\n",
       "   .Curve.Volume_in_ETH           :Curve   [date]   (volume)\n",
       "   .Curve.Number_of_Trades        :Curve   [date]   (num_trades)\n",
       "   .Curve.Number_of_Unique_Buyers :Curve   [date]   (unique_buyers)"
      ]
     },
     "execution_count": 49,
     "metadata": {
      "application/vnd.holoviews_exec.v0+json": {
       "id": "4437"
      }
     },
     "output_type": "execute_result"
    }
   ],
   "source": [
    "overlay.opts(\n",
    "    title = 'Open Sea Top Collections January 2021 to August 2022',\n",
    "    show_legend = True,\n",
    "    legend_position = 'top_left'\n",
    ")"
   ]
  },
  {
   "cell_type": "markdown",
   "id": "4b29590f-83cf-4ea7-b0fe-70e1254eca2e",
   "metadata": {},
   "source": [
    "# OPTION 5"
   ]
  },
  {
   "cell_type": "code",
   "execution_count": 45,
   "id": "76b0642a-ffad-499b-8ec9-c9b3e8c31037",
   "metadata": {},
   "outputs": [
    {
     "data": {},
     "metadata": {},
     "output_type": "display_data"
    },
    {
     "data": {
      "application/vnd.holoviews_exec.v0+json": "",
      "text/html": [
       "<div id='3012'>\n",
       "\n",
       "\n",
       "\n",
       "\n",
       "\n",
       "  <div class=\"bk-root\" id=\"f56a42b1-0324-457b-8845-046ff33c8929\" data-root-id=\"3012\"></div>\n",
       "</div>\n",
       "<script type=\"application/javascript\">(function(root) {\n",
       "  function embed_document(root) {\n",
       "    var docs_json = {\"7f25076f-f53a-4db6-86bd-10aca80593e8\":{\"defs\":[{\"extends\":null,\"module\":null,\"name\":\"ReactiveHTML1\",\"overrides\":[],\"properties\":[]},{\"extends\":null,\"module\":null,\"name\":\"FlexBox1\",\"overrides\":[],\"properties\":[{\"default\":\"flex-start\",\"kind\":null,\"name\":\"align_content\"},{\"default\":\"flex-start\",\"kind\":null,\"name\":\"align_items\"},{\"default\":\"row\",\"kind\":null,\"name\":\"flex_direction\"},{\"default\":\"wrap\",\"kind\":null,\"name\":\"flex_wrap\"},{\"default\":\"flex-start\",\"kind\":null,\"name\":\"justify_content\"}]},{\"extends\":null,\"module\":null,\"name\":\"GridStack1\",\"overrides\":[],\"properties\":[{\"default\":\"warn\",\"kind\":null,\"name\":\"mode\"},{\"default\":null,\"kind\":null,\"name\":\"ncols\"},{\"default\":null,\"kind\":null,\"name\":\"nrows\"},{\"default\":true,\"kind\":null,\"name\":\"allow_resize\"},{\"default\":true,\"kind\":null,\"name\":\"allow_drag\"},{\"default\":[],\"kind\":null,\"name\":\"state\"}]},{\"extends\":null,\"module\":null,\"name\":\"click1\",\"overrides\":[],\"properties\":[{\"default\":\"\",\"kind\":null,\"name\":\"terminal_output\"},{\"default\":\"\",\"kind\":null,\"name\":\"debug_name\"},{\"default\":0,\"kind\":null,\"name\":\"clears\"}]},{\"extends\":null,\"module\":null,\"name\":\"TemplateActions1\",\"overrides\":[],\"properties\":[{\"default\":0,\"kind\":null,\"name\":\"open_modal\"},{\"default\":0,\"kind\":null,\"name\":\"close_modal\"}]},{\"extends\":null,\"module\":null,\"name\":\"MaterialTemplateActions1\",\"overrides\":[],\"properties\":[{\"default\":0,\"kind\":null,\"name\":\"open_modal\"},{\"default\":0,\"kind\":null,\"name\":\"close_modal\"}]}],\"roots\":{\"references\":[{\"attributes\":{\"end\":1659744000000.0,\"reset_end\":1659744000000.0,\"reset_start\":1609459200000.0,\"start\":1609459200000.0,\"tags\":[[[\"date\",\"date\",null]]]},\"id\":\"3014\",\"type\":\"Range1d\"},{\"attributes\":{},\"id\":\"3032\",\"type\":\"BasicTicker\"},{\"attributes\":{\"margin\":[5,5,5,5],\"name\":\"HSpacer03782\",\"sizing_mode\":\"stretch_width\"},\"id\":\"3330\",\"type\":\"Spacer\"},{\"attributes\":{\"coordinates\":null,\"group\":null,\"text\":\"Open Sea Number of Trades and Unique Buyers January 2021 to August 2022\",\"text_color\":\"black\",\"text_font_size\":\"12pt\"},\"id\":\"3019\",\"type\":\"Title\"},{\"attributes\":{\"overlay\":{\"id\":\"3040\"}},\"id\":\"3038\",\"type\":\"BoxZoomTool\"},{\"attributes\":{\"line_color\":\"red\",\"line_width\":2,\"x\":{\"field\":\"date\"},\"y\":{\"field\":\"unique_buyers\"}},\"id\":\"3093\",\"type\":\"Line\"},{\"attributes\":{\"label\":{\"value\":\"Number of Trades\"},\"renderers\":[{\"id\":\"3064\"}]},\"id\":\"3088\",\"type\":\"LegendItem\"},{\"attributes\":{\"line_color\":\"blue\",\"line_width\":2,\"x\":{\"field\":\"date\"},\"y\":{\"field\":\"num_trades\"}},\"id\":\"3061\",\"type\":\"Line\"},{\"attributes\":{\"line_color\":\"blue\",\"line_width\":2,\"x\":{\"field\":\"date\"},\"y\":{\"field\":\"num_trades\"}},\"id\":\"3089\",\"type\":\"Line\"},{\"attributes\":{},\"id\":\"3039\",\"type\":\"ResetTool\"},{\"attributes\":{\"label\":{\"value\":\"Number of Unique Buyers\"},\"renderers\":[{\"id\":\"3096\"}]},\"id\":\"3121\",\"type\":\"LegendItem\"},{\"attributes\":{\"tools\":[{\"id\":\"3016\"},{\"id\":\"3017\"},{\"id\":\"3035\"},{\"id\":\"3036\"},{\"id\":\"3037\"},{\"id\":\"3038\"},{\"id\":\"3039\"}]},\"id\":\"3041\",\"type\":\"Toolbar\"},{\"attributes\":{\"axis_label\":\"Date\",\"coordinates\":null,\"formatter\":{\"id\":\"3051\"},\"group\":null,\"major_label_policy\":{\"id\":\"3052\"},\"ticker\":{\"id\":\"3028\"}},\"id\":\"3027\",\"type\":\"DatetimeAxis\"},{\"attributes\":{\"line_color\":\"red\",\"line_width\":2,\"x\":{\"field\":\"date\"},\"y\":{\"field\":\"unique_buyers\"}},\"id\":\"3122\",\"type\":\"Line\"},{\"attributes\":{\"line_alpha\":0.1,\"line_color\":\"red\",\"line_width\":2,\"x\":{\"field\":\"date\"},\"y\":{\"field\":\"unique_buyers\"}},\"id\":\"3094\",\"type\":\"Line\"},{\"attributes\":{\"num_minor_ticks\":5,\"tickers\":[{\"id\":\"3075\"},{\"id\":\"3076\"},{\"id\":\"3077\"},{\"id\":\"3078\"},{\"id\":\"3079\"},{\"id\":\"3080\"},{\"id\":\"3081\"},{\"id\":\"3082\"},{\"id\":\"3083\"},{\"id\":\"3084\"},{\"id\":\"3085\"},{\"id\":\"3086\"}]},\"id\":\"3028\",\"type\":\"DatetimeTicker\"},{\"attributes\":{},\"id\":\"3052\",\"type\":\"AllLabels\"},{\"attributes\":{\"coordinates\":null,\"data_source\":{\"id\":\"3090\"},\"glyph\":{\"id\":\"3093\"},\"group\":null,\"hover_glyph\":null,\"muted_glyph\":{\"id\":\"3095\"},\"nonselection_glyph\":{\"id\":\"3094\"},\"selection_glyph\":{\"id\":\"3122\"},\"view\":{\"id\":\"3097\"}},\"id\":\"3096\",\"type\":\"GlyphRenderer\"},{\"attributes\":{},\"id\":\"3055\",\"type\":\"AllLabels\"},{\"attributes\":{},\"id\":\"3025\",\"type\":\"LinearScale\"},{\"attributes\":{},\"id\":\"3059\",\"type\":\"Selection\"},{\"attributes\":{\"days\":[1,2,3,4,5,6,7,8,9,10,11,12,13,14,15,16,17,18,19,20,21,22,23,24,25,26,27,28,29,30,31]},\"id\":\"3078\",\"type\":\"DaysTicker\"},{\"attributes\":{\"months\":[0,1,2,3,4,5,6,7,8,9,10,11]},\"id\":\"3082\",\"type\":\"MonthsTicker\"},{\"attributes\":{\"axis_label\":\"Number of Trades\",\"coordinates\":null,\"formatter\":{\"id\":\"3049\"},\"group\":null,\"major_label_policy\":{\"id\":\"3055\"},\"ticker\":{\"id\":\"3032\"}},\"id\":\"3031\",\"type\":\"LinearAxis\"},{\"attributes\":{\"line_alpha\":0.2,\"line_color\":\"blue\",\"line_width\":2,\"x\":{\"field\":\"date\"},\"y\":{\"field\":\"num_trades\"}},\"id\":\"3063\",\"type\":\"Line\"},{\"attributes\":{\"days\":[1,4,7,10,13,16,19,22,25,28]},\"id\":\"3079\",\"type\":\"DaysTicker\"},{\"attributes\":{\"axis\":{\"id\":\"3027\"},\"coordinates\":null,\"grid_line_color\":null,\"group\":null,\"ticker\":null},\"id\":\"3030\",\"type\":\"Grid\"},{\"attributes\":{\"bottom_units\":\"screen\",\"coordinates\":null,\"fill_alpha\":0.5,\"fill_color\":\"lightgrey\",\"group\":null,\"left_units\":\"screen\",\"level\":\"overlay\",\"line_alpha\":1.0,\"line_color\":\"black\",\"line_dash\":[4,4],\"line_width\":2,\"right_units\":\"screen\",\"syncable\":false,\"top_units\":\"screen\"},\"id\":\"3040\",\"type\":\"BoxAnnotation\"},{\"attributes\":{\"base\":24,\"mantissas\":[1,2,4,6,8,12],\"max_interval\":43200000.0,\"min_interval\":3600000.0,\"num_minor_ticks\":0},\"id\":\"3077\",\"type\":\"AdaptiveTicker\"},{\"attributes\":{\"days\":[1,8,15,22]},\"id\":\"3080\",\"type\":\"DaysTicker\"},{\"attributes\":{\"format\":\"%.0f\"},\"id\":\"3049\",\"type\":\"PrintfTickFormatter\"},{\"attributes\":{\"days\":[1,15]},\"id\":\"3081\",\"type\":\"DaysTicker\"},{\"attributes\":{},\"id\":\"3091\",\"type\":\"Selection\"},{\"attributes\":{\"axis\":{\"id\":\"3031\"},\"coordinates\":null,\"dimension\":1,\"grid_line_color\":null,\"group\":null,\"ticker\":null},\"id\":\"3034\",\"type\":\"Grid\"},{\"attributes\":{\"end\":20266.3,\"reset_end\":20266.3,\"reset_start\":-1841.3000000000002,\"start\":-1841.3000000000002,\"tags\":[[[\"num_trades\",\"num_trades\",null]]]},\"id\":\"3015\",\"type\":\"Range1d\"},{\"attributes\":{\"mantissas\":[1,2,5],\"max_interval\":500.0,\"num_minor_ticks\":0},\"id\":\"3075\",\"type\":\"AdaptiveTicker\"},{\"attributes\":{\"months\":[0,2,4,6,8,10]},\"id\":\"3083\",\"type\":\"MonthsTicker\"},{\"attributes\":{\"source\":{\"id\":\"3058\"}},\"id\":\"3065\",\"type\":\"CDSView\"},{\"attributes\":{\"data\":{\"date\":{\"__ndarray__\":\"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\",\"dtype\":\"float64\",\"order\":\"little\",\"shape\":[583]},\"unique_buyers\":[3,4,5,11,15,8,11,11,7,14,10,9,22,11,6,8,1,13,2,4,10,7,22,24,10,18,41,20,9,12,9,20,13,30,16,16,14,10,32,31,17,21,12,56,98,64,61,91,93,73,55,149,118,57,47,33,23,31,41,39,39,30,33,46,19,24,30,22,16,74,87,46,50,49,36,42,42,34,40,57,26,35,23,18,15,33,33,15,49,22,20,14,15,15,26,26,23,91,66,34,46,54,56,39,40,35,28,20,23,30,25,23,42,39,20,44,54,48,52,115,1507,921,733,272,207,165,139,101,105,73,55,56,80,59,59,68,53,75,61,72,81,80,71,98,77,58,65,123,120,358,347,384,198,156,91,217,277,362,235,129,118,118,78,95,86,164,148,181,293,534,425,289,166,163,147,416,508,259,185,194,150,1195,564,303,941,379,405,1068,369,567,410,325,389,368,324,663,508,737,520,619,499,301,211,181,126,156,222,189,160,124,242,488,652,265,403,1044,632,543,324,274,233,244,169,161,472,219,171,124,114,112,116,283,435,268,724,908,323,237,324,1310,6670,1193,694,567,547,463,281,340,301,255,235,217,265,157,184,362,216,289,333,187,219,180,141,332,177,188,201,224,298,170,155,147,160,172,140,222,171,180,127,137,243,137,100,119,106,136,154,123,100,1608,3444,618,550,397,565,874,352,303,232,223,263,234,191,181,191,227,250,273,288,192,225,225,206,182,227,259,925,996,613,816,883,602,315,236,218,228,177,193,164,128,112,127,175,150,158,184,204,191,141,162,111,125,131,150,138,538,1830,1127,557,405,402,308,229,231,297,336,410,429,383,735,883,392,404,383,613,691,990,937,731,532,355,330,422,358,335,304,4477,2081,736,586,433,433,503,629,1683,1763,705,571,537,1099,1710,983,808,959,1062,1272,942,502,445,472,261,301,441,244,280,221,218,223,265,213,385,241,197,193,164,190,167,214,229,630,353,149,140,139,138,168,205,256,158,123,243,216,202,210,225,281,334,184,244,582,990,834,741,324,247,259,302,548,326,282,241,207,225,208,358,484,386,680,276,331,191,157,147,119,114,207,185,252,221,229,10174,1438,854,818,725,750,730,592,546,586,524,392,432,488,558,8618,5459,2800,2470,1519,1196,936,813,1814,2732,1723,1903,1462,656,463,429,477,686,622,539,497,371,335,351,320,465,499,301,307,366,411,380,251,256,222,190,224,257,251,209,239,338,406,1155,817,616,504,429,476,494,519,398,255,124,112,83,154,328,171,151,127,130,87,106,115,114,143,147,152,146,196,125,127,134,103,146,221,178,169,134,97,118,88,70,106,95,112,94,94,88,19,52,57,58,70,108,176,133]},\"selected\":{\"id\":\"3091\"},\"selection_policy\":{\"id\":\"3106\"}},\"id\":\"3090\",\"type\":\"ColumnDataSource\"},{\"attributes\":{\"data\":{\"date\":{\"__ndarray__\":\"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\",\"dtype\":\"float64\",\"order\":\"little\",\"shape\":[583]},\"num_trades\":[3,5,5,12,15,15,16,11,7,21,13,17,29,15,6,10,1,15,4,5,12,8,26,30,17,23,64,24,12,19,13,31,28,35,30,26,18,11,54,52,22,33,19,85,167,108,76,178,132,113,101,277,181,81,68,37,24,43,53,42,45,42,36,55,21,34,36,30,25,117,135,53,61,76,42,53,50,47,48,63,26,51,24,18,16,44,43,18,59,24,26,19,17,24,42,30,24,165,80,37,60,63,74,49,54,39,37,26,29,42,31,32,57,45,22,50,64,51,56,151,3839,1700,1301,404,289,214,169,120,140,87,73,71,98,68,70,95,64,88,66,92,101,86,84,116,93,67,83,148,155,604,475,527,303,184,126,257,353,531,280,165,142,145,85,136,98,206,170,227,406,827,725,499,227,240,230,662,817,349,237,235,171,2887,1415,594,2754,643,696,2306,521,960,645,434,507,525,454,944,652,1128,688,1003,732,371,250,213,142,195,296,242,187,145,422,644,1017,315,493,1522,862,718,415,366,282,297,212,198,679,256,199,140,129,129,148,353,569,382,940,1276,398,304,419,1905,11187,1491,870,697,639,533,326,405,367,292,270,248,289,177,205,484,253,332,391,231,261,200,155,362,202,217,259,261,357,195,163,164,186,191,151,245,188,210,146,150,289,164,113,123,115,153,161,144,109,2136,5226,773,736,475,710,1061,400,355,270,250,321,267,214,195,207,253,295,306,338,210,247,238,225,203,245,283,1067,1238,698,996,1023,730,381,254,240,250,200,232,174,139,120,140,198,166,186,204,238,211,150,180,121,145,153,172,161,699,2653,1517,651,467,529,351,257,252,329,380,454,472,425,830,1047,431,446,416,730,803,1238,1122,919,641,392,370,489,408,380,404,5860,2705,971,868,619,631,668,948,2546,2399,826,671,615,1438,2260,1222,999,1155,1301,1578,1214,653,551,543,308,376,539,269,314,262,239,244,344,279,461,291,226,212,195,224,196,244,257,690,434,164,162,146,155,198,229,308,176,133,288,243,216,249,255,311,398,200,259,656,1204,1029,848,360,272,307,406,743,442,374,277,222,264,247,439,638,449,790,303,393,216,170,155,139,124,242,216,283,237,265,11992,1956,1028,933,907,931,1247,979,929,1044,783,549,651,747,880,18424,8955,4226,3808,2595,1922,1619,1314,2942,4582,3001,3046,2174,1001,692,635,790,1278,937,935,710,541,570,557,502,629,731,416,427,504,616,617,364,408,314,291,318,382,357,290,363,467,529,1728,1444,893,660,613,683,861,851,583,373,199,169,120,281,834,317,239,186,196,135,156,174,212,216,251,237,246,321,176,192,190,155,225,364,265,262,203,116,137,101,85,129,105,136,112,117,105,22,59,71,64,84,119,188,144]},\"selected\":{\"id\":\"3059\"},\"selection_policy\":{\"id\":\"3072\"}},\"id\":\"3058\",\"type\":\"ColumnDataSource\"},{\"attributes\":{\"months\":[0,4,8]},\"id\":\"3084\",\"type\":\"MonthsTicker\"},{\"attributes\":{\"callback\":null,\"formatters\":{\"@{date}\":\"datetime\"},\"renderers\":[{\"id\":\"3064\"}],\"tags\":[\"hv_created\"],\"tooltips\":[[\"date\",\"@{date}{%F %T}\"],[\"num_trades\",\"@{num_trades}\"]]},\"id\":\"3016\",\"type\":\"HoverTool\"},{\"attributes\":{},\"id\":\"3106\",\"type\":\"UnionRenderers\"},{\"attributes\":{\"children\":[{\"id\":\"3013\"},{\"id\":\"3018\"},{\"id\":\"3330\"}],\"margin\":[0,0,0,0],\"name\":\"Row03777\",\"tags\":[\"embedded\"]},\"id\":\"3012\",\"type\":\"Row\"},{\"attributes\":{\"line_alpha\":0.1,\"line_color\":\"blue\",\"line_width\":2,\"x\":{\"field\":\"date\"},\"y\":{\"field\":\"num_trades\"}},\"id\":\"3062\",\"type\":\"Line\"},{\"attributes\":{\"base\":60,\"mantissas\":[1,2,5,10,15,20,30],\"max_interval\":1800000.0,\"min_interval\":1000.0,\"num_minor_ticks\":0},\"id\":\"3076\",\"type\":\"AdaptiveTicker\"},{\"attributes\":{\"callback\":null,\"formatters\":{\"@{date}\":\"datetime\"},\"renderers\":[{\"id\":\"3096\"}],\"tags\":[\"hv_created\"],\"tooltips\":[[\"date\",\"@{date}{%F %T}\"],[\"unique_buyers\",\"@{unique_buyers}\"]]},\"id\":\"3017\",\"type\":\"HoverTool\"},{\"attributes\":{\"months\":[0,6]},\"id\":\"3085\",\"type\":\"MonthsTicker\"},{\"attributes\":{\"margin\":[5,5,5,5],\"name\":\"HSpacer03781\",\"sizing_mode\":\"stretch_width\"},\"id\":\"3013\",\"type\":\"Spacer\"},{\"attributes\":{\"coordinates\":null,\"data_source\":{\"id\":\"3058\"},\"glyph\":{\"id\":\"3061\"},\"group\":null,\"hover_glyph\":null,\"muted_glyph\":{\"id\":\"3063\"},\"nonselection_glyph\":{\"id\":\"3062\"},\"selection_glyph\":{\"id\":\"3089\"},\"view\":{\"id\":\"3065\"}},\"id\":\"3064\",\"type\":\"GlyphRenderer\"},{\"attributes\":{},\"id\":\"3051\",\"type\":\"DatetimeTickFormatter\"},{\"attributes\":{},\"id\":\"3072\",\"type\":\"UnionRenderers\"},{\"attributes\":{\"below\":[{\"id\":\"3027\"}],\"center\":[{\"id\":\"3030\"},{\"id\":\"3034\"},{\"id\":\"3087\"}],\"height\":700,\"left\":[{\"id\":\"3031\"}],\"margin\":[5,5,5,5],\"min_border_bottom\":10,\"min_border_left\":10,\"min_border_right\":10,\"min_border_top\":10,\"renderers\":[{\"id\":\"3064\"},{\"id\":\"3096\"}],\"sizing_mode\":\"fixed\",\"title\":{\"id\":\"3019\"},\"toolbar\":{\"id\":\"3041\"},\"width\":1000,\"x_range\":{\"id\":\"3014\"},\"x_scale\":{\"id\":\"3023\"},\"y_range\":{\"id\":\"3015\"},\"y_scale\":{\"id\":\"3025\"}},\"id\":\"3018\",\"subtype\":\"Figure\",\"type\":\"Plot\"},{\"attributes\":{},\"id\":\"3035\",\"type\":\"SaveTool\"},{\"attributes\":{},\"id\":\"3036\",\"type\":\"PanTool\"},{\"attributes\":{},\"id\":\"3086\",\"type\":\"YearsTicker\"},{\"attributes\":{},\"id\":\"3023\",\"type\":\"LinearScale\"},{\"attributes\":{\"click_policy\":\"mute\",\"coordinates\":null,\"group\":null,\"items\":[{\"id\":\"3088\"},{\"id\":\"3121\"}],\"location\":\"top_left\"},\"id\":\"3087\",\"type\":\"Legend\"},{\"attributes\":{\"line_alpha\":0.2,\"line_color\":\"red\",\"line_width\":2,\"x\":{\"field\":\"date\"},\"y\":{\"field\":\"unique_buyers\"}},\"id\":\"3095\",\"type\":\"Line\"},{\"attributes\":{\"source\":{\"id\":\"3090\"}},\"id\":\"3097\",\"type\":\"CDSView\"},{\"attributes\":{},\"id\":\"3037\",\"type\":\"WheelZoomTool\"}],\"root_ids\":[\"3012\"]},\"title\":\"Bokeh Application\",\"version\":\"2.4.2\"}};\n",
       "    var render_items = [{\"docid\":\"7f25076f-f53a-4db6-86bd-10aca80593e8\",\"root_ids\":[\"3012\"],\"roots\":{\"3012\":\"f56a42b1-0324-457b-8845-046ff33c8929\"}}];\n",
       "    root.Bokeh.embed.embed_items_notebook(docs_json, render_items);\n",
       "  }\n",
       "  if (root.Bokeh !== undefined && root.Bokeh.Panel !== undefined) {\n",
       "    embed_document(root);\n",
       "  } else {\n",
       "    var attempts = 0;\n",
       "    var timer = setInterval(function(root) {\n",
       "      if (root.Bokeh !== undefined && root.Bokeh.Panel !== undefined) {\n",
       "        clearInterval(timer);\n",
       "        embed_document(root);\n",
       "      } else if (document.readyState == \"complete\") {\n",
       "        attempts++;\n",
       "        if (attempts > 200) {\n",
       "          clearInterval(timer);\n",
       "          console.log(\"Bokeh: ERROR: Unable to run BokehJS code because BokehJS library is missing\");\n",
       "        }\n",
       "      }\n",
       "    }, 25, root)\n",
       "  }\n",
       "})(window);</script>"
      ],
      "text/plain": [
       ":Overlay\n",
       "   .Curve.Number_of_Trades        :Curve   [date]   (num_trades)\n",
       "   .Curve.Number_of_Unique_Buyers :Curve   [date]   (unique_buyers)"
      ]
     },
     "execution_count": 45,
     "metadata": {
      "application/vnd.holoviews_exec.v0+json": {
       "id": "3012"
      }
     },
     "output_type": "execute_result"
    }
   ],
   "source": [
    "overlay_2_and_3 = (overlay_2 * overlay_3)\n",
    "overlay_2_and_3.opts(\n",
    "    title = 'Open Sea Number of Trades and Unique Buyers January 2021 to August 2022',\n",
    "    show_legend = True,\n",
    "    legend_position = 'top_left'\n",
    ")"
   ]
  },
  {
   "cell_type": "code",
   "execution_count": 46,
   "id": "b970608c-1ecf-4a33-98be-48c3f096920f",
   "metadata": {},
   "outputs": [],
   "source": [
    "side_by_side = overlay_2_and_3 + overlay_1"
   ]
  },
  {
   "cell_type": "code",
   "execution_count": 47,
   "id": "b7a29eae-4dcf-4b5d-ace0-ce04f2446a49",
   "metadata": {},
   "outputs": [
    {
     "data": {},
     "metadata": {},
     "output_type": "display_data"
    },
    {
     "data": {
      "application/vnd.holoviews_exec.v0+json": "",
      "text/html": [
       "<div id='3447'>\n",
       "\n",
       "\n",
       "\n",
       "\n",
       "\n",
       "  <div class=\"bk-root\" id=\"c62c9778-afc1-4a4e-b5f5-8518371adc24\" data-root-id=\"3447\"></div>\n",
       "</div>\n",
       "<script type=\"application/javascript\">(function(root) {\n",
       "  function embed_document(root) {\n",
       "    var docs_json = {\"fabc0d0f-66a3-4486-8962-d99b7ca5d1e3\":{\"defs\":[{\"extends\":null,\"module\":null,\"name\":\"ReactiveHTML1\",\"overrides\":[],\"properties\":[]},{\"extends\":null,\"module\":null,\"name\":\"FlexBox1\",\"overrides\":[],\"properties\":[{\"default\":\"flex-start\",\"kind\":null,\"name\":\"align_content\"},{\"default\":\"flex-start\",\"kind\":null,\"name\":\"align_items\"},{\"default\":\"row\",\"kind\":null,\"name\":\"flex_direction\"},{\"default\":\"wrap\",\"kind\":null,\"name\":\"flex_wrap\"},{\"default\":\"flex-start\",\"kind\":null,\"name\":\"justify_content\"}]},{\"extends\":null,\"module\":null,\"name\":\"GridStack1\",\"overrides\":[],\"properties\":[{\"default\":\"warn\",\"kind\":null,\"name\":\"mode\"},{\"default\":null,\"kind\":null,\"name\":\"ncols\"},{\"default\":null,\"kind\":null,\"name\":\"nrows\"},{\"default\":true,\"kind\":null,\"name\":\"allow_resize\"},{\"default\":true,\"kind\":null,\"name\":\"allow_drag\"},{\"default\":[],\"kind\":null,\"name\":\"state\"}]},{\"extends\":null,\"module\":null,\"name\":\"click1\",\"overrides\":[],\"properties\":[{\"default\":\"\",\"kind\":null,\"name\":\"terminal_output\"},{\"default\":\"\",\"kind\":null,\"name\":\"debug_name\"},{\"default\":0,\"kind\":null,\"name\":\"clears\"}]},{\"extends\":null,\"module\":null,\"name\":\"TemplateActions1\",\"overrides\":[],\"properties\":[{\"default\":0,\"kind\":null,\"name\":\"open_modal\"},{\"default\":0,\"kind\":null,\"name\":\"close_modal\"}]},{\"extends\":null,\"module\":null,\"name\":\"MaterialTemplateActions1\",\"overrides\":[],\"properties\":[{\"default\":0,\"kind\":null,\"name\":\"open_modal\"},{\"default\":0,\"kind\":null,\"name\":\"close_modal\"}]}],\"roots\":{\"references\":[{\"attributes\":{\"end\":20266.3,\"reset_end\":20266.3,\"reset_start\":-1841.3000000000002,\"start\":-1841.3000000000002,\"tags\":[[[\"num_trades\",\"num_trades\",null]]]},\"id\":\"3450\",\"type\":\"Range1d\"},{\"attributes\":{},\"id\":\"3541\",\"type\":\"UnionRenderers\"},{\"attributes\":{\"data\":{\"date\":{\"__ndarray__\":\"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\",\"dtype\":\"float64\",\"order\":\"little\",\"shape\":[583]},\"volume\":[105,26,35,99,97,294,146,57,70,216,74,112,212,76,37,81,4,212,48,41,54,48,794,336,155,140,449,343,101,189,113,279,527,339,481,367,230,319,687,488,218,785,383,793,2127,1444,1052,2578,3151,3225,1956,6236,6245,2339,2123,1191,921,1469,1683,1191,2037,1537,1408,1899,527,777,1010,780,716,11730,5205,2158,2426,2492,1492,1993,1739,1397,1621,2378,798,1938,691,534,479,1056,1133,847,1249,601,596,469,377,426,976,642,508,4697,2526,1261,2075,2182,2588,1495,1595,1180,1077,1156,1448,1526,1017,1093,1171,686,415,972,2066,954,636,822,2438,2792,5534,1997,1153,889,506,1090,750,801,827,729,890,645,407,242,260,635,284,217,327,364,431,833,388,333,251,459,412,903,658,1041,586,491,241,464,714,1346,1043,478,589,731,322,399,350,921,947,1121,1037,2172,3339,2004,1104,1037,1038,2268,2838,1097,1297,1379,722,1236,937,512,1946,1448,1192,1969,901,1908,1550,1809,2231,2781,1972,3187,3714,5392,2234,3182,2534,1902,1190,1175,1081,1056,2328,1534,1111,2615,13388,17579,17824,3608,7827,17095,17033,18412,6300,5494,3575,4106,4386,2805,2809,2580,2250,2510,2117,2357,2660,7026,9354,4574,34535,19833,11591,9510,22586,67838,91994,21741,11330,10565,8663,7153,6775,6133,5884,4118,2495,2767,4063,3893,2480,5080,2426,4882,13299,3361,2574,2350,2553,3536,2606,3984,5997,5690,5592,2626,3381,4833,8497,8581,4494,4878,5418,5025,2443,2165,3681,1872,2326,1667,2093,2168,2690,1927,1811,4161,8155,3978,3860,3246,3516,6387,2526,2939,2968,3191,127603,3551,1767,2055,1889,1787,2693,2059,1773,2991,2543,3612,2769,3096,3217,3794,10528,12296,8704,11356,10885,7833,4441,3286,3108,3073,2123,2528,2760,2020,1694,2075,2625,2198,2674,2964,5400,3869,3131,4395,2283,2715,5890,3424,2500,4553,19255,15216,6755,5459,5424,3820,3279,2765,4265,5113,5432,9218,5195,9864,11277,6319,6281,7300,10230,15654,18242,16218,11354,9729,7474,7031,8092,10314,7936,6715,20682,9543,7601,9127,7005,6003,6777,7620,17067,19378,10611,9538,8522,26044,29605,19706,21755,24996,30850,42324,28308,14793,11275,11189,6784,7409,11512,6049,9830,5062,5104,14282,9669,5668,9464,6302,4858,4914,3633,5118,4142,4819,4689,10533,9396,4409,5759,3437,3182,4645,5046,5956,3177,2340,5641,5108,4460,3432,7577,10738,9542,4127,5191,15640,32772,24837,21122,9500,6723,7364,8973,16980,10441,9589,7308,6636,6616,7183,10904,17665,13682,18273,8328,8825,6347,5004,4259,3611,3957,6452,5934,8714,7485,6799,64032,32004,24349,22964,26057,29348,27429,28962,30897,30395,21968,14948,22989,28092,37908,224484,107701,50531,54572,31731,23238,22511,15656,33185,57629,34701,29126,30786,10986,9102,9480,9911,16343,12738,12642,8571,6648,6181,5966,6022,7759,8987,4461,5574,6894,9498,10462,4984,5049,3877,3845,6324,6732,4483,5363,5572,5751,6452,20652,16745,12589,9000,8660,15078,16574,13466,9011,8260,2788,3510,3141,5123,5028,4646,3210,3237,5746,2077,2592,3400,2899,3553,4487,5566,6938,12170,3333,6487,4698,3765,10781,8092,7310,3994,2585,1637,2004,1267,1019,1271,1578,1568,1610,1663,1444,333,1111,2031,996,1489,3147,2854,2384]},\"selected\":{\"id\":\"3752\"},\"selection_policy\":{\"id\":\"3799\"}},\"id\":\"3751\",\"type\":\"ColumnDataSource\"},{\"attributes\":{\"line_color\":\"blue\",\"line_width\":2,\"x\":{\"field\":\"date\"},\"y\":{\"field\":\"num_trades\"}},\"id\":\"3524\",\"type\":\"Line\"},{\"attributes\":{},\"id\":\"3526\",\"type\":\"Selection\"},{\"attributes\":{\"format\":\"%.0f\"},\"id\":\"3760\",\"type\":\"PrintfTickFormatter\"},{\"attributes\":{},\"id\":\"3726\",\"type\":\"LinearScale\"},{\"attributes\":{\"callback\":null,\"formatters\":{\"@{date}\":\"datetime\"},\"renderers\":[{\"id\":\"3499\"}],\"tags\":[\"hv_created\"],\"tooltips\":[[\"date\",\"@{date}{%F %T}\"],[\"num_trades\",\"@{num_trades}\"]]},\"id\":\"3451\",\"type\":\"HoverTool\"},{\"attributes\":{\"coordinates\":null,\"group\":null,\"text\":\"Open Sea Volume for Top Collections January 2021 to August 2022\",\"text_color\":\"black\",\"text_font_size\":\"12pt\"},\"id\":\"3722\",\"type\":\"Title\"},{\"attributes\":{\"axis_label\":\"Date\",\"coordinates\":null,\"formatter\":{\"id\":\"3486\"},\"group\":null,\"major_label_policy\":{\"id\":\"3487\"},\"ticker\":{\"id\":\"3463\"}},\"id\":\"3462\",\"type\":\"DatetimeAxis\"},{\"attributes\":{},\"id\":\"3735\",\"type\":\"BasicTicker\"},{\"attributes\":{},\"id\":\"3752\",\"type\":\"Selection\"},{\"attributes\":{\"axis_label\":\"Date\",\"coordinates\":null,\"formatter\":{\"id\":\"3762\"},\"group\":null,\"major_label_policy\":{\"id\":\"3763\"},\"ticker\":{\"id\":\"3731\"}},\"id\":\"3730\",\"type\":\"DatetimeAxis\"},{\"attributes\":{},\"id\":\"3474\",\"type\":\"ResetTool\"},{\"attributes\":{},\"id\":\"3486\",\"type\":\"DatetimeTickFormatter\"},{\"attributes\":{\"num_minor_ticks\":5,\"tickers\":[{\"id\":\"3802\"},{\"id\":\"3803\"},{\"id\":\"3804\"},{\"id\":\"3805\"},{\"id\":\"3806\"},{\"id\":\"3807\"},{\"id\":\"3808\"},{\"id\":\"3809\"},{\"id\":\"3810\"},{\"id\":\"3811\"},{\"id\":\"3812\"},{\"id\":\"3813\"}]},\"id\":\"3731\",\"type\":\"DatetimeTicker\"},{\"attributes\":{\"line_alpha\":0.2,\"line_color\":\"red\",\"line_width\":2,\"x\":{\"field\":\"date\"},\"y\":{\"field\":\"unique_buyers\"}},\"id\":\"3530\",\"type\":\"Line\"},{\"attributes\":{\"axis\":{\"id\":\"3466\"},\"coordinates\":null,\"dimension\":1,\"grid_line_color\":null,\"group\":null,\"ticker\":null},\"id\":\"3469\",\"type\":\"Grid\"},{\"attributes\":{\"source\":{\"id\":\"3525\"}},\"id\":\"3532\",\"type\":\"CDSView\"},{\"attributes\":{\"months\":[0,1,2,3,4,5,6,7,8,9,10,11]},\"id\":\"3809\",\"type\":\"MonthsTicker\"},{\"attributes\":{\"end\":246932.0,\"reset_end\":246932.0,\"reset_start\":-22444.0,\"start\":-22444.0,\"tags\":[[[\"volume\",\"volume\",null]]]},\"id\":\"3719\",\"type\":\"Range1d\"},{\"attributes\":{\"line_alpha\":0.2,\"line_color\":\"blue\",\"line_width\":2,\"x\":{\"field\":\"date\"},\"y\":{\"field\":\"num_trades\"}},\"id\":\"3498\",\"type\":\"Line\"},{\"attributes\":{\"callback\":null,\"formatters\":{\"@{date}\":\"datetime\"},\"renderers\":[{\"id\":\"3757\"}],\"tags\":[\"hv_created\"],\"tooltips\":[[\"date\",\"@{date}{%F %T}\"],[\"volume\",\"@{volume}\"]]},\"id\":\"3720\",\"type\":\"HoverTool\"},{\"attributes\":{},\"id\":\"3728\",\"type\":\"LinearScale\"},{\"attributes\":{\"axis_label\":\"Volume in ETH\",\"coordinates\":null,\"formatter\":{\"id\":\"3760\"},\"group\":null,\"major_label_policy\":{\"id\":\"3766\"},\"ticker\":{\"id\":\"3735\"}},\"id\":\"3734\",\"type\":\"LinearAxis\"},{\"attributes\":{\"axis\":{\"id\":\"3730\"},\"coordinates\":null,\"grid_line_color\":null,\"group\":null,\"ticker\":null},\"id\":\"3733\",\"type\":\"Grid\"},{\"attributes\":{\"days\":[1,2,3,4,5,6,7,8,9,10,11,12,13,14,15,16,17,18,19,20,21,22,23,24,25,26,27,28,29,30,31]},\"id\":\"3805\",\"type\":\"DaysTicker\"},{\"attributes\":{},\"id\":\"3763\",\"type\":\"AllLabels\"},{\"attributes\":{\"days\":[1,4,7,10,13,16,19,22,25,28]},\"id\":\"3806\",\"type\":\"DaysTicker\"},{\"attributes\":{},\"id\":\"3460\",\"type\":\"LinearScale\"},{\"attributes\":{\"axis\":{\"id\":\"3734\"},\"coordinates\":null,\"dimension\":1,\"grid_line_color\":null,\"group\":null,\"ticker\":null},\"id\":\"3737\",\"type\":\"Grid\"},{\"attributes\":{\"line_color\":\"green\",\"line_width\":2,\"x\":{\"field\":\"date\"},\"y\":{\"field\":\"volume\"}},\"id\":\"3754\",\"type\":\"Line\"},{\"attributes\":{\"days\":[1,4,7,10,13,16,19,22,25,28]},\"id\":\"3514\",\"type\":\"DaysTicker\"},{\"attributes\":{\"days\":[1,8,15,22]},\"id\":\"3807\",\"type\":\"DaysTicker\"},{\"attributes\":{\"coordinates\":null,\"data_source\":{\"id\":\"3751\"},\"glyph\":{\"id\":\"3754\"},\"group\":null,\"hover_glyph\":null,\"muted_glyph\":{\"id\":\"3756\"},\"nonselection_glyph\":{\"id\":\"3755\"},\"selection_glyph\":{\"id\":\"3759\"},\"view\":{\"id\":\"3758\"}},\"id\":\"3757\",\"type\":\"GlyphRenderer\"},{\"attributes\":{\"line_color\":\"blue\",\"line_width\":2,\"x\":{\"field\":\"date\"},\"y\":{\"field\":\"num_trades\"}},\"id\":\"3496\",\"type\":\"Line\"},{\"attributes\":{\"line_color\":\"red\",\"line_width\":2,\"x\":{\"field\":\"date\"},\"y\":{\"field\":\"unique_buyers\"}},\"id\":\"3557\",\"type\":\"Line\"},{\"attributes\":{\"click_policy\":\"mute\",\"coordinates\":null,\"group\":null,\"items\":[{\"id\":\"3523\"},{\"id\":\"3556\"}],\"location\":\"top_left\"},\"id\":\"3522\",\"type\":\"Legend\"},{\"attributes\":{\"coordinates\":null,\"group\":null,\"text\":\"Open Sea Number of Trades and Unique Buyers January 2021 to August 2022\",\"text_color\":\"black\",\"text_font_size\":\"12pt\"},\"id\":\"3454\",\"type\":\"Title\"},{\"attributes\":{\"days\":[1,15]},\"id\":\"3808\",\"type\":\"DaysTicker\"},{\"attributes\":{\"months\":[0,2,4,6,8,10]},\"id\":\"3518\",\"type\":\"MonthsTicker\"},{\"attributes\":{\"line_alpha\":0.1,\"line_color\":\"green\",\"line_width\":2,\"x\":{\"field\":\"date\"},\"y\":{\"field\":\"volume\"}},\"id\":\"3755\",\"type\":\"Line\"},{\"attributes\":{\"children\":[{\"id\":\"3448\"},{\"id\":\"3818\"},{\"id\":\"4215\"}],\"margin\":[0,0,0,0],\"name\":\"Row04141\",\"tags\":[\"embedded\"]},\"id\":\"3447\",\"type\":\"Row\"},{\"attributes\":{\"tools\":[{\"id\":\"3720\"},{\"id\":\"3738\"},{\"id\":\"3739\"},{\"id\":\"3740\"},{\"id\":\"3741\"},{\"id\":\"3742\"}]},\"id\":\"3744\",\"type\":\"Toolbar\"},{\"attributes\":{\"bottom_units\":\"screen\",\"coordinates\":null,\"fill_alpha\":0.5,\"fill_color\":\"lightgrey\",\"group\":null,\"left_units\":\"screen\",\"level\":\"overlay\",\"line_alpha\":1.0,\"line_color\":\"black\",\"line_dash\":[4,4],\"line_width\":2,\"right_units\":\"screen\",\"syncable\":false,\"top_units\":\"screen\"},\"id\":\"3743\",\"type\":\"BoxAnnotation\"},{\"attributes\":{\"months\":[0,4,8]},\"id\":\"3811\",\"type\":\"MonthsTicker\"},{\"attributes\":{\"below\":[{\"id\":\"3462\"}],\"center\":[{\"id\":\"3465\"},{\"id\":\"3469\"},{\"id\":\"3522\"}],\"height\":700,\"left\":[{\"id\":\"3466\"}],\"margin\":null,\"min_border_bottom\":10,\"min_border_left\":10,\"min_border_right\":10,\"min_border_top\":10,\"renderers\":[{\"id\":\"3499\"},{\"id\":\"3531\"}],\"sizing_mode\":\"fixed\",\"title\":{\"id\":\"3454\"},\"toolbar\":{\"id\":\"3476\"},\"toolbar_location\":null,\"width\":1000,\"x_range\":{\"id\":\"3449\"},\"x_scale\":{\"id\":\"3458\"},\"y_range\":{\"id\":\"3450\"},\"y_scale\":{\"id\":\"3460\"}},\"id\":\"3453\",\"subtype\":\"Figure\",\"type\":\"Plot\"},{\"attributes\":{},\"id\":\"3738\",\"type\":\"SaveTool\"},{\"attributes\":{},\"id\":\"3487\",\"type\":\"AllLabels\"},{\"attributes\":{\"months\":[0,2,4,6,8,10]},\"id\":\"3810\",\"type\":\"MonthsTicker\"},{\"attributes\":{},\"id\":\"3739\",\"type\":\"PanTool\"},{\"attributes\":{\"margin\":[5,5,5,5],\"name\":\"HSpacer04145\",\"sizing_mode\":\"stretch_width\"},\"id\":\"3448\",\"type\":\"Spacer\"},{\"attributes\":{},\"id\":\"3470\",\"type\":\"SaveTool\"},{\"attributes\":{\"below\":[{\"id\":\"3730\"}],\"center\":[{\"id\":\"3733\"},{\"id\":\"3737\"}],\"height\":700,\"left\":[{\"id\":\"3734\"}],\"margin\":null,\"min_border_bottom\":10,\"min_border_left\":10,\"min_border_right\":10,\"min_border_top\":10,\"renderers\":[{\"id\":\"3757\"}],\"sizing_mode\":\"fixed\",\"title\":{\"id\":\"3722\"},\"toolbar\":{\"id\":\"3744\"},\"toolbar_location\":null,\"width\":1000,\"x_range\":{\"id\":\"3449\"},\"x_scale\":{\"id\":\"3726\"},\"y_range\":{\"id\":\"3719\"},\"y_scale\":{\"id\":\"3728\"}},\"id\":\"3721\",\"subtype\":\"Figure\",\"type\":\"Plot\"},{\"attributes\":{},\"id\":\"3742\",\"type\":\"ResetTool\"},{\"attributes\":{},\"id\":\"3740\",\"type\":\"WheelZoomTool\"},{\"attributes\":{},\"id\":\"3472\",\"type\":\"WheelZoomTool\"},{\"attributes\":{\"months\":[0,1,2,3,4,5,6,7,8,9,10,11]},\"id\":\"3517\",\"type\":\"MonthsTicker\"},{\"attributes\":{\"coordinates\":null,\"data_source\":{\"id\":\"3493\"},\"glyph\":{\"id\":\"3496\"},\"group\":null,\"hover_glyph\":null,\"muted_glyph\":{\"id\":\"3498\"},\"nonselection_glyph\":{\"id\":\"3497\"},\"selection_glyph\":{\"id\":\"3524\"},\"view\":{\"id\":\"3500\"}},\"id\":\"3499\",\"type\":\"GlyphRenderer\"},{\"attributes\":{\"data\":{\"date\":{\"__ndarray__\":\"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\",\"dtype\":\"float64\",\"order\":\"little\",\"shape\":[583]},\"num_trades\":[3,5,5,12,15,15,16,11,7,21,13,17,29,15,6,10,1,15,4,5,12,8,26,30,17,23,64,24,12,19,13,31,28,35,30,26,18,11,54,52,22,33,19,85,167,108,76,178,132,113,101,277,181,81,68,37,24,43,53,42,45,42,36,55,21,34,36,30,25,117,135,53,61,76,42,53,50,47,48,63,26,51,24,18,16,44,43,18,59,24,26,19,17,24,42,30,24,165,80,37,60,63,74,49,54,39,37,26,29,42,31,32,57,45,22,50,64,51,56,151,3839,1700,1301,404,289,214,169,120,140,87,73,71,98,68,70,95,64,88,66,92,101,86,84,116,93,67,83,148,155,604,475,527,303,184,126,257,353,531,280,165,142,145,85,136,98,206,170,227,406,827,725,499,227,240,230,662,817,349,237,235,171,2887,1415,594,2754,643,696,2306,521,960,645,434,507,525,454,944,652,1128,688,1003,732,371,250,213,142,195,296,242,187,145,422,644,1017,315,493,1522,862,718,415,366,282,297,212,198,679,256,199,140,129,129,148,353,569,382,940,1276,398,304,419,1905,11187,1491,870,697,639,533,326,405,367,292,270,248,289,177,205,484,253,332,391,231,261,200,155,362,202,217,259,261,357,195,163,164,186,191,151,245,188,210,146,150,289,164,113,123,115,153,161,144,109,2136,5226,773,736,475,710,1061,400,355,270,250,321,267,214,195,207,253,295,306,338,210,247,238,225,203,245,283,1067,1238,698,996,1023,730,381,254,240,250,200,232,174,139,120,140,198,166,186,204,238,211,150,180,121,145,153,172,161,699,2653,1517,651,467,529,351,257,252,329,380,454,472,425,830,1047,431,446,416,730,803,1238,1122,919,641,392,370,489,408,380,404,5860,2705,971,868,619,631,668,948,2546,2399,826,671,615,1438,2260,1222,999,1155,1301,1578,1214,653,551,543,308,376,539,269,314,262,239,244,344,279,461,291,226,212,195,224,196,244,257,690,434,164,162,146,155,198,229,308,176,133,288,243,216,249,255,311,398,200,259,656,1204,1029,848,360,272,307,406,743,442,374,277,222,264,247,439,638,449,790,303,393,216,170,155,139,124,242,216,283,237,265,11992,1956,1028,933,907,931,1247,979,929,1044,783,549,651,747,880,18424,8955,4226,3808,2595,1922,1619,1314,2942,4582,3001,3046,2174,1001,692,635,790,1278,937,935,710,541,570,557,502,629,731,416,427,504,616,617,364,408,314,291,318,382,357,290,363,467,529,1728,1444,893,660,613,683,861,851,583,373,199,169,120,281,834,317,239,186,196,135,156,174,212,216,251,237,246,321,176,192,190,155,225,364,265,262,203,116,137,101,85,129,105,136,112,117,105,22,59,71,64,84,119,188,144]},\"selected\":{\"id\":\"3494\"},\"selection_policy\":{\"id\":\"3507\"}},\"id\":\"3493\",\"type\":\"ColumnDataSource\"},{\"attributes\":{\"toolbar\":{\"id\":\"3816\"},\"toolbar_location\":\"above\"},\"id\":\"3817\",\"type\":\"ToolbarBox\"},{\"attributes\":{\"overlay\":{\"id\":\"3743\"}},\"id\":\"3741\",\"type\":\"BoxZoomTool\"},{\"attributes\":{\"days\":[1,8,15,22]},\"id\":\"3515\",\"type\":\"DaysTicker\"},{\"attributes\":{\"tools\":[{\"id\":\"3451\"},{\"id\":\"3452\"},{\"id\":\"3470\"},{\"id\":\"3471\"},{\"id\":\"3472\"},{\"id\":\"3473\"},{\"id\":\"3474\"}]},\"id\":\"3476\",\"type\":\"Toolbar\"},{\"attributes\":{\"base\":24,\"mantissas\":[1,2,4,6,8,12],\"max_interval\":43200000.0,\"min_interval\":3600000.0,\"num_minor_ticks\":0},\"id\":\"3512\",\"type\":\"AdaptiveTicker\"},{\"attributes\":{\"days\":[1,15]},\"id\":\"3516\",\"type\":\"DaysTicker\"},{\"attributes\":{\"line_color\":\"green\",\"line_width\":2,\"x\":{\"field\":\"date\"},\"y\":{\"field\":\"volume\"}},\"id\":\"3759\",\"type\":\"Line\"},{\"attributes\":{\"mantissas\":[1,2,5],\"max_interval\":500.0,\"num_minor_ticks\":0},\"id\":\"3802\",\"type\":\"AdaptiveTicker\"},{\"attributes\":{},\"id\":\"3490\",\"type\":\"AllLabels\"},{\"attributes\":{\"overlay\":{\"id\":\"3475\"}},\"id\":\"3473\",\"type\":\"BoxZoomTool\"},{\"attributes\":{\"mantissas\":[1,2,5],\"max_interval\":500.0,\"num_minor_ticks\":0},\"id\":\"3510\",\"type\":\"AdaptiveTicker\"},{\"attributes\":{\"callback\":null,\"formatters\":{\"@{date}\":\"datetime\"},\"renderers\":[{\"id\":\"3531\"}],\"tags\":[\"hv_created\"],\"tooltips\":[[\"date\",\"@{date}{%F %T}\"],[\"unique_buyers\",\"@{unique_buyers}\"]]},\"id\":\"3452\",\"type\":\"HoverTool\"},{\"attributes\":{},\"id\":\"3799\",\"type\":\"UnionRenderers\"},{\"attributes\":{\"base\":24,\"mantissas\":[1,2,4,6,8,12],\"max_interval\":43200000.0,\"min_interval\":3600000.0,\"num_minor_ticks\":0},\"id\":\"3804\",\"type\":\"AdaptiveTicker\"},{\"attributes\":{\"months\":[0,6]},\"id\":\"3812\",\"type\":\"MonthsTicker\"},{\"attributes\":{},\"id\":\"3813\",\"type\":\"YearsTicker\"},{\"attributes\":{\"source\":{\"id\":\"3493\"}},\"id\":\"3500\",\"type\":\"CDSView\"},{\"attributes\":{\"line_alpha\":0.2,\"line_color\":\"green\",\"line_width\":2,\"x\":{\"field\":\"date\"},\"y\":{\"field\":\"volume\"}},\"id\":\"3756\",\"type\":\"Line\"},{\"attributes\":{\"toolbars\":[{\"id\":\"3476\"},{\"id\":\"3744\"}],\"tools\":[{\"id\":\"3451\"},{\"id\":\"3452\"},{\"id\":\"3470\"},{\"id\":\"3471\"},{\"id\":\"3472\"},{\"id\":\"3473\"},{\"id\":\"3474\"},{\"id\":\"3720\"},{\"id\":\"3738\"},{\"id\":\"3739\"},{\"id\":\"3740\"},{\"id\":\"3741\"},{\"id\":\"3742\"}]},\"id\":\"3816\",\"type\":\"ProxyToolbar\"},{\"attributes\":{\"line_alpha\":0.1,\"line_color\":\"blue\",\"line_width\":2,\"x\":{\"field\":\"date\"},\"y\":{\"field\":\"num_trades\"}},\"id\":\"3497\",\"type\":\"Line\"},{\"attributes\":{\"source\":{\"id\":\"3751\"}},\"id\":\"3758\",\"type\":\"CDSView\"},{\"attributes\":{\"days\":[1,2,3,4,5,6,7,8,9,10,11,12,13,14,15,16,17,18,19,20,21,22,23,24,25,26,27,28,29,30,31]},\"id\":\"3513\",\"type\":\"DaysTicker\"},{\"attributes\":{},\"id\":\"3494\",\"type\":\"Selection\"},{\"attributes\":{\"months\":[0,4,8]},\"id\":\"3519\",\"type\":\"MonthsTicker\"},{\"attributes\":{\"data\":{\"date\":{\"__ndarray__\":\"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\",\"dtype\":\"float64\",\"order\":\"little\",\"shape\":[583]},\"unique_buyers\":[3,4,5,11,15,8,11,11,7,14,10,9,22,11,6,8,1,13,2,4,10,7,22,24,10,18,41,20,9,12,9,20,13,30,16,16,14,10,32,31,17,21,12,56,98,64,61,91,93,73,55,149,118,57,47,33,23,31,41,39,39,30,33,46,19,24,30,22,16,74,87,46,50,49,36,42,42,34,40,57,26,35,23,18,15,33,33,15,49,22,20,14,15,15,26,26,23,91,66,34,46,54,56,39,40,35,28,20,23,30,25,23,42,39,20,44,54,48,52,115,1507,921,733,272,207,165,139,101,105,73,55,56,80,59,59,68,53,75,61,72,81,80,71,98,77,58,65,123,120,358,347,384,198,156,91,217,277,362,235,129,118,118,78,95,86,164,148,181,293,534,425,289,166,163,147,416,508,259,185,194,150,1195,564,303,941,379,405,1068,369,567,410,325,389,368,324,663,508,737,520,619,499,301,211,181,126,156,222,189,160,124,242,488,652,265,403,1044,632,543,324,274,233,244,169,161,472,219,171,124,114,112,116,283,435,268,724,908,323,237,324,1310,6670,1193,694,567,547,463,281,340,301,255,235,217,265,157,184,362,216,289,333,187,219,180,141,332,177,188,201,224,298,170,155,147,160,172,140,222,171,180,127,137,243,137,100,119,106,136,154,123,100,1608,3444,618,550,397,565,874,352,303,232,223,263,234,191,181,191,227,250,273,288,192,225,225,206,182,227,259,925,996,613,816,883,602,315,236,218,228,177,193,164,128,112,127,175,150,158,184,204,191,141,162,111,125,131,150,138,538,1830,1127,557,405,402,308,229,231,297,336,410,429,383,735,883,392,404,383,613,691,990,937,731,532,355,330,422,358,335,304,4477,2081,736,586,433,433,503,629,1683,1763,705,571,537,1099,1710,983,808,959,1062,1272,942,502,445,472,261,301,441,244,280,221,218,223,265,213,385,241,197,193,164,190,167,214,229,630,353,149,140,139,138,168,205,256,158,123,243,216,202,210,225,281,334,184,244,582,990,834,741,324,247,259,302,548,326,282,241,207,225,208,358,484,386,680,276,331,191,157,147,119,114,207,185,252,221,229,10174,1438,854,818,725,750,730,592,546,586,524,392,432,488,558,8618,5459,2800,2470,1519,1196,936,813,1814,2732,1723,1903,1462,656,463,429,477,686,622,539,497,371,335,351,320,465,499,301,307,366,411,380,251,256,222,190,224,257,251,209,239,338,406,1155,817,616,504,429,476,494,519,398,255,124,112,83,154,328,171,151,127,130,87,106,115,114,143,147,152,146,196,125,127,134,103,146,221,178,169,134,97,118,88,70,106,95,112,94,94,88,19,52,57,58,70,108,176,133]},\"selected\":{\"id\":\"3526\"},\"selection_policy\":{\"id\":\"3541\"}},\"id\":\"3525\",\"type\":\"ColumnDataSource\"},{\"attributes\":{\"base\":60,\"mantissas\":[1,2,5,10,15,20,30],\"max_interval\":1800000.0,\"min_interval\":1000.0,\"num_minor_ticks\":0},\"id\":\"3803\",\"type\":\"AdaptiveTicker\"},{\"attributes\":{\"label\":{\"value\":\"Number of Trades\"},\"renderers\":[{\"id\":\"3499\"}]},\"id\":\"3523\",\"type\":\"LegendItem\"},{\"attributes\":{\"children\":[{\"id\":\"3817\"},{\"id\":\"3815\"}]},\"id\":\"3818\",\"type\":\"Column\"},{\"attributes\":{\"end\":1659744000000.0,\"reset_end\":1659744000000.0,\"reset_start\":1609459200000.0,\"start\":1609459200000.0,\"tags\":[[[\"date\",\"date\",null]]]},\"id\":\"3449\",\"type\":\"Range1d\"},{\"attributes\":{},\"id\":\"3471\",\"type\":\"PanTool\"},{\"attributes\":{\"base\":60,\"mantissas\":[1,2,5,10,15,20,30],\"max_interval\":1800000.0,\"min_interval\":1000.0,\"num_minor_ticks\":0},\"id\":\"3511\",\"type\":\"AdaptiveTicker\"},{\"attributes\":{\"months\":[0,6]},\"id\":\"3520\",\"type\":\"MonthsTicker\"},{\"attributes\":{},\"id\":\"3762\",\"type\":\"DatetimeTickFormatter\"},{\"attributes\":{},\"id\":\"3458\",\"type\":\"LinearScale\"},{\"attributes\":{\"num_minor_ticks\":5,\"tickers\":[{\"id\":\"3510\"},{\"id\":\"3511\"},{\"id\":\"3512\"},{\"id\":\"3513\"},{\"id\":\"3514\"},{\"id\":\"3515\"},{\"id\":\"3516\"},{\"id\":\"3517\"},{\"id\":\"3518\"},{\"id\":\"3519\"},{\"id\":\"3520\"},{\"id\":\"3521\"}]},\"id\":\"3463\",\"type\":\"DatetimeTicker\"},{\"attributes\":{},\"id\":\"3507\",\"type\":\"UnionRenderers\"},{\"attributes\":{\"axis_label\":\"Number of Trades\",\"coordinates\":null,\"formatter\":{\"id\":\"3484\"},\"group\":null,\"major_label_policy\":{\"id\":\"3490\"},\"ticker\":{\"id\":\"3467\"}},\"id\":\"3466\",\"type\":\"LinearAxis\"},{\"attributes\":{\"format\":\"%.0f\"},\"id\":\"3484\",\"type\":\"PrintfTickFormatter\"},{\"attributes\":{},\"id\":\"3521\",\"type\":\"YearsTicker\"},{\"attributes\":{\"margin\":[5,5,5,5],\"name\":\"HSpacer04146\",\"sizing_mode\":\"stretch_width\"},\"id\":\"4215\",\"type\":\"Spacer\"},{\"attributes\":{\"bottom_units\":\"screen\",\"coordinates\":null,\"fill_alpha\":0.5,\"fill_color\":\"lightgrey\",\"group\":null,\"left_units\":\"screen\",\"level\":\"overlay\",\"line_alpha\":1.0,\"line_color\":\"black\",\"line_dash\":[4,4],\"line_width\":2,\"right_units\":\"screen\",\"syncable\":false,\"top_units\":\"screen\"},\"id\":\"3475\",\"type\":\"BoxAnnotation\"},{\"attributes\":{\"line_color\":\"red\",\"line_width\":2,\"x\":{\"field\":\"date\"},\"y\":{\"field\":\"unique_buyers\"}},\"id\":\"3528\",\"type\":\"Line\"},{\"attributes\":{\"line_alpha\":0.1,\"line_color\":\"red\",\"line_width\":2,\"x\":{\"field\":\"date\"},\"y\":{\"field\":\"unique_buyers\"}},\"id\":\"3529\",\"type\":\"Line\"},{\"attributes\":{},\"id\":\"3766\",\"type\":\"AllLabels\"},{\"attributes\":{},\"id\":\"3467\",\"type\":\"BasicTicker\"},{\"attributes\":{\"axis\":{\"id\":\"3462\"},\"coordinates\":null,\"grid_line_color\":null,\"group\":null,\"ticker\":null},\"id\":\"3465\",\"type\":\"Grid\"},{\"attributes\":{\"coordinates\":null,\"data_source\":{\"id\":\"3525\"},\"glyph\":{\"id\":\"3528\"},\"group\":null,\"hover_glyph\":null,\"muted_glyph\":{\"id\":\"3530\"},\"nonselection_glyph\":{\"id\":\"3529\"},\"selection_glyph\":{\"id\":\"3557\"},\"view\":{\"id\":\"3532\"}},\"id\":\"3531\",\"type\":\"GlyphRenderer\"},{\"attributes\":{\"label\":{\"value\":\"Number of Unique Buyers\"},\"renderers\":[{\"id\":\"3531\"}]},\"id\":\"3556\",\"type\":\"LegendItem\"},{\"attributes\":{\"children\":[[{\"id\":\"3453\"},0,0],[{\"id\":\"3721\"},0,1]]},\"id\":\"3815\",\"type\":\"GridBox\"}],\"root_ids\":[\"3447\"]},\"title\":\"Bokeh Application\",\"version\":\"2.4.2\"}};\n",
       "    var render_items = [{\"docid\":\"fabc0d0f-66a3-4486-8962-d99b7ca5d1e3\",\"root_ids\":[\"3447\"],\"roots\":{\"3447\":\"c62c9778-afc1-4a4e-b5f5-8518371adc24\"}}];\n",
       "    root.Bokeh.embed.embed_items_notebook(docs_json, render_items);\n",
       "  }\n",
       "  if (root.Bokeh !== undefined && root.Bokeh.Panel !== undefined) {\n",
       "    embed_document(root);\n",
       "  } else {\n",
       "    var attempts = 0;\n",
       "    var timer = setInterval(function(root) {\n",
       "      if (root.Bokeh !== undefined && root.Bokeh.Panel !== undefined) {\n",
       "        clearInterval(timer);\n",
       "        embed_document(root);\n",
       "      } else if (document.readyState == \"complete\") {\n",
       "        attempts++;\n",
       "        if (attempts > 200) {\n",
       "          clearInterval(timer);\n",
       "          console.log(\"Bokeh: ERROR: Unable to run BokehJS code because BokehJS library is missing\");\n",
       "        }\n",
       "      }\n",
       "    }, 25, root)\n",
       "  }\n",
       "})(window);</script>"
      ],
      "text/plain": [
       ":Layout\n",
       "   .Overlay.I           :Overlay\n",
       "      .Curve.Number_of_Trades        :Curve   [date]   (num_trades)\n",
       "      .Curve.Number_of_Unique_Buyers :Curve   [date]   (unique_buyers)\n",
       "   .Curve.Volume_in_ETH :Curve   [date]   (volume)"
      ]
     },
     "execution_count": 47,
     "metadata": {
      "application/vnd.holoviews_exec.v0+json": {
       "id": "3447"
      }
     },
     "output_type": "execute_result"
    }
   ],
   "source": [
    "side_by_side"
   ]
  },
  {
   "cell_type": "code",
   "execution_count": null,
   "id": "7a800f64-7466-4cb4-9b35-cd2d3c8885d3",
   "metadata": {},
   "outputs": [],
   "source": []
  }
 ],
 "metadata": {
  "kernelspec": {
   "display_name": "Python (dev)",
   "language": "python",
   "name": "dev"
  },
  "language_info": {
   "codemirror_mode": {
    "name": "ipython",
    "version": 3
   },
   "file_extension": ".py",
   "mimetype": "text/x-python",
   "name": "python",
   "nbconvert_exporter": "python",
   "pygments_lexer": "ipython3",
   "version": "3.7.13"
  }
 },
 "nbformat": 4,
 "nbformat_minor": 5
}
