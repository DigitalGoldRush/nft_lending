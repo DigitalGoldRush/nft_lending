{
 "cells": [
  {
   "cell_type": "code",
   "execution_count": 92,
   "id": "6b3166b4-4818-4879-a50c-9c0e5c1def98",
   "metadata": {},
   "outputs": [],
   "source": [
    "import os\n",
    "import requests\n",
    "import json\n",
    "import pandas as pd\n",
    "import hvplot.pandas\n",
    "import sqlalchemy\n",
    "from sqlalchemy import inspect\n",
    "from dotenv import load_dotenv\n",
    "import numpy as np"
   ]
  },
  {
   "cell_type": "code",
   "execution_count": 63,
   "id": "c19e5919-e995-4faf-8532-e1efa5991b76",
   "metadata": {},
   "outputs": [
    {
     "data": {
      "text/plain": [
       "True"
      ]
     },
     "execution_count": 63,
     "metadata": {},
     "output_type": "execute_result"
    }
   ],
   "source": [
    "load_dotenv()"
   ]
  },
  {
   "cell_type": "code",
   "execution_count": 64,
   "id": "e9dce4ce-514f-4505-8d25-f4d2ebe2d9a5",
   "metadata": {},
   "outputs": [
    {
     "data": {
      "text/plain": [
       "str"
      ]
     },
     "metadata": {},
     "output_type": "display_data"
    },
    {
     "data": {
      "text/plain": [
       "str"
      ]
     },
     "metadata": {},
     "output_type": "display_data"
    }
   ],
   "source": [
    "database_connection_string = os.getenv(\"DATABASE_URL\")\n",
    "database_schema = os.getenv(\"DATABASE_SCHEMA\")\n",
    "\n",
    "display(type(database_connection_string))\n",
    "display(type(database_schema))"
   ]
  },
  {
   "cell_type": "code",
   "execution_count": 65,
   "id": "401c79f4-33a6-4422-8f31-ff0bec0dbf73",
   "metadata": {},
   "outputs": [
    {
     "data": {
      "text/plain": [
       "['token_attribute',\n",
       " 'network',\n",
       " 'collection',\n",
       " 'contract_map',\n",
       " 'token',\n",
       " 'whale',\n",
       " 'api',\n",
       " 'trade',\n",
       " 'social_media',\n",
       " 'data_analysis']"
      ]
     },
     "execution_count": 65,
     "metadata": {},
     "output_type": "execute_result"
    }
   ],
   "source": [
    "engine = sqlalchemy.create_engine(database_connection_string)\n",
    "inspector = inspect(engine)\n",
    "inspector.get_table_names()"
   ]
  },
  {
   "cell_type": "code",
   "execution_count": 66,
   "id": "b9de8a12-97ee-484e-9cd0-1f2fbb091fa5",
   "metadata": {},
   "outputs": [],
   "source": [
    "os_top_collection_index = \"\"\"\n",
    "SELECT t.contract_id,\n",
    "       c.name,\n",
    "       DATE_TRUNC('day', t.timestamp) as year_day_month,\n",
    "       SUM(t.volume) as total_volume,\n",
    "       SUM(t.num_trades) as total_num_trades,\n",
    "       SUM(t.unique_buyers) as total_unique_buyers\n",
    "FROM trade t\n",
    "INNER JOIN collection c ON c.contract_id = t.contract_id\n",
    "INNER JOIN network n ON n.network_id = c.network_id\n",
    "WHERE n.network_id = 'ethereum' \n",
    "AND c.name NOT IN ('','New 0x495f947276749Ce646f68AC8c248420045cb7b5eLock', 'pieceofshit', 'Uniswap V3 Positions NFT-V1','More Loot',\n",
    "                  'NFTfi Promissory Note','dementorstownwtf','ShitBeast','mcgoblintownwtf','LonelyPop','Pablos','For the Culture','Hype Pass')\n",
    "GROUP BY t.contract_id, c.name, DATE_TRUNC('day', t.timestamp)\n",
    "HAVING MAX(avg_price) > 0\n",
    "ORDER BY DATE_TRUNC('day', t.timestamp)  ASC\n",
    "\"\"\""
   ]
  },
  {
   "cell_type": "code",
   "execution_count": 67,
   "id": "7432ca2b-4f83-4570-9569-57abada1db31",
   "metadata": {},
   "outputs": [],
   "source": [
    "os_top_collection_index_df = pd.read_sql_query(os_top_collection_index, con=engine)"
   ]
  },
  {
   "cell_type": "code",
   "execution_count": 68,
   "id": "f9d1b9f0-0bc7-4226-983d-865f3104f8b4",
   "metadata": {},
   "outputs": [
    {
     "data": {
      "text/html": [
       "<div>\n",
       "<style scoped>\n",
       "    .dataframe tbody tr th:only-of-type {\n",
       "        vertical-align: middle;\n",
       "    }\n",
       "\n",
       "    .dataframe tbody tr th {\n",
       "        vertical-align: top;\n",
       "    }\n",
       "\n",
       "    .dataframe thead th {\n",
       "        text-align: right;\n",
       "    }\n",
       "</style>\n",
       "<table border=\"1\" class=\"dataframe\">\n",
       "  <thead>\n",
       "    <tr style=\"text-align: right;\">\n",
       "      <th></th>\n",
       "      <th>contract_id</th>\n",
       "      <th>name</th>\n",
       "      <th>year_day_month</th>\n",
       "      <th>total_volume</th>\n",
       "      <th>total_num_trades</th>\n",
       "      <th>total_unique_buyers</th>\n",
       "    </tr>\n",
       "  </thead>\n",
       "  <tbody>\n",
       "    <tr>\n",
       "      <th>0</th>\n",
       "      <td>ethereum:b47e3cd837ddf8e4c57f05d70ab865de6e193bbb</td>\n",
       "      <td>CryptoPunks</td>\n",
       "      <td>2017-06-23</td>\n",
       "      <td>3</td>\n",
       "      <td>20</td>\n",
       "      <td>8</td>\n",
       "    </tr>\n",
       "    <tr>\n",
       "      <th>1</th>\n",
       "      <td>ethereum:b47e3cd837ddf8e4c57f05d70ab865de6e193bbb</td>\n",
       "      <td>CryptoPunks</td>\n",
       "      <td>2017-06-24</td>\n",
       "      <td>4</td>\n",
       "      <td>20</td>\n",
       "      <td>7</td>\n",
       "    </tr>\n",
       "    <tr>\n",
       "      <th>2</th>\n",
       "      <td>ethereum:b47e3cd837ddf8e4c57f05d70ab865de6e193bbb</td>\n",
       "      <td>CryptoPunks</td>\n",
       "      <td>2017-06-25</td>\n",
       "      <td>2</td>\n",
       "      <td>13</td>\n",
       "      <td>7</td>\n",
       "    </tr>\n",
       "    <tr>\n",
       "      <th>3</th>\n",
       "      <td>ethereum:b47e3cd837ddf8e4c57f05d70ab865de6e193bbb</td>\n",
       "      <td>CryptoPunks</td>\n",
       "      <td>2017-06-26</td>\n",
       "      <td>2</td>\n",
       "      <td>18</td>\n",
       "      <td>8</td>\n",
       "    </tr>\n",
       "    <tr>\n",
       "      <th>4</th>\n",
       "      <td>ethereum:b47e3cd837ddf8e4c57f05d70ab865de6e193bbb</td>\n",
       "      <td>CryptoPunks</td>\n",
       "      <td>2017-06-27</td>\n",
       "      <td>8</td>\n",
       "      <td>35</td>\n",
       "      <td>8</td>\n",
       "    </tr>\n",
       "    <tr>\n",
       "      <th>...</th>\n",
       "      <td>...</td>\n",
       "      <td>...</td>\n",
       "      <td>...</td>\n",
       "      <td>...</td>\n",
       "      <td>...</td>\n",
       "      <td>...</td>\n",
       "    </tr>\n",
       "    <tr>\n",
       "      <th>14760</th>\n",
       "      <td>ethereum:ed5af388653567af2f388e6224dc7c4b3241c544</td>\n",
       "      <td>Azuki</td>\n",
       "      <td>2022-08-06</td>\n",
       "      <td>27</td>\n",
       "      <td>3</td>\n",
       "      <td>3</td>\n",
       "    </tr>\n",
       "    <tr>\n",
       "      <th>14761</th>\n",
       "      <td>ethereum:c36cf0cfcb5d905b8b513860db0cfe63f6cf9f5c</td>\n",
       "      <td>October London</td>\n",
       "      <td>2022-08-06</td>\n",
       "      <td>23</td>\n",
       "      <td>41</td>\n",
       "      <td>23</td>\n",
       "    </tr>\n",
       "    <tr>\n",
       "      <th>14762</th>\n",
       "      <td>ethereum:8a90cab2b38dba80c64b7734e58ee1db38b8992e</td>\n",
       "      <td>Doodles</td>\n",
       "      <td>2022-08-06</td>\n",
       "      <td>8</td>\n",
       "      <td>1</td>\n",
       "      <td>1</td>\n",
       "    </tr>\n",
       "    <tr>\n",
       "      <th>14763</th>\n",
       "      <td>ethereum:d2f668a8461d6761115daf8aeb3cdf5f40c532c6</td>\n",
       "      <td>Karafuru</td>\n",
       "      <td>2022-08-06</td>\n",
       "      <td>0</td>\n",
       "      <td>1</td>\n",
       "      <td>1</td>\n",
       "    </tr>\n",
       "    <tr>\n",
       "      <th>14764</th>\n",
       "      <td>ethereum:497b54355043e7a0d06bf5e3c20cecf859fcc0a8</td>\n",
       "      <td>VIVID</td>\n",
       "      <td>2022-08-06</td>\n",
       "      <td>0</td>\n",
       "      <td>2</td>\n",
       "      <td>2</td>\n",
       "    </tr>\n",
       "  </tbody>\n",
       "</table>\n",
       "<p>14765 rows × 6 columns</p>\n",
       "</div>"
      ],
      "text/plain": [
       "                                             contract_id            name  \\\n",
       "0      ethereum:b47e3cd837ddf8e4c57f05d70ab865de6e193bbb     CryptoPunks   \n",
       "1      ethereum:b47e3cd837ddf8e4c57f05d70ab865de6e193bbb     CryptoPunks   \n",
       "2      ethereum:b47e3cd837ddf8e4c57f05d70ab865de6e193bbb     CryptoPunks   \n",
       "3      ethereum:b47e3cd837ddf8e4c57f05d70ab865de6e193bbb     CryptoPunks   \n",
       "4      ethereum:b47e3cd837ddf8e4c57f05d70ab865de6e193bbb     CryptoPunks   \n",
       "...                                                  ...             ...   \n",
       "14760  ethereum:ed5af388653567af2f388e6224dc7c4b3241c544           Azuki   \n",
       "14761  ethereum:c36cf0cfcb5d905b8b513860db0cfe63f6cf9f5c  October London   \n",
       "14762  ethereum:8a90cab2b38dba80c64b7734e58ee1db38b8992e         Doodles   \n",
       "14763  ethereum:d2f668a8461d6761115daf8aeb3cdf5f40c532c6        Karafuru   \n",
       "14764  ethereum:497b54355043e7a0d06bf5e3c20cecf859fcc0a8           VIVID   \n",
       "\n",
       "      year_day_month  total_volume  total_num_trades  total_unique_buyers  \n",
       "0         2017-06-23             3                20                    8  \n",
       "1         2017-06-24             4                20                    7  \n",
       "2         2017-06-25             2                13                    7  \n",
       "3         2017-06-26             2                18                    8  \n",
       "4         2017-06-27             8                35                    8  \n",
       "...              ...           ...               ...                  ...  \n",
       "14760     2022-08-06            27                 3                    3  \n",
       "14761     2022-08-06            23                41                   23  \n",
       "14762     2022-08-06             8                 1                    1  \n",
       "14763     2022-08-06             0                 1                    1  \n",
       "14764     2022-08-06             0                 2                    2  \n",
       "\n",
       "[14765 rows x 6 columns]"
      ]
     },
     "execution_count": 68,
     "metadata": {},
     "output_type": "execute_result"
    }
   ],
   "source": [
    "os_top_collection_index_df"
   ]
  },
  {
   "cell_type": "code",
   "execution_count": 69,
   "id": "bd7b77b2-1985-4f2d-b4f9-7717e320a0a3",
   "metadata": {},
   "outputs": [],
   "source": [
    "os_top_collection_index_df = os_top_collection_index_df[['year_day_month', 'total_volume', 'total_num_trades', 'total_unique_buyers']]"
   ]
  },
  {
   "cell_type": "code",
   "execution_count": 70,
   "id": "94faaed4-1e35-490b-8b77-af9bc2b16385",
   "metadata": {},
   "outputs": [],
   "source": [
    "os_top_collection_index_df.columns = ['date', 'volume', 'num_trades', 'unique_buyers']"
   ]
  },
  {
   "cell_type": "code",
   "execution_count": 71,
   "id": "a57215fd-7d68-4fff-a322-0b972a48ec23",
   "metadata": {},
   "outputs": [
    {
     "data": {
      "text/html": [
       "<div>\n",
       "<style scoped>\n",
       "    .dataframe tbody tr th:only-of-type {\n",
       "        vertical-align: middle;\n",
       "    }\n",
       "\n",
       "    .dataframe tbody tr th {\n",
       "        vertical-align: top;\n",
       "    }\n",
       "\n",
       "    .dataframe thead th {\n",
       "        text-align: right;\n",
       "    }\n",
       "</style>\n",
       "<table border=\"1\" class=\"dataframe\">\n",
       "  <thead>\n",
       "    <tr style=\"text-align: right;\">\n",
       "      <th></th>\n",
       "      <th>date</th>\n",
       "      <th>volume</th>\n",
       "      <th>num_trades</th>\n",
       "      <th>unique_buyers</th>\n",
       "    </tr>\n",
       "  </thead>\n",
       "  <tbody>\n",
       "    <tr>\n",
       "      <th>0</th>\n",
       "      <td>2017-06-23</td>\n",
       "      <td>3</td>\n",
       "      <td>20</td>\n",
       "      <td>8</td>\n",
       "    </tr>\n",
       "    <tr>\n",
       "      <th>1</th>\n",
       "      <td>2017-06-24</td>\n",
       "      <td>4</td>\n",
       "      <td>20</td>\n",
       "      <td>7</td>\n",
       "    </tr>\n",
       "    <tr>\n",
       "      <th>2</th>\n",
       "      <td>2017-06-25</td>\n",
       "      <td>2</td>\n",
       "      <td>13</td>\n",
       "      <td>7</td>\n",
       "    </tr>\n",
       "    <tr>\n",
       "      <th>3</th>\n",
       "      <td>2017-06-26</td>\n",
       "      <td>2</td>\n",
       "      <td>18</td>\n",
       "      <td>8</td>\n",
       "    </tr>\n",
       "    <tr>\n",
       "      <th>4</th>\n",
       "      <td>2017-06-27</td>\n",
       "      <td>8</td>\n",
       "      <td>35</td>\n",
       "      <td>8</td>\n",
       "    </tr>\n",
       "    <tr>\n",
       "      <th>...</th>\n",
       "      <td>...</td>\n",
       "      <td>...</td>\n",
       "      <td>...</td>\n",
       "      <td>...</td>\n",
       "    </tr>\n",
       "    <tr>\n",
       "      <th>14760</th>\n",
       "      <td>2022-08-06</td>\n",
       "      <td>27</td>\n",
       "      <td>3</td>\n",
       "      <td>3</td>\n",
       "    </tr>\n",
       "    <tr>\n",
       "      <th>14761</th>\n",
       "      <td>2022-08-06</td>\n",
       "      <td>23</td>\n",
       "      <td>41</td>\n",
       "      <td>23</td>\n",
       "    </tr>\n",
       "    <tr>\n",
       "      <th>14762</th>\n",
       "      <td>2022-08-06</td>\n",
       "      <td>8</td>\n",
       "      <td>1</td>\n",
       "      <td>1</td>\n",
       "    </tr>\n",
       "    <tr>\n",
       "      <th>14763</th>\n",
       "      <td>2022-08-06</td>\n",
       "      <td>0</td>\n",
       "      <td>1</td>\n",
       "      <td>1</td>\n",
       "    </tr>\n",
       "    <tr>\n",
       "      <th>14764</th>\n",
       "      <td>2022-08-06</td>\n",
       "      <td>0</td>\n",
       "      <td>2</td>\n",
       "      <td>2</td>\n",
       "    </tr>\n",
       "  </tbody>\n",
       "</table>\n",
       "<p>14765 rows × 4 columns</p>\n",
       "</div>"
      ],
      "text/plain": [
       "            date  volume  num_trades  unique_buyers\n",
       "0     2017-06-23       3          20              8\n",
       "1     2017-06-24       4          20              7\n",
       "2     2017-06-25       2          13              7\n",
       "3     2017-06-26       2          18              8\n",
       "4     2017-06-27       8          35              8\n",
       "...          ...     ...         ...            ...\n",
       "14760 2022-08-06      27           3              3\n",
       "14761 2022-08-06      23          41             23\n",
       "14762 2022-08-06       8           1              1\n",
       "14763 2022-08-06       0           1              1\n",
       "14764 2022-08-06       0           2              2\n",
       "\n",
       "[14765 rows x 4 columns]"
      ]
     },
     "execution_count": 71,
     "metadata": {},
     "output_type": "execute_result"
    }
   ],
   "source": [
    "os_top_collection_index_df"
   ]
  },
  {
   "cell_type": "code",
   "execution_count": 72,
   "id": "84b829c1-4b33-4ffe-b8ee-3dc6a2addbc4",
   "metadata": {},
   "outputs": [],
   "source": [
    "os_top_collection_index_df = os_top_collection_index_df[os_top_collection_index_df['date'] > '2020-12-31']"
   ]
  },
  {
   "cell_type": "code",
   "execution_count": 73,
   "id": "f9488479-eb43-47c5-bbc8-0d2bf52e3f4b",
   "metadata": {},
   "outputs": [],
   "source": [
    "os_top_collection_index_volume = os_top_collection_index_df.groupby('date')['volume'].sum()\n",
    "os_top_collection_index_num_trades = os_top_collection_index_df.groupby('date')['num_trades'].sum()\n",
    "os_top_collection_index_unique_buyers = os_top_collection_index_df.groupby('date')['unique_buyers'].sum()"
   ]
  },
  {
   "cell_type": "code",
   "execution_count": 74,
   "id": "757e1ac2-4e54-45ba-9c59-a74777a01697",
   "metadata": {},
   "outputs": [
    {
     "data": {
      "text/plain": [
       "date\n",
       "2021-01-01     217\n",
       "2021-01-02     142\n",
       "2021-01-03     108\n",
       "2021-01-04      75\n",
       "2021-01-05     103\n",
       "              ... \n",
       "2022-08-02     501\n",
       "2022-08-03     479\n",
       "2022-08-04    2654\n",
       "2022-08-05    2843\n",
       "2022-08-06     287\n",
       "Name: unique_buyers, Length: 583, dtype: int64"
      ]
     },
     "execution_count": 74,
     "metadata": {},
     "output_type": "execute_result"
    }
   ],
   "source": [
    "os_top_collection_index_unique_buyers"
   ]
  },
  {
   "cell_type": "code",
   "execution_count": 75,
   "id": "b6260959-aba7-407d-8aa4-ce34718d6f8c",
   "metadata": {},
   "outputs": [],
   "source": [
    "overlay_1 = os_top_collection_index_volume.hvplot(\n",
    "    height=700, \n",
    "    width=1000, \n",
    "    yformatter='%.0f', \n",
    "    ylabel = 'Volume in ETH', \n",
    "    xlabel = 'Date',\n",
    "    title = 'Open Sea Volume for Top Collections January 2021 to August 2022',\n",
    "    color = 'green',\n",
    "    label = 'Volume in ETH'\n",
    ")"
   ]
  },
  {
   "cell_type": "markdown",
   "id": "d2fe6fc6-994b-4575-ab22-6de98ac26be4",
   "metadata": {},
   "source": [
    "# OPTION ONE"
   ]
  },
  {
   "cell_type": "code",
   "execution_count": 76,
   "id": "7ccd40da-b206-4094-a2dd-44dabb581318",
   "metadata": {},
   "outputs": [
    {
     "data": {},
     "metadata": {},
     "output_type": "display_data"
    },
    {
     "data": {
      "application/vnd.holoviews_exec.v0+json": "",
      "text/html": [
       "<div id='9201'>\n",
       "\n",
       "\n",
       "\n",
       "\n",
       "\n",
       "  <div class=\"bk-root\" id=\"3a989f6e-5bca-49e6-a81d-65da3aa2ad58\" data-root-id=\"9201\"></div>\n",
       "</div>\n",
       "<script type=\"application/javascript\">(function(root) {\n",
       "  function embed_document(root) {\n",
       "    var docs_json = {\"28bc0cbf-bb90-457e-9ec9-88455b32167f\":{\"defs\":[{\"extends\":null,\"module\":null,\"name\":\"ReactiveHTML1\",\"overrides\":[],\"properties\":[]},{\"extends\":null,\"module\":null,\"name\":\"FlexBox1\",\"overrides\":[],\"properties\":[{\"default\":\"flex-start\",\"kind\":null,\"name\":\"align_content\"},{\"default\":\"flex-start\",\"kind\":null,\"name\":\"align_items\"},{\"default\":\"row\",\"kind\":null,\"name\":\"flex_direction\"},{\"default\":\"wrap\",\"kind\":null,\"name\":\"flex_wrap\"},{\"default\":\"flex-start\",\"kind\":null,\"name\":\"justify_content\"}]},{\"extends\":null,\"module\":null,\"name\":\"GridStack1\",\"overrides\":[],\"properties\":[{\"default\":\"warn\",\"kind\":null,\"name\":\"mode\"},{\"default\":null,\"kind\":null,\"name\":\"ncols\"},{\"default\":null,\"kind\":null,\"name\":\"nrows\"},{\"default\":true,\"kind\":null,\"name\":\"allow_resize\"},{\"default\":true,\"kind\":null,\"name\":\"allow_drag\"},{\"default\":[],\"kind\":null,\"name\":\"state\"}]},{\"extends\":null,\"module\":null,\"name\":\"click1\",\"overrides\":[],\"properties\":[{\"default\":\"\",\"kind\":null,\"name\":\"terminal_output\"},{\"default\":\"\",\"kind\":null,\"name\":\"debug_name\"},{\"default\":0,\"kind\":null,\"name\":\"clears\"}]},{\"extends\":null,\"module\":null,\"name\":\"TemplateActions1\",\"overrides\":[],\"properties\":[{\"default\":0,\"kind\":null,\"name\":\"open_modal\"},{\"default\":0,\"kind\":null,\"name\":\"close_modal\"}]},{\"extends\":null,\"module\":null,\"name\":\"MaterialTemplateActions1\",\"overrides\":[],\"properties\":[{\"default\":0,\"kind\":null,\"name\":\"open_modal\"},{\"default\":0,\"kind\":null,\"name\":\"close_modal\"}]}],\"roots\":{\"references\":[{\"attributes\":{},\"id\":\"9211\",\"type\":\"LinearScale\"},{\"attributes\":{\"days\":[1,15]},\"id\":\"9269\",\"type\":\"DaysTicker\"},{\"attributes\":{\"axis_label\":\"Date\",\"coordinates\":null,\"formatter\":{\"id\":\"9247\"},\"group\":null,\"major_label_policy\":{\"id\":\"9248\"},\"ticker\":{\"id\":\"9216\"}},\"id\":\"9215\",\"type\":\"DatetimeAxis\"},{\"attributes\":{},\"id\":\"9224\",\"type\":\"PanTool\"},{\"attributes\":{},\"id\":\"9247\",\"type\":\"DatetimeTickFormatter\"},{\"attributes\":{},\"id\":\"9237\",\"type\":\"Selection\"},{\"attributes\":{\"base\":24,\"mantissas\":[1,2,4,6,8,12],\"max_interval\":43200000.0,\"min_interval\":3600000.0,\"num_minor_ticks\":0},\"id\":\"9265\",\"type\":\"AdaptiveTicker\"},{\"attributes\":{\"margin\":[5,5,5,5],\"name\":\"HSpacer09187\",\"sizing_mode\":\"stretch_width\"},\"id\":\"9296\",\"type\":\"Spacer\"},{\"attributes\":{\"months\":[0,6]},\"id\":\"9273\",\"type\":\"MonthsTicker\"},{\"attributes\":{\"format\":\"%.0f\"},\"id\":\"9245\",\"type\":\"PrintfTickFormatter\"},{\"attributes\":{},\"id\":\"9274\",\"type\":\"YearsTicker\"},{\"attributes\":{\"num_minor_ticks\":5,\"tickers\":[{\"id\":\"9263\"},{\"id\":\"9264\"},{\"id\":\"9265\"},{\"id\":\"9266\"},{\"id\":\"9267\"},{\"id\":\"9268\"},{\"id\":\"9269\"},{\"id\":\"9270\"},{\"id\":\"9271\"},{\"id\":\"9272\"},{\"id\":\"9273\"},{\"id\":\"9274\"}]},\"id\":\"9216\",\"type\":\"DatetimeTicker\"},{\"attributes\":{\"below\":[{\"id\":\"9215\"}],\"center\":[{\"id\":\"9218\"},{\"id\":\"9222\"}],\"height\":700,\"left\":[{\"id\":\"9219\"}],\"margin\":[5,5,5,5],\"min_border_bottom\":10,\"min_border_left\":10,\"min_border_right\":10,\"min_border_top\":10,\"renderers\":[{\"id\":\"9242\"}],\"sizing_mode\":\"fixed\",\"title\":{\"id\":\"9207\"},\"toolbar\":{\"id\":\"9229\"},\"width\":1000,\"x_range\":{\"id\":\"9203\"},\"x_scale\":{\"id\":\"9211\"},\"y_range\":{\"id\":\"9204\"},\"y_scale\":{\"id\":\"9213\"}},\"id\":\"9206\",\"subtype\":\"Figure\",\"type\":\"Plot\"},{\"attributes\":{\"days\":[1,2,3,4,5,6,7,8,9,10,11,12,13,14,15,16,17,18,19,20,21,22,23,24,25,26,27,28,29,30,31]},\"id\":\"9266\",\"type\":\"DaysTicker\"},{\"attributes\":{\"coordinates\":null,\"data_source\":{\"id\":\"9236\"},\"glyph\":{\"id\":\"9239\"},\"group\":null,\"hover_glyph\":null,\"muted_glyph\":{\"id\":\"9241\"},\"nonselection_glyph\":{\"id\":\"9240\"},\"selection_glyph\":{\"id\":\"9244\"},\"view\":{\"id\":\"9243\"}},\"id\":\"9242\",\"type\":\"GlyphRenderer\"},{\"attributes\":{\"line_alpha\":0.1,\"line_color\":\"green\",\"line_width\":2,\"x\":{\"field\":\"date\"},\"y\":{\"field\":\"volume\"}},\"id\":\"9240\",\"type\":\"Line\"},{\"attributes\":{\"callback\":null,\"formatters\":{\"@{date}\":\"datetime\"},\"renderers\":[{\"id\":\"9242\"}],\"tags\":[\"hv_created\"],\"tooltips\":[[\"date\",\"@{date}{%F %T}\"],[\"volume\",\"@{volume}\"]]},\"id\":\"9205\",\"type\":\"HoverTool\"},{\"attributes\":{\"axis\":{\"id\":\"9215\"},\"coordinates\":null,\"grid_line_color\":null,\"group\":null,\"ticker\":null},\"id\":\"9218\",\"type\":\"Grid\"},{\"attributes\":{\"margin\":[5,5,5,5],\"name\":\"HSpacer09186\",\"sizing_mode\":\"stretch_width\"},\"id\":\"9202\",\"type\":\"Spacer\"},{\"attributes\":{},\"id\":\"9225\",\"type\":\"WheelZoomTool\"},{\"attributes\":{},\"id\":\"9223\",\"type\":\"SaveTool\"},{\"attributes\":{\"mantissas\":[1,2,5],\"max_interval\":500.0,\"num_minor_ticks\":0},\"id\":\"9263\",\"type\":\"AdaptiveTicker\"},{\"attributes\":{\"base\":60,\"mantissas\":[1,2,5,10,15,20,30],\"max_interval\":1800000.0,\"min_interval\":1000.0,\"num_minor_ticks\":0},\"id\":\"9264\",\"type\":\"AdaptiveTicker\"},{\"attributes\":{},\"id\":\"9227\",\"type\":\"ResetTool\"},{\"attributes\":{\"end\":1659744000000.0,\"reset_end\":1659744000000.0,\"reset_start\":1609459200000.0,\"start\":1609459200000.0,\"tags\":[[[\"date\",\"date\",null]]]},\"id\":\"9203\",\"type\":\"Range1d\"},{\"attributes\":{\"data\":{\"date\":{\"__ndarray__\":\"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\",\"dtype\":\"float64\",\"order\":\"little\",\"shape\":[583]},\"volume\":[237,59,101,120,208,322,157,202,101,259,86,130,250,105,82,312,44,263,82,66,113,71,816,361,171,217,480,368,122,220,269,363,618,367,522,394,285,472,749,537,263,820,456,895,2238,1597,1172,2724,3253,3464,2164,6593,6680,2748,2748,1356,1118,2119,2418,1732,2384,1785,1722,2315,799,922,1124,900,833,11889,5324,2313,2582,2542,1573,2261,2066,1511,1846,2579,1001,2021,806,617,551,1115,1295,985,1325,693,671,607,498,538,1131,825,658,4813,2697,1536,2307,2298,2733,1642,1688,1333,1127,1215,1480,1542,1073,1144,1423,775,503,1081,2169,1001,669,978,2549,2846,31355,7814,3179,2158,1499,2312,1952,1573,2199,4986,3298,1965,1409,1409,702,996,615,648,833,1673,998,1424,755,826,986,1215,1023,1068,904,1497,732,634,425,593,973,1662,1282,724,992,1386,727,790,682,1400,1265,1413,1562,2354,3625,2527,1662,1461,1599,3364,3567,1716,2181,1990,1306,1742,1700,1099,2598,2224,1700,2466,1294,3567,2272,2685,3053,3579,2731,4955,6021,7007,3082,4262,3163,2723,1855,2470,1928,2876,5429,3781,3763,4336,15437,25086,27110,7986,10565,22305,20371,26975,13500,10425,9220,8489,7892,6003,4578,8917,5683,5605,5778,7803,4761,16442,24080,16199,57376,36772,25305,22564,46937,89300,111713,49709,23223,24040,13515,15999,10330,9022,8962,6546,5142,4882,6079,5429,4188,13982,7199,8521,20009,5537,4927,3853,4584,9356,4305,6025,8014,7039,8905,15964,19120,9842,13195,13807,9325,7102,7818,6824,4336,4164,5103,4068,4019,2671,3307,3896,3988,3238,2564,5036,9063,5725,4509,4835,4395,7424,3527,4110,3947,4164,128280,4781,2615,3115,2470,2768,3394,2902,2543,3534,3044,9136,4326,4383,4019,5206,12408,13941,12681,13384,12884,9053,5567,4027,3868,4820,2951,3221,3432,2610,2382,3048,5822,5490,4288,4402,6873,4850,4006,6285,4998,4746,7857,4857,5978,5808,22165,16890,8456,6649,16356,13836,5696,6626,6619,7856,7408,11607,7259,13055,14150,7934,9197,9031,11858,17528,21780,18889,13830,12421,9309,9231,11445,12265,14363,61692,118243,137035,142406,144198,158084,142325,209201,200315,163131,204435,215275,236415,218020,225225,234686,208233,152471,248844,242938,305476,218839,244252,254597,215965,199253,193574,139792,158165,161334,80522,76187,71278,70569,55700,61917,46603,43251,44689,47960,48168,47737,47408,44410,45575,33384,24304,45505,29425,25951,33869,41854,49500,39171,37944,32079,32280,32527,30042,43574,37539,27123,32530,36041,44280,53787,48045,66641,51626,26070,46899,49791,56694,51235,48330,46295,46763,52737,65059,61910,74261,73833,71290,55987,50090,45649,41146,43262,38871,30698,32721,36013,44173,41093,51308,88110,65747,75398,64484,69994,64441,79205,76395,67262,63946,58115,54846,63482,68321,79609,239756,143640,92342,96349,117025,83634,70444,45275,75780,101099,64549,54171,59366,53230,33177,36933,38740,39854,31929,34741,29218,39743,27558,26434,34613,38313,32720,32320,31783,27222,33572,38477,30922,35900,34233,31919,30545,27984,25778,24125,25772,19324,23031,54800,38316,33241,30915,26273,41099,36638,39533,34121,24875,20901,14044,20236,18472,19101,15757,23969,11551,15012,13270,17273,10839,18534,17313,17221,30336,28925,31636,12943,25554,25512,29944,24393,20820,23165,12388,21884,11208,8370,12109,6896,6700,10186,7605,9287,7537,4688,3643,3948,6700,4007,4678,10138,6404,3178]},\"selected\":{\"id\":\"9237\"},\"selection_policy\":{\"id\":\"9260\"}},\"id\":\"9236\",\"type\":\"ColumnDataSource\"},{\"attributes\":{\"line_color\":\"green\",\"line_width\":2,\"x\":{\"field\":\"date\"},\"y\":{\"field\":\"volume\"}},\"id\":\"9239\",\"type\":\"Line\"},{\"attributes\":{},\"id\":\"9251\",\"type\":\"AllLabels\"},{\"attributes\":{},\"id\":\"9248\",\"type\":\"AllLabels\"},{\"attributes\":{\"months\":[0,4,8]},\"id\":\"9272\",\"type\":\"MonthsTicker\"},{\"attributes\":{\"coordinates\":null,\"group\":null,\"text\":\"Open Sea Volume for Top Collections January 2021 to August 2022\",\"text_color\":\"black\",\"text_font_size\":\"12pt\"},\"id\":\"9207\",\"type\":\"Title\"},{\"attributes\":{\"overlay\":{\"id\":\"9228\"}},\"id\":\"9226\",\"type\":\"BoxZoomTool\"},{\"attributes\":{},\"id\":\"9260\",\"type\":\"UnionRenderers\"},{\"attributes\":{},\"id\":\"9220\",\"type\":\"BasicTicker\"},{\"attributes\":{\"axis_label\":\"Volume in ETH\",\"coordinates\":null,\"formatter\":{\"id\":\"9245\"},\"group\":null,\"major_label_policy\":{\"id\":\"9251\"},\"ticker\":{\"id\":\"9220\"}},\"id\":\"9219\",\"type\":\"LinearAxis\"},{\"attributes\":{\"line_color\":\"green\",\"line_width\":2,\"x\":{\"field\":\"date\"},\"y\":{\"field\":\"volume\"}},\"id\":\"9244\",\"type\":\"Line\"},{\"attributes\":{\"tools\":[{\"id\":\"9205\"},{\"id\":\"9223\"},{\"id\":\"9224\"},{\"id\":\"9225\"},{\"id\":\"9226\"},{\"id\":\"9227\"}]},\"id\":\"9229\",\"type\":\"Toolbar\"},{\"attributes\":{\"line_alpha\":0.2,\"line_color\":\"green\",\"line_width\":2,\"x\":{\"field\":\"date\"},\"y\":{\"field\":\"volume\"}},\"id\":\"9241\",\"type\":\"Line\"},{\"attributes\":{\"months\":[0,2,4,6,8,10]},\"id\":\"9271\",\"type\":\"MonthsTicker\"},{\"attributes\":{\"axis\":{\"id\":\"9219\"},\"coordinates\":null,\"dimension\":1,\"grid_line_color\":null,\"group\":null,\"ticker\":null},\"id\":\"9222\",\"type\":\"Grid\"},{\"attributes\":{\"bottom_units\":\"screen\",\"coordinates\":null,\"fill_alpha\":0.5,\"fill_color\":\"lightgrey\",\"group\":null,\"left_units\":\"screen\",\"level\":\"overlay\",\"line_alpha\":1.0,\"line_color\":\"black\",\"line_dash\":[4,4],\"line_width\":2,\"right_units\":\"screen\",\"syncable\":false,\"top_units\":\"screen\"},\"id\":\"9228\",\"type\":\"BoxAnnotation\"},{\"attributes\":{\"children\":[{\"id\":\"9202\"},{\"id\":\"9206\"},{\"id\":\"9296\"}],\"margin\":[0,0,0,0],\"name\":\"Row09182\",\"tags\":[\"embedded\"]},\"id\":\"9201\",\"type\":\"Row\"},{\"attributes\":{\"source\":{\"id\":\"9236\"}},\"id\":\"9243\",\"type\":\"CDSView\"},{\"attributes\":{\"end\":336019.2,\"reset_end\":336019.2,\"reset_start\":-30499.2,\"start\":-30499.2,\"tags\":[[[\"volume\",\"volume\",null]]]},\"id\":\"9204\",\"type\":\"Range1d\"},{\"attributes\":{},\"id\":\"9213\",\"type\":\"LinearScale\"},{\"attributes\":{\"months\":[0,1,2,3,4,5,6,7,8,9,10,11]},\"id\":\"9270\",\"type\":\"MonthsTicker\"},{\"attributes\":{\"days\":[1,4,7,10,13,16,19,22,25,28]},\"id\":\"9267\",\"type\":\"DaysTicker\"},{\"attributes\":{\"days\":[1,8,15,22]},\"id\":\"9268\",\"type\":\"DaysTicker\"}],\"root_ids\":[\"9201\"]},\"title\":\"Bokeh Application\",\"version\":\"2.4.2\"}};\n",
       "    var render_items = [{\"docid\":\"28bc0cbf-bb90-457e-9ec9-88455b32167f\",\"root_ids\":[\"9201\"],\"roots\":{\"9201\":\"3a989f6e-5bca-49e6-a81d-65da3aa2ad58\"}}];\n",
       "    root.Bokeh.embed.embed_items_notebook(docs_json, render_items);\n",
       "  }\n",
       "  if (root.Bokeh !== undefined && root.Bokeh.Panel !== undefined) {\n",
       "    embed_document(root);\n",
       "  } else {\n",
       "    var attempts = 0;\n",
       "    var timer = setInterval(function(root) {\n",
       "      if (root.Bokeh !== undefined && root.Bokeh.Panel !== undefined) {\n",
       "        clearInterval(timer);\n",
       "        embed_document(root);\n",
       "      } else if (document.readyState == \"complete\") {\n",
       "        attempts++;\n",
       "        if (attempts > 200) {\n",
       "          clearInterval(timer);\n",
       "          console.log(\"Bokeh: ERROR: Unable to run BokehJS code because BokehJS library is missing\");\n",
       "        }\n",
       "      }\n",
       "    }, 25, root)\n",
       "  }\n",
       "})(window);</script>"
      ],
      "text/plain": [
       ":Curve   [date]   (volume)"
      ]
     },
     "execution_count": 76,
     "metadata": {
      "application/vnd.holoviews_exec.v0+json": {
       "id": "9201"
      }
     },
     "output_type": "execute_result"
    }
   ],
   "source": [
    "overlay_1"
   ]
  },
  {
   "cell_type": "markdown",
   "id": "e09e0909-f71d-4af6-9567-238b5f3fb573",
   "metadata": {},
   "source": [
    "# OPTION 2"
   ]
  },
  {
   "cell_type": "code",
   "execution_count": 89,
   "id": "508b6558-6c04-4b6e-9822-fda899109a09",
   "metadata": {},
   "outputs": [],
   "source": [
    "overlay_2 = os_top_collection_index_num_trades.hvplot(\n",
    "    height=700, \n",
    "    width=1000, \n",
    "    yformatter='%.0f', \n",
    "    ylabel = 'Number of Trades', \n",
    "    xlabel = 'Date',\n",
    "    title = 'Open Sea Number of Trades for Top Collections January 2021 to August 2022',\n",
    "    color = 'blue',\n",
    "    label = 'Number of Trades'\n",
    ")"
   ]
  },
  {
   "cell_type": "code",
   "execution_count": 90,
   "id": "3290305c-48a8-4325-bd1c-9df0b423205d",
   "metadata": {},
   "outputs": [
    {
     "data": {},
     "metadata": {},
     "output_type": "display_data"
    },
    {
     "data": {
      "application/vnd.holoviews_exec.v0+json": "",
      "text/html": [
       "<div id='10413'>\n",
       "\n",
       "\n",
       "\n",
       "\n",
       "\n",
       "  <div class=\"bk-root\" id=\"2a1df9f7-1829-4070-bc4e-f01ec28d4f53\" data-root-id=\"10413\"></div>\n",
       "</div>\n",
       "<script type=\"application/javascript\">(function(root) {\n",
       "  function embed_document(root) {\n",
       "    var docs_json = {\"97cd3395-2bf6-4242-b60e-828f4716205f\":{\"defs\":[{\"extends\":null,\"module\":null,\"name\":\"ReactiveHTML1\",\"overrides\":[],\"properties\":[]},{\"extends\":null,\"module\":null,\"name\":\"FlexBox1\",\"overrides\":[],\"properties\":[{\"default\":\"flex-start\",\"kind\":null,\"name\":\"align_content\"},{\"default\":\"flex-start\",\"kind\":null,\"name\":\"align_items\"},{\"default\":\"row\",\"kind\":null,\"name\":\"flex_direction\"},{\"default\":\"wrap\",\"kind\":null,\"name\":\"flex_wrap\"},{\"default\":\"flex-start\",\"kind\":null,\"name\":\"justify_content\"}]},{\"extends\":null,\"module\":null,\"name\":\"GridStack1\",\"overrides\":[],\"properties\":[{\"default\":\"warn\",\"kind\":null,\"name\":\"mode\"},{\"default\":null,\"kind\":null,\"name\":\"ncols\"},{\"default\":null,\"kind\":null,\"name\":\"nrows\"},{\"default\":true,\"kind\":null,\"name\":\"allow_resize\"},{\"default\":true,\"kind\":null,\"name\":\"allow_drag\"},{\"default\":[],\"kind\":null,\"name\":\"state\"}]},{\"extends\":null,\"module\":null,\"name\":\"click1\",\"overrides\":[],\"properties\":[{\"default\":\"\",\"kind\":null,\"name\":\"terminal_output\"},{\"default\":\"\",\"kind\":null,\"name\":\"debug_name\"},{\"default\":0,\"kind\":null,\"name\":\"clears\"}]},{\"extends\":null,\"module\":null,\"name\":\"TemplateActions1\",\"overrides\":[],\"properties\":[{\"default\":0,\"kind\":null,\"name\":\"open_modal\"},{\"default\":0,\"kind\":null,\"name\":\"close_modal\"}]},{\"extends\":null,\"module\":null,\"name\":\"MaterialTemplateActions1\",\"overrides\":[],\"properties\":[{\"default\":0,\"kind\":null,\"name\":\"open_modal\"},{\"default\":0,\"kind\":null,\"name\":\"close_modal\"}]}],\"roots\":{\"references\":[{\"attributes\":{\"base\":60,\"mantissas\":[1,2,5,10,15,20,30],\"max_interval\":1800000.0,\"min_interval\":1000.0,\"num_minor_ticks\":0},\"id\":\"10476\",\"type\":\"AdaptiveTicker\"},{\"attributes\":{\"coordinates\":null,\"group\":null,\"text\":\"Open Sea Number of Trades for Top Collections January 2021 to August 2022\",\"text_color\":\"black\",\"text_font_size\":\"12pt\"},\"id\":\"10419\",\"type\":\"Title\"},{\"attributes\":{\"overlay\":{\"id\":\"10440\"}},\"id\":\"10438\",\"type\":\"BoxZoomTool\"},{\"attributes\":{\"bottom_units\":\"screen\",\"coordinates\":null,\"fill_alpha\":0.5,\"fill_color\":\"lightgrey\",\"group\":null,\"left_units\":\"screen\",\"level\":\"overlay\",\"line_alpha\":1.0,\"line_color\":\"black\",\"line_dash\":[4,4],\"line_width\":2,\"right_units\":\"screen\",\"syncable\":false,\"top_units\":\"screen\"},\"id\":\"10440\",\"type\":\"BoxAnnotation\"},{\"attributes\":{\"end\":1659744000000.0,\"reset_end\":1659744000000.0,\"reset_start\":1609459200000.0,\"start\":1609459200000.0,\"tags\":[[[\"date\",\"date\",null]]]},\"id\":\"10415\",\"type\":\"Range1d\"},{\"attributes\":{\"mantissas\":[1,2,5],\"max_interval\":500.0,\"num_minor_ticks\":0},\"id\":\"10475\",\"type\":\"AdaptiveTicker\"},{\"attributes\":{},\"id\":\"10486\",\"type\":\"YearsTicker\"},{\"attributes\":{\"below\":[{\"id\":\"10427\"}],\"center\":[{\"id\":\"10430\"},{\"id\":\"10434\"}],\"height\":700,\"left\":[{\"id\":\"10431\"}],\"margin\":[5,5,5,5],\"min_border_bottom\":10,\"min_border_left\":10,\"min_border_right\":10,\"min_border_top\":10,\"renderers\":[{\"id\":\"10454\"}],\"sizing_mode\":\"fixed\",\"title\":{\"id\":\"10419\"},\"toolbar\":{\"id\":\"10441\"},\"width\":1000,\"x_range\":{\"id\":\"10415\"},\"x_scale\":{\"id\":\"10423\"},\"y_range\":{\"id\":\"10416\"},\"y_scale\":{\"id\":\"10425\"}},\"id\":\"10418\",\"subtype\":\"Figure\",\"type\":\"Plot\"},{\"attributes\":{\"tools\":[{\"id\":\"10417\"},{\"id\":\"10435\"},{\"id\":\"10436\"},{\"id\":\"10437\"},{\"id\":\"10438\"},{\"id\":\"10439\"}]},\"id\":\"10441\",\"type\":\"Toolbar\"},{\"attributes\":{\"line_alpha\":0.2,\"line_color\":\"blue\",\"line_width\":2,\"x\":{\"field\":\"date\"},\"y\":{\"field\":\"num_trades\"}},\"id\":\"10453\",\"type\":\"Line\"},{\"attributes\":{\"margin\":[5,5,5,5],\"name\":\"HSpacer10322\",\"sizing_mode\":\"stretch_width\"},\"id\":\"10508\",\"type\":\"Spacer\"},{\"attributes\":{},\"id\":\"10436\",\"type\":\"PanTool\"},{\"attributes\":{\"coordinates\":null,\"data_source\":{\"id\":\"10448\"},\"glyph\":{\"id\":\"10451\"},\"group\":null,\"hover_glyph\":null,\"muted_glyph\":{\"id\":\"10453\"},\"nonselection_glyph\":{\"id\":\"10452\"},\"selection_glyph\":{\"id\":\"10456\"},\"view\":{\"id\":\"10455\"}},\"id\":\"10454\",\"type\":\"GlyphRenderer\"},{\"attributes\":{\"margin\":[5,5,5,5],\"name\":\"HSpacer10321\",\"sizing_mode\":\"stretch_width\"},\"id\":\"10414\",\"type\":\"Spacer\"},{\"attributes\":{},\"id\":\"10435\",\"type\":\"SaveTool\"},{\"attributes\":{\"num_minor_ticks\":5,\"tickers\":[{\"id\":\"10475\"},{\"id\":\"10476\"},{\"id\":\"10477\"},{\"id\":\"10478\"},{\"id\":\"10479\"},{\"id\":\"10480\"},{\"id\":\"10481\"},{\"id\":\"10482\"},{\"id\":\"10483\"},{\"id\":\"10484\"},{\"id\":\"10485\"},{\"id\":\"10486\"}]},\"id\":\"10428\",\"type\":\"DatetimeTicker\"},{\"attributes\":{},\"id\":\"10460\",\"type\":\"AllLabels\"},{\"attributes\":{},\"id\":\"10439\",\"type\":\"ResetTool\"},{\"attributes\":{\"children\":[{\"id\":\"10414\"},{\"id\":\"10418\"},{\"id\":\"10508\"}],\"margin\":[0,0,0,0],\"name\":\"Row10317\",\"tags\":[\"embedded\"]},\"id\":\"10413\",\"type\":\"Row\"},{\"attributes\":{\"callback\":null,\"formatters\":{\"@{date}\":\"datetime\"},\"renderers\":[{\"id\":\"10454\"}],\"tags\":[\"hv_created\"],\"tooltips\":[[\"date\",\"@{date}{%F %T}\"],[\"num_trades\",\"@{num_trades}\"]]},\"id\":\"10417\",\"type\":\"HoverTool\"},{\"attributes\":{\"line_color\":\"blue\",\"line_width\":2,\"x\":{\"field\":\"date\"},\"y\":{\"field\":\"num_trades\"}},\"id\":\"10456\",\"type\":\"Line\"},{\"attributes\":{\"axis\":{\"id\":\"10431\"},\"coordinates\":null,\"dimension\":1,\"grid_line_color\":null,\"group\":null,\"ticker\":null},\"id\":\"10434\",\"type\":\"Grid\"},{\"attributes\":{},\"id\":\"10425\",\"type\":\"LinearScale\"},{\"attributes\":{\"line_alpha\":0.1,\"line_color\":\"blue\",\"line_width\":2,\"x\":{\"field\":\"date\"},\"y\":{\"field\":\"num_trades\"}},\"id\":\"10452\",\"type\":\"Line\"},{\"attributes\":{\"end\":234985.2,\"reset_end\":234985.2,\"reset_start\":-21157.2,\"start\":-21157.2,\"tags\":[[[\"num_trades\",\"num_trades\",null]]]},\"id\":\"10416\",\"type\":\"Range1d\"},{\"attributes\":{},\"id\":\"10423\",\"type\":\"LinearScale\"},{\"attributes\":{\"axis_label\":\"Number of Trades\",\"coordinates\":null,\"formatter\":{\"id\":\"10457\"},\"group\":null,\"major_label_policy\":{\"id\":\"10463\"},\"ticker\":{\"id\":\"10432\"}},\"id\":\"10431\",\"type\":\"LinearAxis\"},{\"attributes\":{},\"id\":\"10449\",\"type\":\"Selection\"},{\"attributes\":{\"source\":{\"id\":\"10448\"}},\"id\":\"10455\",\"type\":\"CDSView\"},{\"attributes\":{},\"id\":\"10432\",\"type\":\"BasicTicker\"},{\"attributes\":{\"months\":[0,4,8]},\"id\":\"10484\",\"type\":\"MonthsTicker\"},{\"attributes\":{\"days\":[1,4,7,10,13,16,19,22,25,28]},\"id\":\"10479\",\"type\":\"DaysTicker\"},{\"attributes\":{\"data\":{\"date\":{\"__ndarray__\":\"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\",\"dtype\":\"float64\",\"order\":\"little\",\"shape\":[583]},\"num_trades\":[1320,536,313,199,295,315,366,821,524,422,188,483,882,659,1051,2854,437,545,333,447,708,306,386,886,465,960,575,580,506,578,1475,532,442,377,329,241,345,947,648,549,357,429,659,1021,852,1135,1088,1117,776,1646,903,2100,891,655,1271,789,682,1727,1504,1446,2063,971,1311,1742,1227,1086,977,848,990,1118,956,962,1235,862,792,2144,1091,733,1867,1251,923,807,742,635,536,677,1434,972,900,865,758,847,716,1188,1634,855,1063,1029,824,1323,1448,1082,1253,1209,1092,1183,564,495,376,287,517,563,1381,1494,2143,1575,1297,1019,897,1838,5366,3095,12024,2557,1965,1442,1762,718,691,432,628,3239,1811,2468,1426,1631,775,870,498,855,1263,1590,989,1247,1351,1242,1622,1922,2107,2055,2066,2318,1483,1382,1447,2016,2847,2946,2588,2866,3659,3797,2796,3851,2849,3400,3667,3761,4299,3300,3208,1986,1625,2364,4550,4493,4755,3125,3730,2544,3004,5331,4678,3690,4994,4034,1805,4642,1847,3063,3935,3448,2364,2165,2527,3623,3607,5778,3420,4659,2597,4135,2898,3806,2564,2791,3342,4972,7998,2985,3836,8969,9010,12092,4846,5642,3709,5389,4964,3919,4753,2839,4412,2772,3191,3675,3329,3254,3699,4163,3793,5014,7123,7427,10973,8830,10544,7398,7073,9670,16733,9689,8552,7846,4707,6476,4257,4989,3561,3633,2505,3659,3336,3548,3193,5098,6150,3202,4518,3611,3527,3486,2262,3768,4651,4004,4969,5312,3695,5805,5387,3231,3273,5019,3470,3083,2273,2415,3108,1694,2309,3481,3189,2517,3209,4138,2413,2189,2709,4731,7718,4464,3398,4103,2628,3726,2133,2466,1860,1077,1602,2367,2009,1282,1529,3378,3540,2831,3063,3346,3504,6657,15008,14987,12195,9231,10612,11234,10508,10228,9096,8025,9318,7970,7046,5572,5923,5067,5038,5068,6019,5689,8067,11786,7418,7992,8143,6208,7111,7449,9105,8913,9627,9027,11808,12558,13054,12358,9434,8287,31285,20854,14595,13574,11416,11023,9565,10404,8898,12742,9495,6948,5429,5897,7189,8038,8038,7779,7507,6945,6044,6156,7433,5951,6774,6942,12236,9142,6009,7930,6219,6758,7306,7806,9141,7094,4977,5687,7031,6856,7394,5795,6612,6642,6688,8703,6695,6266,8990,11123,10360,9819,8524,8354,7354,8077,8480,7150,9305,8620,6717,5604,7214,7337,14831,11177,6764,10176,17082,8874,8523,7306,8963,5704,7411,6612,6686,14691,9280,9555,8914,7480,7296,8216,8914,10067,10417,7249,12279,7202,7492,7043,9686,9612,10271,8780,8529,6968,7457,9074,8317,11730,10112,6573,16807,18349,8046,9537,6585,6583,9070,8149,8285,9704,8817,7013,6666,6819,6937,11281,21714,14379,19087,14348,8970,9136,18505,20214,24895,21960,39450,64594,74549,46688,73361,86451,213640,154130,81158,71893,73664,78713,61667,43604,36239,18906,10810,19851,30644,31907,38910,38950,36362,32211,39736,43653,43649,29449,23135,42798,31553,22424,27622,39514,22302,22953,18682,16759,34166,21440,20954,20640,19755,14751,15344,16679,16499,12960,11814,12802,14621,13087,14398,27665,19888,18513,17110,13522,12764,13064,11861,11792,12543,13275,21480,16247,26091,25655,74265,72657,50342,43341,30855,24339,27413,24983,26836,22569,28099,25673,20563,21790,18212,17608,17699,8562,10833,10665,9536,13107,14713,10708,8213,7089,7304,253,601,723,671,661,4109,4677,348]},\"selected\":{\"id\":\"10449\"},\"selection_policy\":{\"id\":\"10472\"}},\"id\":\"10448\",\"type\":\"ColumnDataSource\"},{\"attributes\":{},\"id\":\"10463\",\"type\":\"AllLabels\"},{\"attributes\":{\"axis\":{\"id\":\"10427\"},\"coordinates\":null,\"grid_line_color\":null,\"group\":null,\"ticker\":null},\"id\":\"10430\",\"type\":\"Grid\"},{\"attributes\":{\"base\":24,\"mantissas\":[1,2,4,6,8,12],\"max_interval\":43200000.0,\"min_interval\":3600000.0,\"num_minor_ticks\":0},\"id\":\"10477\",\"type\":\"AdaptiveTicker\"},{\"attributes\":{\"axis_label\":\"Date\",\"coordinates\":null,\"formatter\":{\"id\":\"10459\"},\"group\":null,\"major_label_policy\":{\"id\":\"10460\"},\"ticker\":{\"id\":\"10428\"}},\"id\":\"10427\",\"type\":\"DatetimeAxis\"},{\"attributes\":{\"days\":[1,8,15,22]},\"id\":\"10480\",\"type\":\"DaysTicker\"},{\"attributes\":{\"months\":[0,1,2,3,4,5,6,7,8,9,10,11]},\"id\":\"10482\",\"type\":\"MonthsTicker\"},{\"attributes\":{},\"id\":\"10459\",\"type\":\"DatetimeTickFormatter\"},{\"attributes\":{\"months\":[0,6]},\"id\":\"10485\",\"type\":\"MonthsTicker\"},{\"attributes\":{\"format\":\"%.0f\"},\"id\":\"10457\",\"type\":\"PrintfTickFormatter\"},{\"attributes\":{\"days\":[1,15]},\"id\":\"10481\",\"type\":\"DaysTicker\"},{\"attributes\":{\"line_color\":\"blue\",\"line_width\":2,\"x\":{\"field\":\"date\"},\"y\":{\"field\":\"num_trades\"}},\"id\":\"10451\",\"type\":\"Line\"},{\"attributes\":{},\"id\":\"10472\",\"type\":\"UnionRenderers\"},{\"attributes\":{\"months\":[0,2,4,6,8,10]},\"id\":\"10483\",\"type\":\"MonthsTicker\"},{\"attributes\":{},\"id\":\"10437\",\"type\":\"WheelZoomTool\"},{\"attributes\":{\"days\":[1,2,3,4,5,6,7,8,9,10,11,12,13,14,15,16,17,18,19,20,21,22,23,24,25,26,27,28,29,30,31]},\"id\":\"10478\",\"type\":\"DaysTicker\"}],\"root_ids\":[\"10413\"]},\"title\":\"Bokeh Application\",\"version\":\"2.4.2\"}};\n",
       "    var render_items = [{\"docid\":\"97cd3395-2bf6-4242-b60e-828f4716205f\",\"root_ids\":[\"10413\"],\"roots\":{\"10413\":\"2a1df9f7-1829-4070-bc4e-f01ec28d4f53\"}}];\n",
       "    root.Bokeh.embed.embed_items_notebook(docs_json, render_items);\n",
       "  }\n",
       "  if (root.Bokeh !== undefined && root.Bokeh.Panel !== undefined) {\n",
       "    embed_document(root);\n",
       "  } else {\n",
       "    var attempts = 0;\n",
       "    var timer = setInterval(function(root) {\n",
       "      if (root.Bokeh !== undefined && root.Bokeh.Panel !== undefined) {\n",
       "        clearInterval(timer);\n",
       "        embed_document(root);\n",
       "      } else if (document.readyState == \"complete\") {\n",
       "        attempts++;\n",
       "        if (attempts > 200) {\n",
       "          clearInterval(timer);\n",
       "          console.log(\"Bokeh: ERROR: Unable to run BokehJS code because BokehJS library is missing\");\n",
       "        }\n",
       "      }\n",
       "    }, 25, root)\n",
       "  }\n",
       "})(window);</script>"
      ],
      "text/plain": [
       ":Curve   [date]   (num_trades)"
      ]
     },
     "execution_count": 90,
     "metadata": {
      "application/vnd.holoviews_exec.v0+json": {
       "id": "10413"
      }
     },
     "output_type": "execute_result"
    }
   ],
   "source": [
    "overlay_2"
   ]
  },
  {
   "cell_type": "markdown",
   "id": "563058ed-7bf7-4693-b7f5-7c5abaa2dbfe",
   "metadata": {},
   "source": [
    "# OPTION 3"
   ]
  },
  {
   "cell_type": "code",
   "execution_count": 87,
   "id": "648723a6-7827-47e1-bbb2-0faf0ce993a6",
   "metadata": {},
   "outputs": [],
   "source": [
    "overlay_3 = os_top_collection_index_unique_buyers.hvplot(\n",
    "    height=700, \n",
    "    width=1000, \n",
    "    yformatter='%.0f', \n",
    "    xlabel = 'Date',\n",
    "    ylabel = 'Nmber of Unique Buyers',\n",
    "    title = 'Open Sea Unique Buyers for Top Collections January 2021 to August 2022',\n",
    "    color = 'red',\n",
    "    label = 'Number of Unique Buyers',\n",
    ")"
   ]
  },
  {
   "cell_type": "code",
   "execution_count": 88,
   "id": "55abfb58-903a-4288-9c7e-2c5a553e613f",
   "metadata": {},
   "outputs": [
    {
     "data": {},
     "metadata": {},
     "output_type": "display_data"
    },
    {
     "data": {
      "application/vnd.holoviews_exec.v0+json": "",
      "text/html": [
       "<div id='10211'>\n",
       "\n",
       "\n",
       "\n",
       "\n",
       "\n",
       "  <div class=\"bk-root\" id=\"cd8be1b9-daf0-4e51-b593-c7a62c3ed68a\" data-root-id=\"10211\"></div>\n",
       "</div>\n",
       "<script type=\"application/javascript\">(function(root) {\n",
       "  function embed_document(root) {\n",
       "    var docs_json = {\"3321940f-8d60-4a85-8c51-9b74c0b580f1\":{\"defs\":[{\"extends\":null,\"module\":null,\"name\":\"ReactiveHTML1\",\"overrides\":[],\"properties\":[]},{\"extends\":null,\"module\":null,\"name\":\"FlexBox1\",\"overrides\":[],\"properties\":[{\"default\":\"flex-start\",\"kind\":null,\"name\":\"align_content\"},{\"default\":\"flex-start\",\"kind\":null,\"name\":\"align_items\"},{\"default\":\"row\",\"kind\":null,\"name\":\"flex_direction\"},{\"default\":\"wrap\",\"kind\":null,\"name\":\"flex_wrap\"},{\"default\":\"flex-start\",\"kind\":null,\"name\":\"justify_content\"}]},{\"extends\":null,\"module\":null,\"name\":\"GridStack1\",\"overrides\":[],\"properties\":[{\"default\":\"warn\",\"kind\":null,\"name\":\"mode\"},{\"default\":null,\"kind\":null,\"name\":\"ncols\"},{\"default\":null,\"kind\":null,\"name\":\"nrows\"},{\"default\":true,\"kind\":null,\"name\":\"allow_resize\"},{\"default\":true,\"kind\":null,\"name\":\"allow_drag\"},{\"default\":[],\"kind\":null,\"name\":\"state\"}]},{\"extends\":null,\"module\":null,\"name\":\"click1\",\"overrides\":[],\"properties\":[{\"default\":\"\",\"kind\":null,\"name\":\"terminal_output\"},{\"default\":\"\",\"kind\":null,\"name\":\"debug_name\"},{\"default\":0,\"kind\":null,\"name\":\"clears\"}]},{\"extends\":null,\"module\":null,\"name\":\"TemplateActions1\",\"overrides\":[],\"properties\":[{\"default\":0,\"kind\":null,\"name\":\"open_modal\"},{\"default\":0,\"kind\":null,\"name\":\"close_modal\"}]},{\"extends\":null,\"module\":null,\"name\":\"MaterialTemplateActions1\",\"overrides\":[],\"properties\":[{\"default\":0,\"kind\":null,\"name\":\"open_modal\"},{\"default\":0,\"kind\":null,\"name\":\"close_modal\"}]}],\"roots\":{\"references\":[{\"attributes\":{\"tools\":[{\"id\":\"10215\"},{\"id\":\"10233\"},{\"id\":\"10234\"},{\"id\":\"10235\"},{\"id\":\"10236\"},{\"id\":\"10237\"}]},\"id\":\"10239\",\"type\":\"Toolbar\"},{\"attributes\":{\"num_minor_ticks\":5,\"tickers\":[{\"id\":\"10273\"},{\"id\":\"10274\"},{\"id\":\"10275\"},{\"id\":\"10276\"},{\"id\":\"10277\"},{\"id\":\"10278\"},{\"id\":\"10279\"},{\"id\":\"10280\"},{\"id\":\"10281\"},{\"id\":\"10282\"},{\"id\":\"10283\"},{\"id\":\"10284\"}]},\"id\":\"10226\",\"type\":\"DatetimeTicker\"},{\"attributes\":{\"months\":[0,1,2,3,4,5,6,7,8,9,10,11]},\"id\":\"10280\",\"type\":\"MonthsTicker\"},{\"attributes\":{\"coordinates\":null,\"group\":null,\"text\":\"Open Sea Unique Buyers for Top Collections January 2021 to August 2022\",\"text_color\":\"black\",\"text_font_size\":\"12pt\"},\"id\":\"10217\",\"type\":\"Title\"},{\"attributes\":{},\"id\":\"10230\",\"type\":\"BasicTicker\"},{\"attributes\":{\"bottom_units\":\"screen\",\"coordinates\":null,\"fill_alpha\":0.5,\"fill_color\":\"lightgrey\",\"group\":null,\"left_units\":\"screen\",\"level\":\"overlay\",\"line_alpha\":1.0,\"line_color\":\"black\",\"line_dash\":[4,4],\"line_width\":2,\"right_units\":\"screen\",\"syncable\":false,\"top_units\":\"screen\"},\"id\":\"10238\",\"type\":\"BoxAnnotation\"},{\"attributes\":{\"days\":[1,8,15,22]},\"id\":\"10278\",\"type\":\"DaysTicker\"},{\"attributes\":{\"axis_label\":\"Nmber of Unique Buyers\",\"coordinates\":null,\"formatter\":{\"id\":\"10255\"},\"group\":null,\"major_label_policy\":{\"id\":\"10261\"},\"ticker\":{\"id\":\"10230\"}},\"id\":\"10229\",\"type\":\"LinearAxis\"},{\"attributes\":{},\"id\":\"10261\",\"type\":\"AllLabels\"},{\"attributes\":{\"days\":[1,15]},\"id\":\"10279\",\"type\":\"DaysTicker\"},{\"attributes\":{\"margin\":[5,5,5,5],\"name\":\"HSpacer10144\",\"sizing_mode\":\"stretch_width\"},\"id\":\"10212\",\"type\":\"Spacer\"},{\"attributes\":{\"end\":1659744000000.0,\"reset_end\":1659744000000.0,\"reset_start\":1609459200000.0,\"start\":1609459200000.0,\"tags\":[[[\"date\",\"date\",null]]]},\"id\":\"10213\",\"type\":\"Range1d\"},{\"attributes\":{\"axis\":{\"id\":\"10225\"},\"coordinates\":null,\"grid_line_color\":null,\"group\":null,\"ticker\":null},\"id\":\"10228\",\"type\":\"Grid\"},{\"attributes\":{\"line_alpha\":0.2,\"line_color\":\"red\",\"line_width\":2,\"x\":{\"field\":\"date\"},\"y\":{\"field\":\"unique_buyers\"}},\"id\":\"10251\",\"type\":\"Line\"},{\"attributes\":{\"callback\":null,\"formatters\":{\"@{date}\":\"datetime\"},\"renderers\":[{\"id\":\"10252\"}],\"tags\":[\"hv_created\"],\"tooltips\":[[\"date\",\"@{date}{%F %T}\"],[\"unique_buyers\",\"@{unique_buyers}\"]]},\"id\":\"10215\",\"type\":\"HoverTool\"},{\"attributes\":{\"months\":[0,2,4,6,8,10]},\"id\":\"10281\",\"type\":\"MonthsTicker\"},{\"attributes\":{\"children\":[{\"id\":\"10212\"},{\"id\":\"10216\"},{\"id\":\"10306\"}],\"margin\":[0,0,0,0],\"name\":\"Row10140\",\"tags\":[\"embedded\"]},\"id\":\"10211\",\"type\":\"Row\"},{\"attributes\":{\"axis\":{\"id\":\"10229\"},\"coordinates\":null,\"dimension\":1,\"grid_line_color\":null,\"group\":null,\"ticker\":null},\"id\":\"10232\",\"type\":\"Grid\"},{\"attributes\":{},\"id\":\"10257\",\"type\":\"DatetimeTickFormatter\"},{\"attributes\":{\"line_color\":\"red\",\"line_width\":2,\"x\":{\"field\":\"date\"},\"y\":{\"field\":\"unique_buyers\"}},\"id\":\"10254\",\"type\":\"Line\"},{\"attributes\":{\"line_color\":\"red\",\"line_width\":2,\"x\":{\"field\":\"date\"},\"y\":{\"field\":\"unique_buyers\"}},\"id\":\"10249\",\"type\":\"Line\"},{\"attributes\":{\"months\":[0,4,8]},\"id\":\"10282\",\"type\":\"MonthsTicker\"},{\"attributes\":{\"margin\":[5,5,5,5],\"name\":\"HSpacer10145\",\"sizing_mode\":\"stretch_width\"},\"id\":\"10306\",\"type\":\"Spacer\"},{\"attributes\":{\"months\":[0,6]},\"id\":\"10283\",\"type\":\"MonthsTicker\"},{\"attributes\":{\"coordinates\":null,\"data_source\":{\"id\":\"10246\"},\"glyph\":{\"id\":\"10249\"},\"group\":null,\"hover_glyph\":null,\"muted_glyph\":{\"id\":\"10251\"},\"nonselection_glyph\":{\"id\":\"10250\"},\"selection_glyph\":{\"id\":\"10254\"},\"view\":{\"id\":\"10253\"}},\"id\":\"10252\",\"type\":\"GlyphRenderer\"},{\"attributes\":{\"data\":{\"date\":{\"__ndarray__\":\"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\",\"dtype\":\"float64\",\"order\":\"little\",\"shape\":[583]},\"unique_buyers\":[217,142,108,75,103,109,119,224,151,159,82,164,210,191,173,445,180,192,135,162,227,121,165,188,146,268,193,185,164,168,344,190,141,154,132,102,120,289,227,185,158,182,200,380,342,353,389,340,320,532,331,604,424,297,440,339,280,654,609,680,848,409,415,971,486,335,339,321,285,364,361,355,362,283,283,1720,391,317,1302,560,454,321,272,242,228,274,672,434,406,399,242,296,285,322,704,393,480,423,361,767,595,545,485,465,353,602,203,181,167,147,232,242,807,477,755,609,449,441,380,1033,2088,1404,4104,1232,931,756,976,418,397,259,402,2428,1339,1582,835,944,444,502,295,479,717,756,461,575,577,615,686,1025,961,943,979,981,649,607,617,801,1045,1160,872,893,915,1797,800,1035,814,1051,1225,1074,1871,1274,1153,802,676,924,1154,2184,1456,1213,1329,1068,1378,2055,1885,1533,1610,2021,860,2106,898,1462,1497,1340,1056,1037,1315,1867,1598,2637,1412,1886,1174,1977,1296,2042,961,955,1377,2003,3934,1125,2044,3417,4111,4716,2555,3170,1958,3145,2633,1979,2507,1469,2145,1248,1523,1862,1450,1620,2183,2304,1534,2724,3534,3177,5573,4470,4660,3247,3921,5193,9285,5330,4330,4476,2497,3310,1764,2070,1661,1962,1221,1890,1767,1371,1390,2770,2908,1482,2553,1770,1658,1580,1016,2420,2212,1954,2773,1901,1469,3427,3090,1489,1893,2702,1770,1482,1129,1256,2039,964,1165,1425,1327,1079,1317,1974,1092,1059,1165,2533,4515,2229,1613,2359,1457,1808,1129,1312,967,670,886,1246,1156,644,794,1438,1610,1279,1463,1473,1554,3311,6250,6164,4692,3577,4126,4673,4348,4847,3894,3153,3294,2971,2851,2753,2479,2164,2193,2189,2354,2336,3570,5707,3324,3540,3198,2485,2589,3293,3755,3617,3818,3586,4613,4772,6187,5530,4038,3489,24087,11386,6284,6943,5128,4845,4091,4276,3870,5228,4417,3292,2756,2955,3651,3773,4027,4022,3564,3298,2854,3016,3405,2705,3673,3259,7386,4777,3017,3330,2834,2939,3310,3695,4819,3794,2571,2774,3552,3487,3807,2926,3429,3238,3342,4354,3539,2839,4340,6817,5553,4339,3958,3463,3021,3806,4114,2990,3580,3692,3101,2786,3626,3523,7577,5504,3384,5754,10704,5621,4567,3437,4201,2598,3412,2845,2969,7705,3918,3684,4336,2933,3093,3056,3612,3874,4115,2903,6390,3223,3351,3366,3823,3456,4043,3519,3084,3082,3226,3157,2765,5960,5952,3064,10209,13518,4043,5076,3249,3444,4234,3410,3585,3085,2861,2675,2819,2816,2672,3894,13251,4895,11775,6216,3983,4293,7662,5472,5149,5908,8751,14111,15670,9800,12205,19192,26201,18985,14628,16996,19943,17549,10152,13560,15604,7887,6127,7642,12274,9417,12454,14639,12508,9068,14025,9999,14462,8108,5785,14342,12464,8777,7670,12391,7945,10160,7427,7529,16804,7854,8184,7846,7373,5978,5361,5602,4912,4259,5501,5074,4911,4197,4305,12230,5866,5454,5762,3604,3039,3005,2618,2382,2841,2984,3973,3149,4338,4598,7666,8681,6448,6038,4908,4305,4320,3978,6587,3519,5587,6927,3648,3422,3204,3712,4135,4206,4499,4455,3860,4694,10105,7131,4002,3352,3353,209,424,506,501,479,2654,2843,287]},\"selected\":{\"id\":\"10247\"},\"selection_policy\":{\"id\":\"10270\"}},\"id\":\"10246\",\"type\":\"ColumnDataSource\"},{\"attributes\":{\"source\":{\"id\":\"10246\"}},\"id\":\"10253\",\"type\":\"CDSView\"},{\"attributes\":{\"days\":[1,4,7,10,13,16,19,22,25,28]},\"id\":\"10277\",\"type\":\"DaysTicker\"},{\"attributes\":{\"base\":60,\"mantissas\":[1,2,5,10,15,20,30],\"max_interval\":1800000.0,\"min_interval\":1000.0,\"num_minor_ticks\":0},\"id\":\"10274\",\"type\":\"AdaptiveTicker\"},{\"attributes\":{\"format\":\"%.0f\"},\"id\":\"10255\",\"type\":\"PrintfTickFormatter\"},{\"attributes\":{},\"id\":\"10284\",\"type\":\"YearsTicker\"},{\"attributes\":{\"end\":28813.6,\"reset_end\":28813.6,\"reset_start\":-2537.6000000000004,\"start\":-2537.6000000000004,\"tags\":[[[\"unique_buyers\",\"unique_buyers\",null]]]},\"id\":\"10214\",\"type\":\"Range1d\"},{\"attributes\":{},\"id\":\"10233\",\"type\":\"SaveTool\"},{\"attributes\":{\"mantissas\":[1,2,5],\"max_interval\":500.0,\"num_minor_ticks\":0},\"id\":\"10273\",\"type\":\"AdaptiveTicker\"},{\"attributes\":{},\"id\":\"10234\",\"type\":\"PanTool\"},{\"attributes\":{},\"id\":\"10237\",\"type\":\"ResetTool\"},{\"attributes\":{},\"id\":\"10235\",\"type\":\"WheelZoomTool\"},{\"attributes\":{},\"id\":\"10247\",\"type\":\"Selection\"},{\"attributes\":{},\"id\":\"10221\",\"type\":\"LinearScale\"},{\"attributes\":{\"days\":[1,2,3,4,5,6,7,8,9,10,11,12,13,14,15,16,17,18,19,20,21,22,23,24,25,26,27,28,29,30,31]},\"id\":\"10276\",\"type\":\"DaysTicker\"},{\"attributes\":{\"overlay\":{\"id\":\"10238\"}},\"id\":\"10236\",\"type\":\"BoxZoomTool\"},{\"attributes\":{\"base\":24,\"mantissas\":[1,2,4,6,8,12],\"max_interval\":43200000.0,\"min_interval\":3600000.0,\"num_minor_ticks\":0},\"id\":\"10275\",\"type\":\"AdaptiveTicker\"},{\"attributes\":{\"below\":[{\"id\":\"10225\"}],\"center\":[{\"id\":\"10228\"},{\"id\":\"10232\"}],\"height\":700,\"left\":[{\"id\":\"10229\"}],\"margin\":[5,5,5,5],\"min_border_bottom\":10,\"min_border_left\":10,\"min_border_right\":10,\"min_border_top\":10,\"renderers\":[{\"id\":\"10252\"}],\"sizing_mode\":\"fixed\",\"title\":{\"id\":\"10217\"},\"toolbar\":{\"id\":\"10239\"},\"width\":1000,\"x_range\":{\"id\":\"10213\"},\"x_scale\":{\"id\":\"10221\"},\"y_range\":{\"id\":\"10214\"},\"y_scale\":{\"id\":\"10223\"}},\"id\":\"10216\",\"subtype\":\"Figure\",\"type\":\"Plot\"},{\"attributes\":{},\"id\":\"10258\",\"type\":\"AllLabels\"},{\"attributes\":{},\"id\":\"10223\",\"type\":\"LinearScale\"},{\"attributes\":{},\"id\":\"10270\",\"type\":\"UnionRenderers\"},{\"attributes\":{\"line_alpha\":0.1,\"line_color\":\"red\",\"line_width\":2,\"x\":{\"field\":\"date\"},\"y\":{\"field\":\"unique_buyers\"}},\"id\":\"10250\",\"type\":\"Line\"},{\"attributes\":{\"axis_label\":\"Date\",\"coordinates\":null,\"formatter\":{\"id\":\"10257\"},\"group\":null,\"major_label_policy\":{\"id\":\"10258\"},\"ticker\":{\"id\":\"10226\"}},\"id\":\"10225\",\"type\":\"DatetimeAxis\"}],\"root_ids\":[\"10211\"]},\"title\":\"Bokeh Application\",\"version\":\"2.4.2\"}};\n",
       "    var render_items = [{\"docid\":\"3321940f-8d60-4a85-8c51-9b74c0b580f1\",\"root_ids\":[\"10211\"],\"roots\":{\"10211\":\"cd8be1b9-daf0-4e51-b593-c7a62c3ed68a\"}}];\n",
       "    root.Bokeh.embed.embed_items_notebook(docs_json, render_items);\n",
       "  }\n",
       "  if (root.Bokeh !== undefined && root.Bokeh.Panel !== undefined) {\n",
       "    embed_document(root);\n",
       "  } else {\n",
       "    var attempts = 0;\n",
       "    var timer = setInterval(function(root) {\n",
       "      if (root.Bokeh !== undefined && root.Bokeh.Panel !== undefined) {\n",
       "        clearInterval(timer);\n",
       "        embed_document(root);\n",
       "      } else if (document.readyState == \"complete\") {\n",
       "        attempts++;\n",
       "        if (attempts > 200) {\n",
       "          clearInterval(timer);\n",
       "          console.log(\"Bokeh: ERROR: Unable to run BokehJS code because BokehJS library is missing\");\n",
       "        }\n",
       "      }\n",
       "    }, 25, root)\n",
       "  }\n",
       "})(window);</script>"
      ],
      "text/plain": [
       ":Curve   [date]   (unique_buyers)"
      ]
     },
     "execution_count": 88,
     "metadata": {
      "application/vnd.holoviews_exec.v0+json": {
       "id": "10211"
      }
     },
     "output_type": "execute_result"
    }
   ],
   "source": [
    "overlay_3"
   ]
  },
  {
   "cell_type": "markdown",
   "id": "8c2b8be4-f95d-46f7-a4e4-0289c9b44751",
   "metadata": {},
   "source": [
    "# OPTION 4"
   ]
  },
  {
   "cell_type": "code",
   "execution_count": 30,
   "id": "48f44da4-96d0-4b18-9bae-09596abbf665",
   "metadata": {},
   "outputs": [],
   "source": [
    "overlay = overlay_1 * overlay_2 * overlay_3"
   ]
  },
  {
   "cell_type": "code",
   "execution_count": 91,
   "id": "bb748330-88ea-41c0-b1f9-78b950018dc3",
   "metadata": {},
   "outputs": [
    {
     "data": {},
     "metadata": {},
     "output_type": "display_data"
    },
    {
     "data": {
      "application/vnd.holoviews_exec.v0+json": "",
      "text/html": [
       "<div id='10615'>\n",
       "\n",
       "\n",
       "\n",
       "\n",
       "\n",
       "  <div class=\"bk-root\" id=\"55ea3025-989e-4a4c-aa3a-ba08c81f3c2a\" data-root-id=\"10615\"></div>\n",
       "</div>\n",
       "<script type=\"application/javascript\">(function(root) {\n",
       "  function embed_document(root) {\n",
       "    var docs_json = {\"7b14044b-2f66-44ff-bd8e-0062980b9433\":{\"defs\":[{\"extends\":null,\"module\":null,\"name\":\"ReactiveHTML1\",\"overrides\":[],\"properties\":[]},{\"extends\":null,\"module\":null,\"name\":\"FlexBox1\",\"overrides\":[],\"properties\":[{\"default\":\"flex-start\",\"kind\":null,\"name\":\"align_content\"},{\"default\":\"flex-start\",\"kind\":null,\"name\":\"align_items\"},{\"default\":\"row\",\"kind\":null,\"name\":\"flex_direction\"},{\"default\":\"wrap\",\"kind\":null,\"name\":\"flex_wrap\"},{\"default\":\"flex-start\",\"kind\":null,\"name\":\"justify_content\"}]},{\"extends\":null,\"module\":null,\"name\":\"GridStack1\",\"overrides\":[],\"properties\":[{\"default\":\"warn\",\"kind\":null,\"name\":\"mode\"},{\"default\":null,\"kind\":null,\"name\":\"ncols\"},{\"default\":null,\"kind\":null,\"name\":\"nrows\"},{\"default\":true,\"kind\":null,\"name\":\"allow_resize\"},{\"default\":true,\"kind\":null,\"name\":\"allow_drag\"},{\"default\":[],\"kind\":null,\"name\":\"state\"}]},{\"extends\":null,\"module\":null,\"name\":\"click1\",\"overrides\":[],\"properties\":[{\"default\":\"\",\"kind\":null,\"name\":\"terminal_output\"},{\"default\":\"\",\"kind\":null,\"name\":\"debug_name\"},{\"default\":0,\"kind\":null,\"name\":\"clears\"}]},{\"extends\":null,\"module\":null,\"name\":\"TemplateActions1\",\"overrides\":[],\"properties\":[{\"default\":0,\"kind\":null,\"name\":\"open_modal\"},{\"default\":0,\"kind\":null,\"name\":\"close_modal\"}]},{\"extends\":null,\"module\":null,\"name\":\"MaterialTemplateActions1\",\"overrides\":[],\"properties\":[{\"default\":0,\"kind\":null,\"name\":\"open_modal\"},{\"default\":0,\"kind\":null,\"name\":\"close_modal\"}]}],\"roots\":{\"references\":[{\"attributes\":{},\"id\":\"10627\",\"type\":\"LinearScale\"},{\"attributes\":{\"axis_label\":\"Date\",\"coordinates\":null,\"formatter\":{\"id\":\"10656\"},\"group\":null,\"major_label_policy\":{\"id\":\"10657\"},\"ticker\":{\"id\":\"10632\"}},\"id\":\"10631\",\"type\":\"DatetimeAxis\"},{\"attributes\":{\"line_color\":\"green\",\"line_width\":2,\"x\":{\"field\":\"date\"},\"y\":{\"field\":\"volume\"}},\"id\":\"10666\",\"type\":\"Line\"},{\"attributes\":{\"days\":[1,2,3,4,5,6,7,8,9,10,11,12,13,14,15,16,17,18,19,20,21,22,23,24,25,26,27,28,29,30,31]},\"id\":\"10683\",\"type\":\"DaysTicker\"},{\"attributes\":{\"months\":[0,1,2,3,4,5,6,7,8,9,10,11]},\"id\":\"10687\",\"type\":\"MonthsTicker\"},{\"attributes\":{\"days\":[1,4,7,10,13,16,19,22,25,28]},\"id\":\"10684\",\"type\":\"DaysTicker\"},{\"attributes\":{\"days\":[1,8,15,22]},\"id\":\"10685\",\"type\":\"DaysTicker\"},{\"attributes\":{\"coordinates\":null,\"group\":null,\"text\":\"Open Sea Top Collections January 2021 to August 2022\",\"text_color\":\"black\",\"text_font_size\":\"12pt\"},\"id\":\"10623\",\"type\":\"Title\"},{\"attributes\":{\"mantissas\":[1,2,5],\"max_interval\":500.0,\"num_minor_ticks\":0},\"id\":\"10680\",\"type\":\"AdaptiveTicker\"},{\"attributes\":{\"days\":[1,15]},\"id\":\"10686\",\"type\":\"DaysTicker\"},{\"attributes\":{\"data\":{\"date\":{\"__ndarray__\":\"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\",\"dtype\":\"float64\",\"order\":\"little\",\"shape\":[583]},\"unique_buyers\":[217,142,108,75,103,109,119,224,151,159,82,164,210,191,173,445,180,192,135,162,227,121,165,188,146,268,193,185,164,168,344,190,141,154,132,102,120,289,227,185,158,182,200,380,342,353,389,340,320,532,331,604,424,297,440,339,280,654,609,680,848,409,415,971,486,335,339,321,285,364,361,355,362,283,283,1720,391,317,1302,560,454,321,272,242,228,274,672,434,406,399,242,296,285,322,704,393,480,423,361,767,595,545,485,465,353,602,203,181,167,147,232,242,807,477,755,609,449,441,380,1033,2088,1404,4104,1232,931,756,976,418,397,259,402,2428,1339,1582,835,944,444,502,295,479,717,756,461,575,577,615,686,1025,961,943,979,981,649,607,617,801,1045,1160,872,893,915,1797,800,1035,814,1051,1225,1074,1871,1274,1153,802,676,924,1154,2184,1456,1213,1329,1068,1378,2055,1885,1533,1610,2021,860,2106,898,1462,1497,1340,1056,1037,1315,1867,1598,2637,1412,1886,1174,1977,1296,2042,961,955,1377,2003,3934,1125,2044,3417,4111,4716,2555,3170,1958,3145,2633,1979,2507,1469,2145,1248,1523,1862,1450,1620,2183,2304,1534,2724,3534,3177,5573,4470,4660,3247,3921,5193,9285,5330,4330,4476,2497,3310,1764,2070,1661,1962,1221,1890,1767,1371,1390,2770,2908,1482,2553,1770,1658,1580,1016,2420,2212,1954,2773,1901,1469,3427,3090,1489,1893,2702,1770,1482,1129,1256,2039,964,1165,1425,1327,1079,1317,1974,1092,1059,1165,2533,4515,2229,1613,2359,1457,1808,1129,1312,967,670,886,1246,1156,644,794,1438,1610,1279,1463,1473,1554,3311,6250,6164,4692,3577,4126,4673,4348,4847,3894,3153,3294,2971,2851,2753,2479,2164,2193,2189,2354,2336,3570,5707,3324,3540,3198,2485,2589,3293,3755,3617,3818,3586,4613,4772,6187,5530,4038,3489,24087,11386,6284,6943,5128,4845,4091,4276,3870,5228,4417,3292,2756,2955,3651,3773,4027,4022,3564,3298,2854,3016,3405,2705,3673,3259,7386,4777,3017,3330,2834,2939,3310,3695,4819,3794,2571,2774,3552,3487,3807,2926,3429,3238,3342,4354,3539,2839,4340,6817,5553,4339,3958,3463,3021,3806,4114,2990,3580,3692,3101,2786,3626,3523,7577,5504,3384,5754,10704,5621,4567,3437,4201,2598,3412,2845,2969,7705,3918,3684,4336,2933,3093,3056,3612,3874,4115,2903,6390,3223,3351,3366,3823,3456,4043,3519,3084,3082,3226,3157,2765,5960,5952,3064,10209,13518,4043,5076,3249,3444,4234,3410,3585,3085,2861,2675,2819,2816,2672,3894,13251,4895,11775,6216,3983,4293,7662,5472,5149,5908,8751,14111,15670,9800,12205,19192,26201,18985,14628,16996,19943,17549,10152,13560,15604,7887,6127,7642,12274,9417,12454,14639,12508,9068,14025,9999,14462,8108,5785,14342,12464,8777,7670,12391,7945,10160,7427,7529,16804,7854,8184,7846,7373,5978,5361,5602,4912,4259,5501,5074,4911,4197,4305,12230,5866,5454,5762,3604,3039,3005,2618,2382,2841,2984,3973,3149,4338,4598,7666,8681,6448,6038,4908,4305,4320,3978,6587,3519,5587,6927,3648,3422,3204,3712,4135,4206,4499,4455,3860,4694,10105,7131,4002,3352,3353,209,424,506,501,479,2654,2843,287]},\"selected\":{\"id\":\"10729\"},\"selection_policy\":{\"id\":\"10746\"}},\"id\":\"10728\",\"type\":\"ColumnDataSource\"},{\"attributes\":{},\"id\":\"10636\",\"type\":\"BasicTicker\"},{\"attributes\":{\"line_alpha\":0.2,\"line_color\":\"green\",\"line_width\":2,\"x\":{\"field\":\"date\"},\"y\":{\"field\":\"volume\"}},\"id\":\"10668\",\"type\":\"Line\"},{\"attributes\":{\"num_minor_ticks\":5,\"tickers\":[{\"id\":\"10680\"},{\"id\":\"10681\"},{\"id\":\"10682\"},{\"id\":\"10683\"},{\"id\":\"10684\"},{\"id\":\"10685\"},{\"id\":\"10686\"},{\"id\":\"10687\"},{\"id\":\"10688\"},{\"id\":\"10689\"},{\"id\":\"10690\"},{\"id\":\"10691\"}]},\"id\":\"10632\",\"type\":\"DatetimeTicker\"},{\"attributes\":{\"base\":24,\"mantissas\":[1,2,4,6,8,12],\"max_interval\":43200000.0,\"min_interval\":3600000.0,\"num_minor_ticks\":0},\"id\":\"10682\",\"type\":\"AdaptiveTicker\"},{\"attributes\":{\"months\":[0,2,4,6,8,10]},\"id\":\"10688\",\"type\":\"MonthsTicker\"},{\"attributes\":{},\"id\":\"10629\",\"type\":\"LinearScale\"},{\"attributes\":{\"axis_label\":\"Volume in ETH\",\"coordinates\":null,\"formatter\":{\"id\":\"10654\"},\"group\":null,\"major_label_policy\":{\"id\":\"10660\"},\"ticker\":{\"id\":\"10636\"}},\"id\":\"10635\",\"type\":\"LinearAxis\"},{\"attributes\":{\"line_alpha\":0.1,\"line_color\":\"red\",\"line_width\":2,\"x\":{\"field\":\"date\"},\"y\":{\"field\":\"unique_buyers\"}},\"id\":\"10732\",\"type\":\"Line\"},{\"attributes\":{\"months\":[0,4,8]},\"id\":\"10689\",\"type\":\"MonthsTicker\"},{\"attributes\":{\"axis\":{\"id\":\"10631\"},\"coordinates\":null,\"grid_line_color\":null,\"group\":null,\"ticker\":null},\"id\":\"10634\",\"type\":\"Grid\"},{\"attributes\":{},\"id\":\"10677\",\"type\":\"UnionRenderers\"},{\"attributes\":{\"months\":[0,6]},\"id\":\"10690\",\"type\":\"MonthsTicker\"},{\"attributes\":{},\"id\":\"10746\",\"type\":\"UnionRenderers\"},{\"attributes\":{\"base\":60,\"mantissas\":[1,2,5,10,15,20,30],\"max_interval\":1800000.0,\"min_interval\":1000.0,\"num_minor_ticks\":0},\"id\":\"10681\",\"type\":\"AdaptiveTicker\"},{\"attributes\":{\"data\":{\"date\":{\"__ndarray__\":\"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\",\"dtype\":\"float64\",\"order\":\"little\",\"shape\":[583]},\"volume\":[237,59,101,120,208,322,157,202,101,259,86,130,250,105,82,312,44,263,82,66,113,71,816,361,171,217,480,368,122,220,269,363,618,367,522,394,285,472,749,537,263,820,456,895,2238,1597,1172,2724,3253,3464,2164,6593,6680,2748,2748,1356,1118,2119,2418,1732,2384,1785,1722,2315,799,922,1124,900,833,11889,5324,2313,2582,2542,1573,2261,2066,1511,1846,2579,1001,2021,806,617,551,1115,1295,985,1325,693,671,607,498,538,1131,825,658,4813,2697,1536,2307,2298,2733,1642,1688,1333,1127,1215,1480,1542,1073,1144,1423,775,503,1081,2169,1001,669,978,2549,2846,31355,7814,3179,2158,1499,2312,1952,1573,2199,4986,3298,1965,1409,1409,702,996,615,648,833,1673,998,1424,755,826,986,1215,1023,1068,904,1497,732,634,425,593,973,1662,1282,724,992,1386,727,790,682,1400,1265,1413,1562,2354,3625,2527,1662,1461,1599,3364,3567,1716,2181,1990,1306,1742,1700,1099,2598,2224,1700,2466,1294,3567,2272,2685,3053,3579,2731,4955,6021,7007,3082,4262,3163,2723,1855,2470,1928,2876,5429,3781,3763,4336,15437,25086,27110,7986,10565,22305,20371,26975,13500,10425,9220,8489,7892,6003,4578,8917,5683,5605,5778,7803,4761,16442,24080,16199,57376,36772,25305,22564,46937,89300,111713,49709,23223,24040,13515,15999,10330,9022,8962,6546,5142,4882,6079,5429,4188,13982,7199,8521,20009,5537,4927,3853,4584,9356,4305,6025,8014,7039,8905,15964,19120,9842,13195,13807,9325,7102,7818,6824,4336,4164,5103,4068,4019,2671,3307,3896,3988,3238,2564,5036,9063,5725,4509,4835,4395,7424,3527,4110,3947,4164,128280,4781,2615,3115,2470,2768,3394,2902,2543,3534,3044,9136,4326,4383,4019,5206,12408,13941,12681,13384,12884,9053,5567,4027,3868,4820,2951,3221,3432,2610,2382,3048,5822,5490,4288,4402,6873,4850,4006,6285,4998,4746,7857,4857,5978,5808,22165,16890,8456,6649,16356,13836,5696,6626,6619,7856,7408,11607,7259,13055,14150,7934,9197,9031,11858,17528,21780,18889,13830,12421,9309,9231,11445,12265,14363,61692,118243,137035,142406,144198,158084,142325,209201,200315,163131,204435,215275,236415,218020,225225,234686,208233,152471,248844,242938,305476,218839,244252,254597,215965,199253,193574,139792,158165,161334,80522,76187,71278,70569,55700,61917,46603,43251,44689,47960,48168,47737,47408,44410,45575,33384,24304,45505,29425,25951,33869,41854,49500,39171,37944,32079,32280,32527,30042,43574,37539,27123,32530,36041,44280,53787,48045,66641,51626,26070,46899,49791,56694,51235,48330,46295,46763,52737,65059,61910,74261,73833,71290,55987,50090,45649,41146,43262,38871,30698,32721,36013,44173,41093,51308,88110,65747,75398,64484,69994,64441,79205,76395,67262,63946,58115,54846,63482,68321,79609,239756,143640,92342,96349,117025,83634,70444,45275,75780,101099,64549,54171,59366,53230,33177,36933,38740,39854,31929,34741,29218,39743,27558,26434,34613,38313,32720,32320,31783,27222,33572,38477,30922,35900,34233,31919,30545,27984,25778,24125,25772,19324,23031,54800,38316,33241,30915,26273,41099,36638,39533,34121,24875,20901,14044,20236,18472,19101,15757,23969,11551,15012,13270,17273,10839,18534,17313,17221,30336,28925,31636,12943,25554,25512,29944,24393,20820,23165,12388,21884,11208,8370,12109,6896,6700,10186,7605,9287,7537,4688,3643,3948,6700,4007,4678,10138,6404,3178]},\"selected\":{\"id\":\"10664\"},\"selection_policy\":{\"id\":\"10677\"}},\"id\":\"10663\",\"type\":\"ColumnDataSource\"},{\"attributes\":{\"label\":{\"value\":\"num_trades\"},\"renderers\":[{\"id\":\"10701\"}]},\"id\":\"10726\",\"type\":\"LegendItem\"},{\"attributes\":{\"axis\":{\"id\":\"10635\"},\"coordinates\":null,\"dimension\":1,\"grid_line_color\":null,\"group\":null,\"ticker\":null},\"id\":\"10638\",\"type\":\"Grid\"},{\"attributes\":{},\"id\":\"10691\",\"type\":\"YearsTicker\"},{\"attributes\":{\"click_policy\":\"mute\",\"coordinates\":null,\"group\":null,\"items\":[{\"id\":\"10693\"},{\"id\":\"10726\"},{\"id\":\"10761\"}],\"location\":\"top_left\"},\"id\":\"10692\",\"type\":\"Legend\"},{\"attributes\":{\"end\":1659744000000.0,\"reset_end\":1659744000000.0,\"reset_start\":1609459200000.0,\"start\":1609459200000.0,\"tags\":[[[\"date\",\"date\",null]]]},\"id\":\"10617\",\"type\":\"Range1d\"},{\"attributes\":{},\"id\":\"10660\",\"type\":\"AllLabels\"},{\"attributes\":{},\"id\":\"10696\",\"type\":\"Selection\"},{\"attributes\":{\"label\":{\"value\":\"volume\"},\"renderers\":[{\"id\":\"10669\"}]},\"id\":\"10693\",\"type\":\"LegendItem\"},{\"attributes\":{\"callback\":null,\"formatters\":{\"@{date}\":\"datetime\"},\"renderers\":[{\"id\":\"10669\"}],\"tags\":[\"hv_created\"],\"tooltips\":[[\"date\",\"@{date}{%F %T}\"],[\"volume\",\"@{volume}\"]]},\"id\":\"10619\",\"type\":\"HoverTool\"},{\"attributes\":{\"line_alpha\":0.2,\"line_color\":\"blue\",\"line_width\":2,\"x\":{\"field\":\"date\"},\"y\":{\"field\":\"num_trades\"}},\"id\":\"10700\",\"type\":\"Line\"},{\"attributes\":{},\"id\":\"10639\",\"type\":\"SaveTool\"},{\"attributes\":{},\"id\":\"10640\",\"type\":\"PanTool\"},{\"attributes\":{},\"id\":\"10641\",\"type\":\"WheelZoomTool\"},{\"attributes\":{\"line_color\":\"red\",\"line_width\":2,\"x\":{\"field\":\"date\"},\"y\":{\"field\":\"unique_buyers\"}},\"id\":\"10762\",\"type\":\"Line\"},{\"attributes\":{},\"id\":\"10656\",\"type\":\"DatetimeTickFormatter\"},{\"attributes\":{\"source\":{\"id\":\"10695\"}},\"id\":\"10702\",\"type\":\"CDSView\"},{\"attributes\":{\"line_alpha\":0.1,\"line_color\":\"blue\",\"line_width\":2,\"x\":{\"field\":\"date\"},\"y\":{\"field\":\"num_trades\"}},\"id\":\"10699\",\"type\":\"Line\"},{\"attributes\":{\"overlay\":{\"id\":\"10644\"}},\"id\":\"10642\",\"type\":\"BoxZoomTool\"},{\"attributes\":{\"line_color\":\"green\",\"line_width\":2,\"x\":{\"field\":\"date\"},\"y\":{\"field\":\"volume\"}},\"id\":\"10694\",\"type\":\"Line\"},{\"attributes\":{},\"id\":\"10643\",\"type\":\"ResetTool\"},{\"attributes\":{\"line_alpha\":0.1,\"line_color\":\"green\",\"line_width\":2,\"x\":{\"field\":\"date\"},\"y\":{\"field\":\"volume\"}},\"id\":\"10667\",\"type\":\"Line\"},{\"attributes\":{\"line_alpha\":0.2,\"line_color\":\"red\",\"line_width\":2,\"x\":{\"field\":\"date\"},\"y\":{\"field\":\"unique_buyers\"}},\"id\":\"10733\",\"type\":\"Line\"},{\"attributes\":{\"line_color\":\"red\",\"line_width\":2,\"x\":{\"field\":\"date\"},\"y\":{\"field\":\"unique_buyers\"}},\"id\":\"10731\",\"type\":\"Line\"},{\"attributes\":{},\"id\":\"10729\",\"type\":\"Selection\"},{\"attributes\":{\"children\":[{\"id\":\"10616\"},{\"id\":\"10622\"},{\"id\":\"10988\"}],\"margin\":[0,0,0,0],\"name\":\"Row10581\",\"tags\":[\"embedded\"]},\"id\":\"10615\",\"type\":\"Row\"},{\"attributes\":{\"bottom_units\":\"screen\",\"coordinates\":null,\"fill_alpha\":0.5,\"fill_color\":\"lightgrey\",\"group\":null,\"left_units\":\"screen\",\"level\":\"overlay\",\"line_alpha\":1.0,\"line_color\":\"black\",\"line_dash\":[4,4],\"line_width\":2,\"right_units\":\"screen\",\"syncable\":false,\"top_units\":\"screen\"},\"id\":\"10644\",\"type\":\"BoxAnnotation\"},{\"attributes\":{},\"id\":\"10664\",\"type\":\"Selection\"},{\"attributes\":{},\"id\":\"10711\",\"type\":\"UnionRenderers\"},{\"attributes\":{\"coordinates\":null,\"data_source\":{\"id\":\"10728\"},\"glyph\":{\"id\":\"10731\"},\"group\":null,\"hover_glyph\":null,\"muted_glyph\":{\"id\":\"10733\"},\"nonselection_glyph\":{\"id\":\"10732\"},\"selection_glyph\":{\"id\":\"10762\"},\"view\":{\"id\":\"10735\"}},\"id\":\"10734\",\"type\":\"GlyphRenderer\"},{\"attributes\":{\"margin\":[5,5,5,5],\"name\":\"HSpacer10585\",\"sizing_mode\":\"stretch_width\"},\"id\":\"10616\",\"type\":\"Spacer\"},{\"attributes\":{\"tools\":[{\"id\":\"10619\"},{\"id\":\"10620\"},{\"id\":\"10621\"},{\"id\":\"10639\"},{\"id\":\"10640\"},{\"id\":\"10641\"},{\"id\":\"10642\"},{\"id\":\"10643\"}]},\"id\":\"10645\",\"type\":\"Toolbar\"},{\"attributes\":{\"line_color\":\"blue\",\"line_width\":2,\"x\":{\"field\":\"date\"},\"y\":{\"field\":\"num_trades\"}},\"id\":\"10727\",\"type\":\"Line\"},{\"attributes\":{\"line_color\":\"blue\",\"line_width\":2,\"x\":{\"field\":\"date\"},\"y\":{\"field\":\"num_trades\"}},\"id\":\"10698\",\"type\":\"Line\"},{\"attributes\":{\"margin\":[5,5,5,5],\"name\":\"HSpacer10586\",\"sizing_mode\":\"stretch_width\"},\"id\":\"10988\",\"type\":\"Spacer\"},{\"attributes\":{\"format\":\"%.0f\"},\"id\":\"10654\",\"type\":\"PrintfTickFormatter\"},{\"attributes\":{\"source\":{\"id\":\"10663\"}},\"id\":\"10670\",\"type\":\"CDSView\"},{\"attributes\":{\"below\":[{\"id\":\"10631\"}],\"center\":[{\"id\":\"10634\"},{\"id\":\"10638\"},{\"id\":\"10692\"}],\"height\":700,\"left\":[{\"id\":\"10635\"}],\"margin\":[5,5,5,5],\"min_border_bottom\":10,\"min_border_left\":10,\"min_border_right\":10,\"min_border_top\":10,\"renderers\":[{\"id\":\"10669\"},{\"id\":\"10701\"},{\"id\":\"10734\"}],\"sizing_mode\":\"fixed\",\"title\":{\"id\":\"10623\"},\"toolbar\":{\"id\":\"10645\"},\"width\":1000,\"x_range\":{\"id\":\"10617\"},\"x_scale\":{\"id\":\"10627\"},\"y_range\":{\"id\":\"10618\"},\"y_scale\":{\"id\":\"10629\"}},\"id\":\"10622\",\"subtype\":\"Figure\",\"type\":\"Plot\"},{\"attributes\":{\"end\":336019.2,\"reset_end\":336019.2,\"reset_start\":-30499.2,\"start\":-30499.2,\"tags\":[[[\"volume\",\"volume\",null]]]},\"id\":\"10618\",\"type\":\"Range1d\"},{\"attributes\":{},\"id\":\"10657\",\"type\":\"AllLabels\"},{\"attributes\":{\"label\":{\"value\":\"unique_buyers\"},\"renderers\":[{\"id\":\"10734\"}]},\"id\":\"10761\",\"type\":\"LegendItem\"},{\"attributes\":{\"data\":{\"date\":{\"__ndarray__\":\"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\",\"dtype\":\"float64\",\"order\":\"little\",\"shape\":[583]},\"num_trades\":[1320,536,313,199,295,315,366,821,524,422,188,483,882,659,1051,2854,437,545,333,447,708,306,386,886,465,960,575,580,506,578,1475,532,442,377,329,241,345,947,648,549,357,429,659,1021,852,1135,1088,1117,776,1646,903,2100,891,655,1271,789,682,1727,1504,1446,2063,971,1311,1742,1227,1086,977,848,990,1118,956,962,1235,862,792,2144,1091,733,1867,1251,923,807,742,635,536,677,1434,972,900,865,758,847,716,1188,1634,855,1063,1029,824,1323,1448,1082,1253,1209,1092,1183,564,495,376,287,517,563,1381,1494,2143,1575,1297,1019,897,1838,5366,3095,12024,2557,1965,1442,1762,718,691,432,628,3239,1811,2468,1426,1631,775,870,498,855,1263,1590,989,1247,1351,1242,1622,1922,2107,2055,2066,2318,1483,1382,1447,2016,2847,2946,2588,2866,3659,3797,2796,3851,2849,3400,3667,3761,4299,3300,3208,1986,1625,2364,4550,4493,4755,3125,3730,2544,3004,5331,4678,3690,4994,4034,1805,4642,1847,3063,3935,3448,2364,2165,2527,3623,3607,5778,3420,4659,2597,4135,2898,3806,2564,2791,3342,4972,7998,2985,3836,8969,9010,12092,4846,5642,3709,5389,4964,3919,4753,2839,4412,2772,3191,3675,3329,3254,3699,4163,3793,5014,7123,7427,10973,8830,10544,7398,7073,9670,16733,9689,8552,7846,4707,6476,4257,4989,3561,3633,2505,3659,3336,3548,3193,5098,6150,3202,4518,3611,3527,3486,2262,3768,4651,4004,4969,5312,3695,5805,5387,3231,3273,5019,3470,3083,2273,2415,3108,1694,2309,3481,3189,2517,3209,4138,2413,2189,2709,4731,7718,4464,3398,4103,2628,3726,2133,2466,1860,1077,1602,2367,2009,1282,1529,3378,3540,2831,3063,3346,3504,6657,15008,14987,12195,9231,10612,11234,10508,10228,9096,8025,9318,7970,7046,5572,5923,5067,5038,5068,6019,5689,8067,11786,7418,7992,8143,6208,7111,7449,9105,8913,9627,9027,11808,12558,13054,12358,9434,8287,31285,20854,14595,13574,11416,11023,9565,10404,8898,12742,9495,6948,5429,5897,7189,8038,8038,7779,7507,6945,6044,6156,7433,5951,6774,6942,12236,9142,6009,7930,6219,6758,7306,7806,9141,7094,4977,5687,7031,6856,7394,5795,6612,6642,6688,8703,6695,6266,8990,11123,10360,9819,8524,8354,7354,8077,8480,7150,9305,8620,6717,5604,7214,7337,14831,11177,6764,10176,17082,8874,8523,7306,8963,5704,7411,6612,6686,14691,9280,9555,8914,7480,7296,8216,8914,10067,10417,7249,12279,7202,7492,7043,9686,9612,10271,8780,8529,6968,7457,9074,8317,11730,10112,6573,16807,18349,8046,9537,6585,6583,9070,8149,8285,9704,8817,7013,6666,6819,6937,11281,21714,14379,19087,14348,8970,9136,18505,20214,24895,21960,39450,64594,74549,46688,73361,86451,213640,154130,81158,71893,73664,78713,61667,43604,36239,18906,10810,19851,30644,31907,38910,38950,36362,32211,39736,43653,43649,29449,23135,42798,31553,22424,27622,39514,22302,22953,18682,16759,34166,21440,20954,20640,19755,14751,15344,16679,16499,12960,11814,12802,14621,13087,14398,27665,19888,18513,17110,13522,12764,13064,11861,11792,12543,13275,21480,16247,26091,25655,74265,72657,50342,43341,30855,24339,27413,24983,26836,22569,28099,25673,20563,21790,18212,17608,17699,8562,10833,10665,9536,13107,14713,10708,8213,7089,7304,253,601,723,671,661,4109,4677,348]},\"selected\":{\"id\":\"10696\"},\"selection_policy\":{\"id\":\"10711\"}},\"id\":\"10695\",\"type\":\"ColumnDataSource\"},{\"attributes\":{\"coordinates\":null,\"data_source\":{\"id\":\"10695\"},\"glyph\":{\"id\":\"10698\"},\"group\":null,\"hover_glyph\":null,\"muted_glyph\":{\"id\":\"10700\"},\"nonselection_glyph\":{\"id\":\"10699\"},\"selection_glyph\":{\"id\":\"10727\"},\"view\":{\"id\":\"10702\"}},\"id\":\"10701\",\"type\":\"GlyphRenderer\"},{\"attributes\":{\"source\":{\"id\":\"10728\"}},\"id\":\"10735\",\"type\":\"CDSView\"},{\"attributes\":{\"callback\":null,\"formatters\":{\"@{date}\":\"datetime\"},\"renderers\":[{\"id\":\"10701\"}],\"tags\":[\"hv_created\"],\"tooltips\":[[\"date\",\"@{date}{%F %T}\"],[\"num_trades\",\"@{num_trades}\"]]},\"id\":\"10620\",\"type\":\"HoverTool\"},{\"attributes\":{\"callback\":null,\"formatters\":{\"@{date}\":\"datetime\"},\"renderers\":[{\"id\":\"10734\"}],\"tags\":[\"hv_created\"],\"tooltips\":[[\"date\",\"@{date}{%F %T}\"],[\"unique_buyers\",\"@{unique_buyers}\"]]},\"id\":\"10621\",\"type\":\"HoverTool\"},{\"attributes\":{\"coordinates\":null,\"data_source\":{\"id\":\"10663\"},\"glyph\":{\"id\":\"10666\"},\"group\":null,\"hover_glyph\":null,\"muted_glyph\":{\"id\":\"10668\"},\"nonselection_glyph\":{\"id\":\"10667\"},\"selection_glyph\":{\"id\":\"10694\"},\"view\":{\"id\":\"10670\"}},\"id\":\"10669\",\"type\":\"GlyphRenderer\"}],\"root_ids\":[\"10615\"]},\"title\":\"Bokeh Application\",\"version\":\"2.4.2\"}};\n",
       "    var render_items = [{\"docid\":\"7b14044b-2f66-44ff-bd8e-0062980b9433\",\"root_ids\":[\"10615\"],\"roots\":{\"10615\":\"55ea3025-989e-4a4c-aa3a-ba08c81f3c2a\"}}];\n",
       "    root.Bokeh.embed.embed_items_notebook(docs_json, render_items);\n",
       "  }\n",
       "  if (root.Bokeh !== undefined && root.Bokeh.Panel !== undefined) {\n",
       "    embed_document(root);\n",
       "  } else {\n",
       "    var attempts = 0;\n",
       "    var timer = setInterval(function(root) {\n",
       "      if (root.Bokeh !== undefined && root.Bokeh.Panel !== undefined) {\n",
       "        clearInterval(timer);\n",
       "        embed_document(root);\n",
       "      } else if (document.readyState == \"complete\") {\n",
       "        attempts++;\n",
       "        if (attempts > 200) {\n",
       "          clearInterval(timer);\n",
       "          console.log(\"Bokeh: ERROR: Unable to run BokehJS code because BokehJS library is missing\");\n",
       "        }\n",
       "      }\n",
       "    }, 25, root)\n",
       "  }\n",
       "})(window);</script>"
      ],
      "text/plain": [
       ":Overlay\n",
       "   .Curve.Volume        :Curve   [date]   (volume)\n",
       "   .Curve.Num_trades    :Curve   [date]   (num_trades)\n",
       "   .Curve.Unique_buyers :Curve   [date]   (unique_buyers)"
      ]
     },
     "execution_count": 91,
     "metadata": {
      "application/vnd.holoviews_exec.v0+json": {
       "id": "10615"
      }
     },
     "output_type": "execute_result"
    }
   ],
   "source": [
    "overlay.opts(\n",
    "    title = 'Open Sea Top Collections January 2021 to August 2022',\n",
    "    show_legend = True,\n",
    "    legend_position = 'top_left'\n",
    ")"
   ]
  },
  {
   "cell_type": "markdown",
   "id": "4b29590f-83cf-4ea7-b0fe-70e1254eca2e",
   "metadata": {},
   "source": [
    "# OPTION 5"
   ]
  },
  {
   "cell_type": "code",
   "execution_count": 54,
   "id": "76b0642a-ffad-499b-8ec9-c9b3e8c31037",
   "metadata": {},
   "outputs": [
    {
     "data": {},
     "metadata": {},
     "output_type": "display_data"
    },
    {
     "data": {
      "application/vnd.holoviews_exec.v0+json": "",
      "text/html": [
       "<div id='6584'>\n",
       "\n",
       "\n",
       "\n",
       "\n",
       "\n",
       "  <div class=\"bk-root\" id=\"9673ca36-28a0-41e6-84ad-72dba8c659e6\" data-root-id=\"6584\"></div>\n",
       "</div>\n",
       "<script type=\"application/javascript\">(function(root) {\n",
       "  function embed_document(root) {\n",
       "    var docs_json = {\"b845132b-f1a9-42bc-a8b0-c5275996ed0b\":{\"defs\":[{\"extends\":null,\"module\":null,\"name\":\"ReactiveHTML1\",\"overrides\":[],\"properties\":[]},{\"extends\":null,\"module\":null,\"name\":\"FlexBox1\",\"overrides\":[],\"properties\":[{\"default\":\"flex-start\",\"kind\":null,\"name\":\"align_content\"},{\"default\":\"flex-start\",\"kind\":null,\"name\":\"align_items\"},{\"default\":\"row\",\"kind\":null,\"name\":\"flex_direction\"},{\"default\":\"wrap\",\"kind\":null,\"name\":\"flex_wrap\"},{\"default\":\"flex-start\",\"kind\":null,\"name\":\"justify_content\"}]},{\"extends\":null,\"module\":null,\"name\":\"GridStack1\",\"overrides\":[],\"properties\":[{\"default\":\"warn\",\"kind\":null,\"name\":\"mode\"},{\"default\":null,\"kind\":null,\"name\":\"ncols\"},{\"default\":null,\"kind\":null,\"name\":\"nrows\"},{\"default\":true,\"kind\":null,\"name\":\"allow_resize\"},{\"default\":true,\"kind\":null,\"name\":\"allow_drag\"},{\"default\":[],\"kind\":null,\"name\":\"state\"}]},{\"extends\":null,\"module\":null,\"name\":\"click1\",\"overrides\":[],\"properties\":[{\"default\":\"\",\"kind\":null,\"name\":\"terminal_output\"},{\"default\":\"\",\"kind\":null,\"name\":\"debug_name\"},{\"default\":0,\"kind\":null,\"name\":\"clears\"}]},{\"extends\":null,\"module\":null,\"name\":\"TemplateActions1\",\"overrides\":[],\"properties\":[{\"default\":0,\"kind\":null,\"name\":\"open_modal\"},{\"default\":0,\"kind\":null,\"name\":\"close_modal\"}]},{\"extends\":null,\"module\":null,\"name\":\"MaterialTemplateActions1\",\"overrides\":[],\"properties\":[{\"default\":0,\"kind\":null,\"name\":\"open_modal\"},{\"default\":0,\"kind\":null,\"name\":\"close_modal\"}]}],\"roots\":{\"references\":[{\"attributes\":{\"margin\":[5,5,5,5],\"name\":\"HSpacer07425\",\"sizing_mode\":\"stretch_width\"},\"id\":\"6902\",\"type\":\"Spacer\"},{\"attributes\":{\"axis_label\":\"Date\",\"coordinates\":null,\"formatter\":{\"id\":\"6623\"},\"group\":null,\"major_label_policy\":{\"id\":\"6624\"},\"ticker\":{\"id\":\"6600\"}},\"id\":\"6599\",\"type\":\"DatetimeAxis\"},{\"attributes\":{\"callback\":null,\"formatters\":{\"@{date}\":\"datetime\"},\"renderers\":[{\"id\":\"6668\"}],\"tags\":[\"hv_created\"],\"tooltips\":[[\"date\",\"@{date}{%F %T}\"],[\"unique_buyers\",\"@{unique_buyers}\"]]},\"id\":\"6589\",\"type\":\"HoverTool\"},{\"attributes\":{},\"id\":\"6608\",\"type\":\"PanTool\"},{\"attributes\":{},\"id\":\"6623\",\"type\":\"DatetimeTickFormatter\"},{\"attributes\":{\"tools\":[{\"id\":\"6588\"},{\"id\":\"6589\"},{\"id\":\"6607\"},{\"id\":\"6608\"},{\"id\":\"6609\"},{\"id\":\"6610\"},{\"id\":\"6611\"}]},\"id\":\"6613\",\"type\":\"Toolbar\"},{\"attributes\":{\"line_alpha\":0.1,\"line_color\":\"blue\",\"line_width\":2,\"x\":{\"field\":\"date\"},\"y\":{\"field\":\"num_trades\"}},\"id\":\"6634\",\"type\":\"Line\"},{\"attributes\":{\"callback\":null,\"formatters\":{\"@{date}\":\"datetime\"},\"renderers\":[{\"id\":\"6636\"}],\"tags\":[\"hv_created\"],\"tooltips\":[[\"date\",\"@{date}{%F %T}\"],[\"num_trades\",\"@{num_trades}\"]]},\"id\":\"6588\",\"type\":\"HoverTool\"},{\"attributes\":{\"axis\":{\"id\":\"6599\"},\"coordinates\":null,\"grid_line_color\":null,\"group\":null,\"ticker\":null},\"id\":\"6602\",\"type\":\"Grid\"},{\"attributes\":{\"data\":{\"date\":{\"__ndarray__\":\"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\",\"dtype\":\"float64\",\"order\":\"little\",\"shape\":[583]},\"num_trades\":[1320,536,313,199,295,315,366,821,524,422,188,483,882,659,1051,2854,437,545,333,447,708,306,386,886,465,960,575,580,506,578,1475,532,442,377,329,241,345,947,648,549,357,429,659,1021,852,1135,1088,1117,776,1646,903,2100,891,655,1271,789,682,1727,1504,1446,2063,971,1311,1742,1227,1086,977,848,990,1118,956,962,1235,862,792,2144,1091,733,1867,1251,923,807,742,635,536,677,1434,972,900,865,758,847,716,1188,1634,855,1063,1029,824,1323,1448,1082,1253,1209,1092,1183,564,495,376,287,517,563,1381,1494,2143,1575,1297,1019,897,1838,5366,3095,12024,2557,1965,1442,1762,718,691,432,628,3239,1811,2468,1426,1631,775,870,498,855,1263,1590,989,1247,1351,1242,1622,1922,2107,2055,2066,2318,1483,1382,1447,2016,2847,2946,2588,2866,3659,3797,2796,3851,2849,3400,3667,3761,4299,3300,3208,1986,1625,2364,4550,4493,4755,3125,3730,2544,3004,5331,4678,3690,4994,4034,1805,4642,1847,3063,3935,3448,2364,2165,2527,3623,3607,5778,3420,4659,2597,4135,2898,3806,2564,2791,3342,4972,7998,2985,3836,8969,9010,12092,4846,5642,3709,5389,4964,3919,4753,2839,4412,2772,3191,3675,3329,3254,3699,4163,3793,5014,7123,7427,10973,8830,10544,7398,7073,9670,16733,9689,8552,7846,4707,6476,4257,4989,3561,3633,2505,3659,3336,3548,3193,5098,6150,3202,4518,3611,3527,3486,2262,3768,4651,4004,4969,5312,3695,5805,5387,3231,3273,5019,3470,3083,2273,2415,3108,1694,2309,3481,3189,2517,3209,4138,2413,2189,2709,4731,7718,4464,3398,4103,2628,3726,2133,2466,1860,1077,1602,2367,2009,1282,1529,3378,3540,2831,3063,3346,3504,6657,15008,14987,12195,9231,10612,11234,10508,10228,9096,8025,9318,7970,7046,5572,5923,5067,5038,5068,6019,5689,8067,11786,7418,7992,8143,6208,7111,7449,9105,8913,9627,9027,11808,12558,13054,12358,9434,8287,31285,20854,14595,13574,11416,11023,9565,10404,8898,12742,9495,6948,5429,5897,7189,8038,8038,7779,7507,6945,6044,6156,7433,5951,6774,6942,12236,9142,6009,7930,6219,6758,7306,7806,9141,7094,4977,5687,7031,6856,7394,5795,6612,6642,6688,8703,6695,6266,8990,11123,10360,9819,8524,8354,7354,8077,8480,7150,9305,8620,6717,5604,7214,7337,14831,11177,6764,10176,17082,8874,8523,7306,8963,5704,7411,6612,6686,14691,9280,9555,8914,7480,7296,8216,8914,10067,10417,7249,12279,7202,7492,7043,9686,9612,10271,8780,8529,6968,7457,9074,8317,11730,10112,6573,16807,18349,8046,9537,6585,6583,9070,8149,8285,9704,8817,7013,6666,6819,6937,11281,21714,14379,19087,14348,8970,9136,18505,20214,24895,21960,39450,64594,74549,46688,73361,86451,213640,154130,81158,71893,73664,78713,61667,43604,36239,18906,10810,19851,30644,31907,38910,38950,36362,32211,39736,43653,43649,29449,23135,42798,31553,22424,27622,39514,22302,22953,18682,16759,34166,21440,20954,20640,19755,14751,15344,16679,16499,12960,11814,12802,14621,13087,14398,27665,19888,18513,17110,13522,12764,13064,11861,11792,12543,13275,21480,16247,26091,25655,74265,72657,50342,43341,30855,24339,27413,24983,26836,22569,28099,25673,20563,21790,18212,17608,17699,8562,10833,10665,9536,13107,14713,10708,8213,7089,7304,253,601,723,671,661,4109,4677,348]},\"selected\":{\"id\":\"6631\"},\"selection_policy\":{\"id\":\"6644\"}},\"id\":\"6630\",\"type\":\"ColumnDataSource\"},{\"attributes\":{},\"id\":\"6595\",\"type\":\"LinearScale\"},{\"attributes\":{\"days\":[1,15]},\"id\":\"6653\",\"type\":\"DaysTicker\"},{\"attributes\":{\"axis_label\":\"Number of Trades\",\"coordinates\":null,\"formatter\":{\"id\":\"6621\"},\"group\":null,\"major_label_policy\":{\"id\":\"6627\"},\"ticker\":{\"id\":\"6604\"}},\"id\":\"6603\",\"type\":\"LinearAxis\"},{\"attributes\":{\"below\":[{\"id\":\"6599\"}],\"center\":[{\"id\":\"6602\"},{\"id\":\"6606\"},{\"id\":\"6659\"}],\"height\":700,\"left\":[{\"id\":\"6603\"}],\"margin\":[5,5,5,5],\"min_border_bottom\":10,\"min_border_left\":10,\"min_border_right\":10,\"min_border_top\":10,\"renderers\":[{\"id\":\"6636\"},{\"id\":\"6668\"}],\"sizing_mode\":\"fixed\",\"title\":{\"id\":\"6591\"},\"toolbar\":{\"id\":\"6613\"},\"width\":1000,\"x_range\":{\"id\":\"6586\"},\"x_scale\":{\"id\":\"6595\"},\"y_range\":{\"id\":\"6587\"},\"y_scale\":{\"id\":\"6597\"}},\"id\":\"6590\",\"subtype\":\"Figure\",\"type\":\"Plot\"},{\"attributes\":{\"source\":{\"id\":\"6630\"}},\"id\":\"6637\",\"type\":\"CDSView\"},{\"attributes\":{},\"id\":\"6624\",\"type\":\"AllLabels\"},{\"attributes\":{\"months\":[0,2,4,6,8,10]},\"id\":\"6655\",\"type\":\"MonthsTicker\"},{\"attributes\":{\"overlay\":{\"id\":\"6612\"}},\"id\":\"6610\",\"type\":\"BoxZoomTool\"},{\"attributes\":{\"days\":[1,4,7,10,13,16,19,22,25,28]},\"id\":\"6651\",\"type\":\"DaysTicker\"},{\"attributes\":{},\"id\":\"6611\",\"type\":\"ResetTool\"},{\"attributes\":{\"coordinates\":null,\"data_source\":{\"id\":\"6662\"},\"glyph\":{\"id\":\"6665\"},\"group\":null,\"hover_glyph\":null,\"muted_glyph\":{\"id\":\"6667\"},\"nonselection_glyph\":{\"id\":\"6666\"},\"selection_glyph\":{\"id\":\"6694\"},\"view\":{\"id\":\"6669\"}},\"id\":\"6668\",\"type\":\"GlyphRenderer\"},{\"attributes\":{},\"id\":\"6631\",\"type\":\"Selection\"},{\"attributes\":{\"end\":234996.5,\"reset_end\":234996.5,\"reset_start\":-21281.5,\"start\":-21281.5,\"tags\":[[[\"num_trades\",\"num_trades\",null]]]},\"id\":\"6587\",\"type\":\"Range1d\"},{\"attributes\":{\"line_alpha\":0.2,\"line_color\":\"red\",\"line_width\":2,\"x\":{\"field\":\"date\"},\"y\":{\"field\":\"unique_buyers\"}},\"id\":\"6667\",\"type\":\"Line\"},{\"attributes\":{},\"id\":\"6604\",\"type\":\"BasicTicker\"},{\"attributes\":{},\"id\":\"6658\",\"type\":\"YearsTicker\"},{\"attributes\":{\"line_color\":\"blue\",\"line_width\":2,\"x\":{\"field\":\"date\"},\"y\":{\"field\":\"num_trades\"}},\"id\":\"6633\",\"type\":\"Line\"},{\"attributes\":{\"line_color\":\"red\",\"line_width\":2,\"x\":{\"field\":\"date\"},\"y\":{\"field\":\"unique_buyers\"}},\"id\":\"6665\",\"type\":\"Line\"},{\"attributes\":{\"line_alpha\":0.2,\"line_color\":\"blue\",\"line_width\":2,\"x\":{\"field\":\"date\"},\"y\":{\"field\":\"num_trades\"}},\"id\":\"6635\",\"type\":\"Line\"},{\"attributes\":{},\"id\":\"6609\",\"type\":\"WheelZoomTool\"},{\"attributes\":{\"data\":{\"date\":{\"__ndarray__\":\"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\",\"dtype\":\"float64\",\"order\":\"little\",\"shape\":[583]},\"unique_buyers\":[217,142,108,75,103,109,119,224,151,159,82,164,210,191,173,445,180,192,135,162,227,121,165,188,146,268,193,185,164,168,344,190,141,154,132,102,120,289,227,185,158,182,200,380,342,353,389,340,320,532,331,604,424,297,440,339,280,654,609,680,848,409,415,971,486,335,339,321,285,364,361,355,362,283,283,1720,391,317,1302,560,454,321,272,242,228,274,672,434,406,399,242,296,285,322,704,393,480,423,361,767,595,545,485,465,353,602,203,181,167,147,232,242,807,477,755,609,449,441,380,1033,2088,1404,4104,1232,931,756,976,418,397,259,402,2428,1339,1582,835,944,444,502,295,479,717,756,461,575,577,615,686,1025,961,943,979,981,649,607,617,801,1045,1160,872,893,915,1797,800,1035,814,1051,1225,1074,1871,1274,1153,802,676,924,1154,2184,1456,1213,1329,1068,1378,2055,1885,1533,1610,2021,860,2106,898,1462,1497,1340,1056,1037,1315,1867,1598,2637,1412,1886,1174,1977,1296,2042,961,955,1377,2003,3934,1125,2044,3417,4111,4716,2555,3170,1958,3145,2633,1979,2507,1469,2145,1248,1523,1862,1450,1620,2183,2304,1534,2724,3534,3177,5573,4470,4660,3247,3921,5193,9285,5330,4330,4476,2497,3310,1764,2070,1661,1962,1221,1890,1767,1371,1390,2770,2908,1482,2553,1770,1658,1580,1016,2420,2212,1954,2773,1901,1469,3427,3090,1489,1893,2702,1770,1482,1129,1256,2039,964,1165,1425,1327,1079,1317,1974,1092,1059,1165,2533,4515,2229,1613,2359,1457,1808,1129,1312,967,670,886,1246,1156,644,794,1438,1610,1279,1463,1473,1554,3311,6250,6164,4692,3577,4126,4673,4348,4847,3894,3153,3294,2971,2851,2753,2479,2164,2193,2189,2354,2336,3570,5707,3324,3540,3198,2485,2589,3293,3755,3617,3818,3586,4613,4772,6187,5530,4038,3489,24087,11386,6284,6943,5128,4845,4091,4276,3870,5228,4417,3292,2756,2955,3651,3773,4027,4022,3564,3298,2854,3016,3405,2705,3673,3259,7386,4777,3017,3330,2834,2939,3310,3695,4819,3794,2571,2774,3552,3487,3807,2926,3429,3238,3342,4354,3539,2839,4340,6817,5553,4339,3958,3463,3021,3806,4114,2990,3580,3692,3101,2786,3626,3523,7577,5504,3384,5754,10704,5621,4567,3437,4201,2598,3412,2845,2969,7705,3918,3684,4336,2933,3093,3056,3612,3874,4115,2903,6390,3223,3351,3366,3823,3456,4043,3519,3084,3082,3226,3157,2765,5960,5952,3064,10209,13518,4043,5076,3249,3444,4234,3410,3585,3085,2861,2675,2819,2816,2672,3894,13251,4895,11775,6216,3983,4293,7662,5472,5149,5908,8751,14111,15670,9800,12205,19192,26201,18985,14628,16996,19943,17549,10152,13560,15604,7887,6127,7642,12274,9417,12454,14639,12508,9068,14025,9999,14462,8108,5785,14342,12464,8777,7670,12391,7945,10160,7427,7529,16804,7854,8184,7846,7373,5978,5361,5602,4912,4259,5501,5074,4911,4197,4305,12230,5866,5454,5762,3604,3039,3005,2618,2382,2841,2984,3973,3149,4338,4598,7666,8681,6448,6038,4908,4305,4320,3978,6587,3519,5587,6927,3648,3422,3204,3712,4135,4206,4499,4455,3860,4694,10105,7131,4002,3352,3353,209,424,506,501,479,2654,2843,287]},\"selected\":{\"id\":\"6663\"},\"selection_policy\":{\"id\":\"6678\"}},\"id\":\"6662\",\"type\":\"ColumnDataSource\"},{\"attributes\":{},\"id\":\"6678\",\"type\":\"UnionRenderers\"},{\"attributes\":{\"bottom_units\":\"screen\",\"coordinates\":null,\"fill_alpha\":0.5,\"fill_color\":\"lightgrey\",\"group\":null,\"left_units\":\"screen\",\"level\":\"overlay\",\"line_alpha\":1.0,\"line_color\":\"black\",\"line_dash\":[4,4],\"line_width\":2,\"right_units\":\"screen\",\"syncable\":false,\"top_units\":\"screen\"},\"id\":\"6612\",\"type\":\"BoxAnnotation\"},{\"attributes\":{\"months\":[0,1,2,3,4,5,6,7,8,9,10,11]},\"id\":\"6654\",\"type\":\"MonthsTicker\"},{\"attributes\":{\"num_minor_ticks\":5,\"tickers\":[{\"id\":\"6647\"},{\"id\":\"6648\"},{\"id\":\"6649\"},{\"id\":\"6650\"},{\"id\":\"6651\"},{\"id\":\"6652\"},{\"id\":\"6653\"},{\"id\":\"6654\"},{\"id\":\"6655\"},{\"id\":\"6656\"},{\"id\":\"6657\"},{\"id\":\"6658\"}]},\"id\":\"6600\",\"type\":\"DatetimeTicker\"},{\"attributes\":{},\"id\":\"6663\",\"type\":\"Selection\"},{\"attributes\":{\"format\":\"%.0f\"},\"id\":\"6621\",\"type\":\"PrintfTickFormatter\"},{\"attributes\":{\"children\":[{\"id\":\"6585\"},{\"id\":\"6590\"},{\"id\":\"6902\"}],\"margin\":[0,0,0,0],\"name\":\"Row07420\",\"tags\":[\"embedded\"]},\"id\":\"6584\",\"type\":\"Row\"},{\"attributes\":{\"click_policy\":\"mute\",\"coordinates\":null,\"group\":null,\"items\":[{\"id\":\"6660\"},{\"id\":\"6693\"}],\"location\":\"top_left\"},\"id\":\"6659\",\"type\":\"Legend\"},{\"attributes\":{},\"id\":\"6597\",\"type\":\"LinearScale\"},{\"attributes\":{\"label\":{\"value\":\"Number of Trades\"},\"renderers\":[{\"id\":\"6636\"}]},\"id\":\"6660\",\"type\":\"LegendItem\"},{\"attributes\":{\"base\":60,\"mantissas\":[1,2,5,10,15,20,30],\"max_interval\":1800000.0,\"min_interval\":1000.0,\"num_minor_ticks\":0},\"id\":\"6648\",\"type\":\"AdaptiveTicker\"},{\"attributes\":{\"line_alpha\":0.1,\"line_color\":\"red\",\"line_width\":2,\"x\":{\"field\":\"date\"},\"y\":{\"field\":\"unique_buyers\"}},\"id\":\"6666\",\"type\":\"Line\"},{\"attributes\":{},\"id\":\"6607\",\"type\":\"SaveTool\"},{\"attributes\":{\"days\":[1,2,3,4,5,6,7,8,9,10,11,12,13,14,15,16,17,18,19,20,21,22,23,24,25,26,27,28,29,30,31]},\"id\":\"6650\",\"type\":\"DaysTicker\"},{\"attributes\":{\"months\":[0,6]},\"id\":\"6657\",\"type\":\"MonthsTicker\"},{\"attributes\":{\"base\":24,\"mantissas\":[1,2,4,6,8,12],\"max_interval\":43200000.0,\"min_interval\":3600000.0,\"num_minor_ticks\":0},\"id\":\"6649\",\"type\":\"AdaptiveTicker\"},{\"attributes\":{\"end\":1659744000000.0,\"reset_end\":1659744000000.0,\"reset_start\":1609459200000.0,\"start\":1609459200000.0,\"tags\":[[[\"date\",\"date\",null]]]},\"id\":\"6586\",\"type\":\"Range1d\"},{\"attributes\":{\"line_color\":\"blue\",\"line_width\":2,\"x\":{\"field\":\"date\"},\"y\":{\"field\":\"num_trades\"}},\"id\":\"6661\",\"type\":\"Line\"},{\"attributes\":{},\"id\":\"6644\",\"type\":\"UnionRenderers\"},{\"attributes\":{\"axis\":{\"id\":\"6603\"},\"coordinates\":null,\"dimension\":1,\"grid_line_color\":null,\"group\":null,\"ticker\":null},\"id\":\"6606\",\"type\":\"Grid\"},{\"attributes\":{\"source\":{\"id\":\"6662\"}},\"id\":\"6669\",\"type\":\"CDSView\"},{\"attributes\":{\"line_color\":\"red\",\"line_width\":2,\"x\":{\"field\":\"date\"},\"y\":{\"field\":\"unique_buyers\"}},\"id\":\"6694\",\"type\":\"Line\"},{\"attributes\":{\"months\":[0,4,8]},\"id\":\"6656\",\"type\":\"MonthsTicker\"},{\"attributes\":{\"coordinates\":null,\"data_source\":{\"id\":\"6630\"},\"glyph\":{\"id\":\"6633\"},\"group\":null,\"hover_glyph\":null,\"muted_glyph\":{\"id\":\"6635\"},\"nonselection_glyph\":{\"id\":\"6634\"},\"selection_glyph\":{\"id\":\"6661\"},\"view\":{\"id\":\"6637\"}},\"id\":\"6636\",\"type\":\"GlyphRenderer\"},{\"attributes\":{\"days\":[1,8,15,22]},\"id\":\"6652\",\"type\":\"DaysTicker\"},{\"attributes\":{},\"id\":\"6627\",\"type\":\"AllLabels\"},{\"attributes\":{\"label\":{\"value\":\"Number of Unique Buyers\"},\"renderers\":[{\"id\":\"6668\"}]},\"id\":\"6693\",\"type\":\"LegendItem\"},{\"attributes\":{\"coordinates\":null,\"group\":null,\"text\":\"Open Sea Number of Trades and Unique Buyers January 2021 to August 2022\",\"text_color\":\"black\",\"text_font_size\":\"12pt\"},\"id\":\"6591\",\"type\":\"Title\"},{\"attributes\":{\"margin\":[5,5,5,5],\"name\":\"HSpacer07424\",\"sizing_mode\":\"stretch_width\"},\"id\":\"6585\",\"type\":\"Spacer\"},{\"attributes\":{\"mantissas\":[1,2,5],\"max_interval\":500.0,\"num_minor_ticks\":0},\"id\":\"6647\",\"type\":\"AdaptiveTicker\"}],\"root_ids\":[\"6584\"]},\"title\":\"Bokeh Application\",\"version\":\"2.4.2\"}};\n",
       "    var render_items = [{\"docid\":\"b845132b-f1a9-42bc-a8b0-c5275996ed0b\",\"root_ids\":[\"6584\"],\"roots\":{\"6584\":\"9673ca36-28a0-41e6-84ad-72dba8c659e6\"}}];\n",
       "    root.Bokeh.embed.embed_items_notebook(docs_json, render_items);\n",
       "  }\n",
       "  if (root.Bokeh !== undefined && root.Bokeh.Panel !== undefined) {\n",
       "    embed_document(root);\n",
       "  } else {\n",
       "    var attempts = 0;\n",
       "    var timer = setInterval(function(root) {\n",
       "      if (root.Bokeh !== undefined && root.Bokeh.Panel !== undefined) {\n",
       "        clearInterval(timer);\n",
       "        embed_document(root);\n",
       "      } else if (document.readyState == \"complete\") {\n",
       "        attempts++;\n",
       "        if (attempts > 200) {\n",
       "          clearInterval(timer);\n",
       "          console.log(\"Bokeh: ERROR: Unable to run BokehJS code because BokehJS library is missing\");\n",
       "        }\n",
       "      }\n",
       "    }, 25, root)\n",
       "  }\n",
       "})(window);</script>"
      ],
      "text/plain": [
       ":Overlay\n",
       "   .Curve.Number_of_Trades        :Curve   [date]   (num_trades)\n",
       "   .Curve.Number_of_Unique_Buyers :Curve   [date]   (unique_buyers)"
      ]
     },
     "execution_count": 54,
     "metadata": {
      "application/vnd.holoviews_exec.v0+json": {
       "id": "6584"
      }
     },
     "output_type": "execute_result"
    }
   ],
   "source": [
    "overlay_2_and_3 = (overlay_2 * overlay_3)\n",
    "overlay_2_and_3.opts(\n",
    "    title = 'Open Sea Number of Trades and Unique Buyers January 2021 to August 2022',\n",
    "    show_legend = True,\n",
    "    legend_position = 'top_left'\n",
    ")"
   ]
  },
  {
   "cell_type": "code",
   "execution_count": 56,
   "id": "b970608c-1ecf-4a33-98be-48c3f096920f",
   "metadata": {},
   "outputs": [],
   "source": [
    "side_by_side = overlay_2_and_3 + overlay_1"
   ]
  },
  {
   "cell_type": "code",
   "execution_count": 59,
   "id": "b7a29eae-4dcf-4b5d-ace0-ce04f2446a49",
   "metadata": {},
   "outputs": [
    {
     "data": {},
     "metadata": {},
     "output_type": "display_data"
    },
    {
     "data": {
      "application/vnd.holoviews_exec.v0+json": "",
      "text/html": [
       "<div id='8009'>\n",
       "\n",
       "\n",
       "\n",
       "\n",
       "\n",
       "  <div class=\"bk-root\" id=\"45c50f98-f312-40ff-b1d5-2551946e808c\" data-root-id=\"8009\"></div>\n",
       "</div>\n",
       "<script type=\"application/javascript\">(function(root) {\n",
       "  function embed_document(root) {\n",
       "    var docs_json = {\"d4a65650-d3d7-4a13-860e-c9d9145184a8\":{\"defs\":[{\"extends\":null,\"module\":null,\"name\":\"ReactiveHTML1\",\"overrides\":[],\"properties\":[]},{\"extends\":null,\"module\":null,\"name\":\"FlexBox1\",\"overrides\":[],\"properties\":[{\"default\":\"flex-start\",\"kind\":null,\"name\":\"align_content\"},{\"default\":\"flex-start\",\"kind\":null,\"name\":\"align_items\"},{\"default\":\"row\",\"kind\":null,\"name\":\"flex_direction\"},{\"default\":\"wrap\",\"kind\":null,\"name\":\"flex_wrap\"},{\"default\":\"flex-start\",\"kind\":null,\"name\":\"justify_content\"}]},{\"extends\":null,\"module\":null,\"name\":\"GridStack1\",\"overrides\":[],\"properties\":[{\"default\":\"warn\",\"kind\":null,\"name\":\"mode\"},{\"default\":null,\"kind\":null,\"name\":\"ncols\"},{\"default\":null,\"kind\":null,\"name\":\"nrows\"},{\"default\":true,\"kind\":null,\"name\":\"allow_resize\"},{\"default\":true,\"kind\":null,\"name\":\"allow_drag\"},{\"default\":[],\"kind\":null,\"name\":\"state\"}]},{\"extends\":null,\"module\":null,\"name\":\"click1\",\"overrides\":[],\"properties\":[{\"default\":\"\",\"kind\":null,\"name\":\"terminal_output\"},{\"default\":\"\",\"kind\":null,\"name\":\"debug_name\"},{\"default\":0,\"kind\":null,\"name\":\"clears\"}]},{\"extends\":null,\"module\":null,\"name\":\"TemplateActions1\",\"overrides\":[],\"properties\":[{\"default\":0,\"kind\":null,\"name\":\"open_modal\"},{\"default\":0,\"kind\":null,\"name\":\"close_modal\"}]},{\"extends\":null,\"module\":null,\"name\":\"MaterialTemplateActions1\",\"overrides\":[],\"properties\":[{\"default\":0,\"kind\":null,\"name\":\"open_modal\"},{\"default\":0,\"kind\":null,\"name\":\"close_modal\"}]}],\"roots\":{\"references\":[{\"attributes\":{\"coordinates\":null,\"data_source\":{\"id\":\"8055\"},\"glyph\":{\"id\":\"8058\"},\"group\":null,\"hover_glyph\":null,\"muted_glyph\":{\"id\":\"8060\"},\"nonselection_glyph\":{\"id\":\"8059\"},\"selection_glyph\":{\"id\":\"8086\"},\"view\":{\"id\":\"8062\"}},\"id\":\"8061\",\"type\":\"GlyphRenderer\"},{\"attributes\":{},\"id\":\"8304\",\"type\":\"ResetTool\"},{\"attributes\":{\"days\":[1,2,3,4,5,6,7,8,9,10,11,12,13,14,15,16,17,18,19,20,21,22,23,24,25,26,27,28,29,30,31]},\"id\":\"8075\",\"type\":\"DaysTicker\"},{\"attributes\":{\"days\":[1,8,15,22]},\"id\":\"8077\",\"type\":\"DaysTicker\"},{\"attributes\":{\"overlay\":{\"id\":\"8305\"}},\"id\":\"8303\",\"type\":\"BoxZoomTool\"},{\"attributes\":{\"click_policy\":\"mute\",\"coordinates\":null,\"group\":null,\"items\":[{\"id\":\"8085\"},{\"id\":\"8118\"}],\"location\":\"top_left\"},\"id\":\"8084\",\"type\":\"Legend\"},{\"attributes\":{\"callback\":null,\"formatters\":{\"@{date}\":\"datetime\"},\"renderers\":[{\"id\":\"8093\"}],\"tags\":[\"hv_created\"],\"tooltips\":[[\"date\",\"@{date}{%F %T}\"],[\"unique_buyers\",\"@{unique_buyers}\"]]},\"id\":\"8014\",\"type\":\"HoverTool\"},{\"attributes\":{},\"id\":\"8290\",\"type\":\"LinearScale\"},{\"attributes\":{\"toolbar\":{\"id\":\"8378\"},\"toolbar_location\":\"above\"},\"id\":\"8379\",\"type\":\"ToolbarBox\"},{\"attributes\":{\"days\":[1,4,7,10,13,16,19,22,25,28]},\"id\":\"8076\",\"type\":\"DaysTicker\"},{\"attributes\":{\"children\":[{\"id\":\"8010\"},{\"id\":\"8380\"},{\"id\":\"8777\"}],\"margin\":[0,0,0,0],\"name\":\"Row08361\",\"tags\":[\"embedded\"]},\"id\":\"8009\",\"type\":\"Row\"},{\"attributes\":{\"axis\":{\"id\":\"8296\"},\"coordinates\":null,\"dimension\":1,\"grid_line_color\":null,\"group\":null,\"ticker\":null},\"id\":\"8299\",\"type\":\"Grid\"},{\"attributes\":{},\"id\":\"8052\",\"type\":\"AllLabels\"},{\"attributes\":{\"axis_label\":\"Volume in ETH\",\"coordinates\":null,\"formatter\":{\"id\":\"8322\"},\"group\":null,\"major_label_policy\":{\"id\":\"8328\"},\"ticker\":{\"id\":\"8297\"}},\"id\":\"8296\",\"type\":\"LinearAxis\"},{\"attributes\":{\"label\":{\"value\":\"Number of Unique Buyers\"},\"renderers\":[{\"id\":\"8093\"}]},\"id\":\"8118\",\"type\":\"LegendItem\"},{\"attributes\":{\"toolbars\":[{\"id\":\"8038\"},{\"id\":\"8306\"}],\"tools\":[{\"id\":\"8013\"},{\"id\":\"8014\"},{\"id\":\"8032\"},{\"id\":\"8033\"},{\"id\":\"8034\"},{\"id\":\"8035\"},{\"id\":\"8036\"},{\"id\":\"8282\"},{\"id\":\"8300\"},{\"id\":\"8301\"},{\"id\":\"8302\"},{\"id\":\"8303\"},{\"id\":\"8304\"}]},\"id\":\"8378\",\"type\":\"ProxyToolbar\"},{\"attributes\":{\"label\":{\"value\":\"Number of Trades\"},\"renderers\":[{\"id\":\"8061\"}]},\"id\":\"8085\",\"type\":\"LegendItem\"},{\"attributes\":{\"months\":[0,1,2,3,4,5,6,7,8,9,10,11]},\"id\":\"8079\",\"type\":\"MonthsTicker\"},{\"attributes\":{\"coordinates\":null,\"group\":null,\"text\":\"Open Sea Number of Trades and Unique Buyers January 2021 to August 2022\",\"text_color\":\"black\",\"text_font_size\":\"12pt\"},\"id\":\"8016\",\"type\":\"Title\"},{\"attributes\":{\"end\":1659744000000.0,\"reset_end\":1659744000000.0,\"reset_start\":1609459200000.0,\"start\":1609459200000.0,\"tags\":[[[\"date\",\"date\",null]]]},\"id\":\"8011\",\"type\":\"Range1d\"},{\"attributes\":{\"coordinates\":null,\"data_source\":{\"id\":\"8313\"},\"glyph\":{\"id\":\"8316\"},\"group\":null,\"hover_glyph\":null,\"muted_glyph\":{\"id\":\"8318\"},\"nonselection_glyph\":{\"id\":\"8317\"},\"selection_glyph\":{\"id\":\"8321\"},\"view\":{\"id\":\"8320\"}},\"id\":\"8319\",\"type\":\"GlyphRenderer\"},{\"attributes\":{\"line_alpha\":0.2,\"line_color\":\"blue\",\"line_width\":2,\"x\":{\"field\":\"date\"},\"y\":{\"field\":\"num_trades\"}},\"id\":\"8060\",\"type\":\"Line\"},{\"attributes\":{\"axis\":{\"id\":\"8292\"},\"coordinates\":null,\"grid_line_color\":null,\"group\":null,\"ticker\":null},\"id\":\"8295\",\"type\":\"Grid\"},{\"attributes\":{},\"id\":\"8048\",\"type\":\"DatetimeTickFormatter\"},{\"attributes\":{\"line_color\":\"red\",\"line_width\":2,\"x\":{\"field\":\"date\"},\"y\":{\"field\":\"unique_buyers\"}},\"id\":\"8119\",\"type\":\"Line\"},{\"attributes\":{},\"id\":\"8020\",\"type\":\"LinearScale\"},{\"attributes\":{\"axis_label\":\"Date\",\"coordinates\":null,\"formatter\":{\"id\":\"8048\"},\"group\":null,\"major_label_policy\":{\"id\":\"8049\"},\"ticker\":{\"id\":\"8025\"}},\"id\":\"8024\",\"type\":\"DatetimeAxis\"},{\"attributes\":{\"format\":\"%.0f\"},\"id\":\"8046\",\"type\":\"PrintfTickFormatter\"},{\"attributes\":{\"line_alpha\":0.2,\"line_color\":\"red\",\"line_width\":2,\"x\":{\"field\":\"date\"},\"y\":{\"field\":\"unique_buyers\"}},\"id\":\"8092\",\"type\":\"Line\"},{\"attributes\":{\"line_color\":\"green\",\"line_width\":2,\"x\":{\"field\":\"date\"},\"y\":{\"field\":\"volume\"}},\"id\":\"8321\",\"type\":\"Line\"},{\"attributes\":{\"margin\":[5,5,5,5],\"name\":\"HSpacer08365\",\"sizing_mode\":\"stretch_width\"},\"id\":\"8010\",\"type\":\"Spacer\"},{\"attributes\":{\"line_color\":\"blue\",\"line_width\":2,\"x\":{\"field\":\"date\"},\"y\":{\"field\":\"num_trades\"}},\"id\":\"8086\",\"type\":\"Line\"},{\"attributes\":{},\"id\":\"8324\",\"type\":\"DatetimeTickFormatter\"},{\"attributes\":{},\"id\":\"8361\",\"type\":\"UnionRenderers\"},{\"attributes\":{\"coordinates\":null,\"group\":null,\"text\":\"Open Sea Volume for Top Collections January 2021 to August 2022\",\"text_color\":\"black\",\"text_font_size\":\"12pt\"},\"id\":\"8284\",\"type\":\"Title\"},{\"attributes\":{},\"id\":\"8029\",\"type\":\"BasicTicker\"},{\"attributes\":{\"coordinates\":null,\"data_source\":{\"id\":\"8087\"},\"glyph\":{\"id\":\"8090\"},\"group\":null,\"hover_glyph\":null,\"muted_glyph\":{\"id\":\"8092\"},\"nonselection_glyph\":{\"id\":\"8091\"},\"selection_glyph\":{\"id\":\"8119\"},\"view\":{\"id\":\"8094\"}},\"id\":\"8093\",\"type\":\"GlyphRenderer\"},{\"attributes\":{\"line_color\":\"red\",\"line_width\":2,\"x\":{\"field\":\"date\"},\"y\":{\"field\":\"unique_buyers\"}},\"id\":\"8090\",\"type\":\"Line\"},{\"attributes\":{\"num_minor_ticks\":5,\"tickers\":[{\"id\":\"8072\"},{\"id\":\"8073\"},{\"id\":\"8074\"},{\"id\":\"8075\"},{\"id\":\"8076\"},{\"id\":\"8077\"},{\"id\":\"8078\"},{\"id\":\"8079\"},{\"id\":\"8080\"},{\"id\":\"8081\"},{\"id\":\"8082\"},{\"id\":\"8083\"}]},\"id\":\"8025\",\"type\":\"DatetimeTicker\"},{\"attributes\":{\"data\":{\"date\":{\"__ndarray__\":\"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\",\"dtype\":\"float64\",\"order\":\"little\",\"shape\":[583]},\"volume\":[237,59,101,120,208,322,157,202,101,259,86,130,250,105,82,312,44,263,82,66,113,71,816,361,171,217,480,368,122,220,269,363,618,367,522,394,285,472,749,537,263,820,456,895,2238,1597,1172,2724,3253,3464,2164,6593,6680,2748,2748,1356,1118,2119,2418,1732,2384,1785,1722,2315,799,922,1124,900,833,11889,5324,2313,2582,2542,1573,2261,2066,1511,1846,2579,1001,2021,806,617,551,1115,1295,985,1325,693,671,607,498,538,1131,825,658,4813,2697,1536,2307,2298,2733,1642,1688,1333,1127,1215,1480,1542,1073,1144,1423,775,503,1081,2169,1001,669,978,2549,2846,31355,7814,3179,2158,1499,2312,1952,1573,2199,4986,3298,1965,1409,1409,702,996,615,648,833,1673,998,1424,755,826,986,1215,1023,1068,904,1497,732,634,425,593,973,1662,1282,724,992,1386,727,790,682,1400,1265,1413,1562,2354,3625,2527,1662,1461,1599,3364,3567,1716,2181,1990,1306,1742,1700,1099,2598,2224,1700,2466,1294,3567,2272,2685,3053,3579,2731,4955,6021,7007,3082,4262,3163,2723,1855,2470,1928,2876,5429,3781,3763,4336,15437,25086,27110,7986,10565,22305,20371,26975,13500,10425,9220,8489,7892,6003,4578,8917,5683,5605,5778,7803,4761,16442,24080,16199,57376,36772,25305,22564,46937,89300,111713,49709,23223,24040,13515,15999,10330,9022,8962,6546,5142,4882,6079,5429,4188,13982,7199,8521,20009,5537,4927,3853,4584,9356,4305,6025,8014,7039,8905,15964,19120,9842,13195,13807,9325,7102,7818,6824,4336,4164,5103,4068,4019,2671,3307,3896,3988,3238,2564,5036,9063,5725,4509,4835,4395,7424,3527,4110,3947,4164,128280,4781,2615,3115,2470,2768,3394,2902,2543,3534,3044,9136,4326,4383,4019,5206,12408,13941,12681,13384,12884,9053,5567,4027,3868,4820,2951,3221,3432,2610,2382,3048,5822,5490,4288,4402,6873,4850,4006,6285,4998,4746,7857,4857,5978,5808,22165,16890,8456,6649,16356,13836,5696,6626,6619,7856,7408,11607,7259,13055,14150,7934,9197,9031,11858,17528,21780,18889,13830,12421,9309,9231,11445,12265,14363,61692,118243,137035,142406,144198,158084,142325,209201,200315,163131,204435,215275,236415,218020,225225,234686,208233,152471,248844,242938,305476,218839,244252,254597,215965,199253,193574,139792,158165,161334,80522,76187,71278,70569,55700,61917,46603,43251,44689,47960,48168,47737,47408,44410,45575,33384,24304,45505,29425,25951,33869,41854,49500,39171,37944,32079,32280,32527,30042,43574,37539,27123,32530,36041,44280,53787,48045,66641,51626,26070,46899,49791,56694,51235,48330,46295,46763,52737,65059,61910,74261,73833,71290,55987,50090,45649,41146,43262,38871,30698,32721,36013,44173,41093,51308,88110,65747,75398,64484,69994,64441,79205,76395,67262,63946,58115,54846,63482,68321,79609,239756,143640,92342,96349,117025,83634,70444,45275,75780,101099,64549,54171,59366,53230,33177,36933,38740,39854,31929,34741,29218,39743,27558,26434,34613,38313,32720,32320,31783,27222,33572,38477,30922,35900,34233,31919,30545,27984,25778,24125,25772,19324,23031,54800,38316,33241,30915,26273,41099,36638,39533,34121,24875,20901,14044,20236,18472,19101,15757,23969,11551,15012,13270,17273,10839,18534,17313,17221,30336,28925,31636,12943,25554,25512,29944,24393,20820,23165,12388,21884,11208,8370,12109,6896,6700,10186,7605,9287,7537,4688,3643,3948,6700,4007,4678,10138,6404,3178]},\"selected\":{\"id\":\"8314\"},\"selection_policy\":{\"id\":\"8361\"}},\"id\":\"8313\",\"type\":\"ColumnDataSource\"},{\"attributes\":{\"margin\":[5,5,5,5],\"name\":\"HSpacer08366\",\"sizing_mode\":\"stretch_width\"},\"id\":\"8777\",\"type\":\"Spacer\"},{\"attributes\":{},\"id\":\"8314\",\"type\":\"Selection\"},{\"attributes\":{},\"id\":\"8022\",\"type\":\"LinearScale\"},{\"attributes\":{\"months\":[0,1,2,3,4,5,6,7,8,9,10,11]},\"id\":\"8371\",\"type\":\"MonthsTicker\"},{\"attributes\":{\"axis_label\":\"Number of Trades\",\"coordinates\":null,\"formatter\":{\"id\":\"8046\"},\"group\":null,\"major_label_policy\":{\"id\":\"8052\"},\"ticker\":{\"id\":\"8029\"}},\"id\":\"8028\",\"type\":\"LinearAxis\"},{\"attributes\":{},\"id\":\"8302\",\"type\":\"WheelZoomTool\"},{\"attributes\":{\"days\":[1,2,3,4,5,6,7,8,9,10,11,12,13,14,15,16,17,18,19,20,21,22,23,24,25,26,27,28,29,30,31]},\"id\":\"8367\",\"type\":\"DaysTicker\"},{\"attributes\":{\"axis\":{\"id\":\"8024\"},\"coordinates\":null,\"grid_line_color\":null,\"group\":null,\"ticker\":null},\"id\":\"8027\",\"type\":\"Grid\"},{\"attributes\":{\"axis_label\":\"Date\",\"coordinates\":null,\"formatter\":{\"id\":\"8324\"},\"group\":null,\"major_label_policy\":{\"id\":\"8325\"},\"ticker\":{\"id\":\"8293\"}},\"id\":\"8292\",\"type\":\"DatetimeAxis\"},{\"attributes\":{\"line_alpha\":0.2,\"line_color\":\"green\",\"line_width\":2,\"x\":{\"field\":\"date\"},\"y\":{\"field\":\"volume\"}},\"id\":\"8318\",\"type\":\"Line\"},{\"attributes\":{\"days\":[1,15]},\"id\":\"8078\",\"type\":\"DaysTicker\"},{\"attributes\":{\"days\":[1,4,7,10,13,16,19,22,25,28]},\"id\":\"8368\",\"type\":\"DaysTicker\"},{\"attributes\":{\"mantissas\":[1,2,5],\"max_interval\":500.0,\"num_minor_ticks\":0},\"id\":\"8364\",\"type\":\"AdaptiveTicker\"},{\"attributes\":{\"months\":[0,2,4,6,8,10]},\"id\":\"8372\",\"type\":\"MonthsTicker\"},{\"attributes\":{\"axis\":{\"id\":\"8028\"},\"coordinates\":null,\"dimension\":1,\"grid_line_color\":null,\"group\":null,\"ticker\":null},\"id\":\"8031\",\"type\":\"Grid\"},{\"attributes\":{\"num_minor_ticks\":5,\"tickers\":[{\"id\":\"8364\"},{\"id\":\"8365\"},{\"id\":\"8366\"},{\"id\":\"8367\"},{\"id\":\"8368\"},{\"id\":\"8369\"},{\"id\":\"8370\"},{\"id\":\"8371\"},{\"id\":\"8372\"},{\"id\":\"8373\"},{\"id\":\"8374\"},{\"id\":\"8375\"}]},\"id\":\"8293\",\"type\":\"DatetimeTicker\"},{\"attributes\":{\"source\":{\"id\":\"8087\"}},\"id\":\"8094\",\"type\":\"CDSView\"},{\"attributes\":{\"months\":[0,6]},\"id\":\"8374\",\"type\":\"MonthsTicker\"},{\"attributes\":{\"below\":[{\"id\":\"8292\"}],\"center\":[{\"id\":\"8295\"},{\"id\":\"8299\"}],\"height\":700,\"left\":[{\"id\":\"8296\"}],\"margin\":null,\"min_border_bottom\":10,\"min_border_left\":10,\"min_border_right\":10,\"min_border_top\":10,\"renderers\":[{\"id\":\"8319\"}],\"sizing_mode\":\"fixed\",\"title\":{\"id\":\"8284\"},\"toolbar\":{\"id\":\"8306\"},\"toolbar_location\":null,\"width\":1000,\"x_range\":{\"id\":\"8011\"},\"x_scale\":{\"id\":\"8288\"},\"y_range\":{\"id\":\"8281\"},\"y_scale\":{\"id\":\"8290\"}},\"id\":\"8283\",\"subtype\":\"Figure\",\"type\":\"Plot\"},{\"attributes\":{},\"id\":\"8103\",\"type\":\"UnionRenderers\"},{\"attributes\":{\"callback\":null,\"formatters\":{\"@{date}\":\"datetime\"},\"renderers\":[{\"id\":\"8061\"}],\"tags\":[\"hv_created\"],\"tooltips\":[[\"date\",\"@{date}{%F %T}\"],[\"num_trades\",\"@{num_trades}\"]]},\"id\":\"8013\",\"type\":\"HoverTool\"},{\"attributes\":{\"line_alpha\":0.1,\"line_color\":\"blue\",\"line_width\":2,\"x\":{\"field\":\"date\"},\"y\":{\"field\":\"num_trades\"}},\"id\":\"8059\",\"type\":\"Line\"},{\"attributes\":{\"line_alpha\":0.1,\"line_color\":\"red\",\"line_width\":2,\"x\":{\"field\":\"date\"},\"y\":{\"field\":\"unique_buyers\"}},\"id\":\"8091\",\"type\":\"Line\"},{\"attributes\":{\"bottom_units\":\"screen\",\"coordinates\":null,\"fill_alpha\":0.5,\"fill_color\":\"lightgrey\",\"group\":null,\"left_units\":\"screen\",\"level\":\"overlay\",\"line_alpha\":1.0,\"line_color\":\"black\",\"line_dash\":[4,4],\"line_width\":2,\"right_units\":\"screen\",\"syncable\":false,\"top_units\":\"screen\"},\"id\":\"8305\",\"type\":\"BoxAnnotation\"},{\"attributes\":{\"children\":[[{\"id\":\"8015\"},0,0],[{\"id\":\"8283\"},0,1]]},\"id\":\"8377\",\"type\":\"GridBox\"},{\"attributes\":{\"data\":{\"date\":{\"__ndarray__\":\"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\",\"dtype\":\"float64\",\"order\":\"little\",\"shape\":[583]},\"unique_buyers\":[217,142,108,75,103,109,119,224,151,159,82,164,210,191,173,445,180,192,135,162,227,121,165,188,146,268,193,185,164,168,344,190,141,154,132,102,120,289,227,185,158,182,200,380,342,353,389,340,320,532,331,604,424,297,440,339,280,654,609,680,848,409,415,971,486,335,339,321,285,364,361,355,362,283,283,1720,391,317,1302,560,454,321,272,242,228,274,672,434,406,399,242,296,285,322,704,393,480,423,361,767,595,545,485,465,353,602,203,181,167,147,232,242,807,477,755,609,449,441,380,1033,2088,1404,4104,1232,931,756,976,418,397,259,402,2428,1339,1582,835,944,444,502,295,479,717,756,461,575,577,615,686,1025,961,943,979,981,649,607,617,801,1045,1160,872,893,915,1797,800,1035,814,1051,1225,1074,1871,1274,1153,802,676,924,1154,2184,1456,1213,1329,1068,1378,2055,1885,1533,1610,2021,860,2106,898,1462,1497,1340,1056,1037,1315,1867,1598,2637,1412,1886,1174,1977,1296,2042,961,955,1377,2003,3934,1125,2044,3417,4111,4716,2555,3170,1958,3145,2633,1979,2507,1469,2145,1248,1523,1862,1450,1620,2183,2304,1534,2724,3534,3177,5573,4470,4660,3247,3921,5193,9285,5330,4330,4476,2497,3310,1764,2070,1661,1962,1221,1890,1767,1371,1390,2770,2908,1482,2553,1770,1658,1580,1016,2420,2212,1954,2773,1901,1469,3427,3090,1489,1893,2702,1770,1482,1129,1256,2039,964,1165,1425,1327,1079,1317,1974,1092,1059,1165,2533,4515,2229,1613,2359,1457,1808,1129,1312,967,670,886,1246,1156,644,794,1438,1610,1279,1463,1473,1554,3311,6250,6164,4692,3577,4126,4673,4348,4847,3894,3153,3294,2971,2851,2753,2479,2164,2193,2189,2354,2336,3570,5707,3324,3540,3198,2485,2589,3293,3755,3617,3818,3586,4613,4772,6187,5530,4038,3489,24087,11386,6284,6943,5128,4845,4091,4276,3870,5228,4417,3292,2756,2955,3651,3773,4027,4022,3564,3298,2854,3016,3405,2705,3673,3259,7386,4777,3017,3330,2834,2939,3310,3695,4819,3794,2571,2774,3552,3487,3807,2926,3429,3238,3342,4354,3539,2839,4340,6817,5553,4339,3958,3463,3021,3806,4114,2990,3580,3692,3101,2786,3626,3523,7577,5504,3384,5754,10704,5621,4567,3437,4201,2598,3412,2845,2969,7705,3918,3684,4336,2933,3093,3056,3612,3874,4115,2903,6390,3223,3351,3366,3823,3456,4043,3519,3084,3082,3226,3157,2765,5960,5952,3064,10209,13518,4043,5076,3249,3444,4234,3410,3585,3085,2861,2675,2819,2816,2672,3894,13251,4895,11775,6216,3983,4293,7662,5472,5149,5908,8751,14111,15670,9800,12205,19192,26201,18985,14628,16996,19943,17549,10152,13560,15604,7887,6127,7642,12274,9417,12454,14639,12508,9068,14025,9999,14462,8108,5785,14342,12464,8777,7670,12391,7945,10160,7427,7529,16804,7854,8184,7846,7373,5978,5361,5602,4912,4259,5501,5074,4911,4197,4305,12230,5866,5454,5762,3604,3039,3005,2618,2382,2841,2984,3973,3149,4338,4598,7666,8681,6448,6038,4908,4305,4320,3978,6587,3519,5587,6927,3648,3422,3204,3712,4135,4206,4499,4455,3860,4694,10105,7131,4002,3352,3353,209,424,506,501,479,2654,2843,287]},\"selected\":{\"id\":\"8088\"},\"selection_policy\":{\"id\":\"8103\"}},\"id\":\"8087\",\"type\":\"ColumnDataSource\"},{\"attributes\":{\"source\":{\"id\":\"8313\"}},\"id\":\"8320\",\"type\":\"CDSView\"},{\"attributes\":{\"days\":[1,8,15,22]},\"id\":\"8369\",\"type\":\"DaysTicker\"},{\"attributes\":{},\"id\":\"8300\",\"type\":\"SaveTool\"},{\"attributes\":{\"mantissas\":[1,2,5],\"max_interval\":500.0,\"num_minor_ticks\":0},\"id\":\"8072\",\"type\":\"AdaptiveTicker\"},{\"attributes\":{},\"id\":\"8032\",\"type\":\"SaveTool\"},{\"attributes\":{},\"id\":\"8328\",\"type\":\"AllLabels\"},{\"attributes\":{},\"id\":\"8301\",\"type\":\"PanTool\"},{\"attributes\":{},\"id\":\"8033\",\"type\":\"PanTool\"},{\"attributes\":{\"overlay\":{\"id\":\"8037\"}},\"id\":\"8035\",\"type\":\"BoxZoomTool\"},{\"attributes\":{},\"id\":\"8034\",\"type\":\"WheelZoomTool\"},{\"attributes\":{\"months\":[0,4,8]},\"id\":\"8373\",\"type\":\"MonthsTicker\"},{\"attributes\":{\"callback\":null,\"formatters\":{\"@{date}\":\"datetime\"},\"renderers\":[{\"id\":\"8319\"}],\"tags\":[\"hv_created\"],\"tooltips\":[[\"date\",\"@{date}{%F %T}\"],[\"volume\",\"@{volume}\"]]},\"id\":\"8282\",\"type\":\"HoverTool\"},{\"attributes\":{},\"id\":\"8297\",\"type\":\"BasicTicker\"},{\"attributes\":{},\"id\":\"8056\",\"type\":\"Selection\"},{\"attributes\":{},\"id\":\"8049\",\"type\":\"AllLabels\"},{\"attributes\":{\"line_color\":\"green\",\"line_width\":2,\"x\":{\"field\":\"date\"},\"y\":{\"field\":\"volume\"}},\"id\":\"8316\",\"type\":\"Line\"},{\"attributes\":{\"tools\":[{\"id\":\"8282\"},{\"id\":\"8300\"},{\"id\":\"8301\"},{\"id\":\"8302\"},{\"id\":\"8303\"},{\"id\":\"8304\"}]},\"id\":\"8306\",\"type\":\"Toolbar\"},{\"attributes\":{\"tools\":[{\"id\":\"8013\"},{\"id\":\"8014\"},{\"id\":\"8032\"},{\"id\":\"8033\"},{\"id\":\"8034\"},{\"id\":\"8035\"},{\"id\":\"8036\"}]},\"id\":\"8038\",\"type\":\"Toolbar\"},{\"attributes\":{},\"id\":\"8288\",\"type\":\"LinearScale\"},{\"attributes\":{},\"id\":\"8036\",\"type\":\"ResetTool\"},{\"attributes\":{},\"id\":\"8325\",\"type\":\"AllLabels\"},{\"attributes\":{},\"id\":\"8069\",\"type\":\"UnionRenderers\"},{\"attributes\":{\"base\":60,\"mantissas\":[1,2,5,10,15,20,30],\"max_interval\":1800000.0,\"min_interval\":1000.0,\"num_minor_ticks\":0},\"id\":\"8365\",\"type\":\"AdaptiveTicker\"},{\"attributes\":{\"line_color\":\"blue\",\"line_width\":2,\"x\":{\"field\":\"date\"},\"y\":{\"field\":\"num_trades\"}},\"id\":\"8058\",\"type\":\"Line\"},{\"attributes\":{\"days\":[1,15]},\"id\":\"8370\",\"type\":\"DaysTicker\"},{\"attributes\":{\"line_alpha\":0.1,\"line_color\":\"green\",\"line_width\":2,\"x\":{\"field\":\"date\"},\"y\":{\"field\":\"volume\"}},\"id\":\"8317\",\"type\":\"Line\"},{\"attributes\":{\"source\":{\"id\":\"8055\"}},\"id\":\"8062\",\"type\":\"CDSView\"},{\"attributes\":{\"months\":[0,2,4,6,8,10]},\"id\":\"8080\",\"type\":\"MonthsTicker\"},{\"attributes\":{\"end\":336019.2,\"reset_end\":336019.2,\"reset_start\":-30499.2,\"start\":-30499.2,\"tags\":[[[\"volume\",\"volume\",null]]]},\"id\":\"8281\",\"type\":\"Range1d\"},{\"attributes\":{\"bottom_units\":\"screen\",\"coordinates\":null,\"fill_alpha\":0.5,\"fill_color\":\"lightgrey\",\"group\":null,\"left_units\":\"screen\",\"level\":\"overlay\",\"line_alpha\":1.0,\"line_color\":\"black\",\"line_dash\":[4,4],\"line_width\":2,\"right_units\":\"screen\",\"syncable\":false,\"top_units\":\"screen\"},\"id\":\"8037\",\"type\":\"BoxAnnotation\"},{\"attributes\":{\"base\":60,\"mantissas\":[1,2,5,10,15,20,30],\"max_interval\":1800000.0,\"min_interval\":1000.0,\"num_minor_ticks\":0},\"id\":\"8073\",\"type\":\"AdaptiveTicker\"},{\"attributes\":{\"below\":[{\"id\":\"8024\"}],\"center\":[{\"id\":\"8027\"},{\"id\":\"8031\"},{\"id\":\"8084\"}],\"height\":700,\"left\":[{\"id\":\"8028\"}],\"margin\":null,\"min_border_bottom\":10,\"min_border_left\":10,\"min_border_right\":10,\"min_border_top\":10,\"renderers\":[{\"id\":\"8061\"},{\"id\":\"8093\"}],\"sizing_mode\":\"fixed\",\"title\":{\"id\":\"8016\"},\"toolbar\":{\"id\":\"8038\"},\"toolbar_location\":null,\"width\":1000,\"x_range\":{\"id\":\"8011\"},\"x_scale\":{\"id\":\"8020\"},\"y_range\":{\"id\":\"8012\"},\"y_scale\":{\"id\":\"8022\"}},\"id\":\"8015\",\"subtype\":\"Figure\",\"type\":\"Plot\"},{\"attributes\":{\"end\":234996.5,\"reset_end\":234996.5,\"reset_start\":-21281.5,\"start\":-21281.5,\"tags\":[[[\"num_trades\",\"num_trades\",null]]]},\"id\":\"8012\",\"type\":\"Range1d\"},{\"attributes\":{\"months\":[0,4,8]},\"id\":\"8081\",\"type\":\"MonthsTicker\"},{\"attributes\":{\"format\":\"%.0f\"},\"id\":\"8322\",\"type\":\"PrintfTickFormatter\"},{\"attributes\":{},\"id\":\"8083\",\"type\":\"YearsTicker\"},{\"attributes\":{},\"id\":\"8088\",\"type\":\"Selection\"},{\"attributes\":{\"base\":24,\"mantissas\":[1,2,4,6,8,12],\"max_interval\":43200000.0,\"min_interval\":3600000.0,\"num_minor_ticks\":0},\"id\":\"8366\",\"type\":\"AdaptiveTicker\"},{\"attributes\":{\"months\":[0,6]},\"id\":\"8082\",\"type\":\"MonthsTicker\"},{\"attributes\":{\"children\":[{\"id\":\"8379\"},{\"id\":\"8377\"}]},\"id\":\"8380\",\"type\":\"Column\"},{\"attributes\":{\"base\":24,\"mantissas\":[1,2,4,6,8,12],\"max_interval\":43200000.0,\"min_interval\":3600000.0,\"num_minor_ticks\":0},\"id\":\"8074\",\"type\":\"AdaptiveTicker\"},{\"attributes\":{},\"id\":\"8375\",\"type\":\"YearsTicker\"},{\"attributes\":{\"data\":{\"date\":{\"__ndarray__\":\"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\",\"dtype\":\"float64\",\"order\":\"little\",\"shape\":[583]},\"num_trades\":[1320,536,313,199,295,315,366,821,524,422,188,483,882,659,1051,2854,437,545,333,447,708,306,386,886,465,960,575,580,506,578,1475,532,442,377,329,241,345,947,648,549,357,429,659,1021,852,1135,1088,1117,776,1646,903,2100,891,655,1271,789,682,1727,1504,1446,2063,971,1311,1742,1227,1086,977,848,990,1118,956,962,1235,862,792,2144,1091,733,1867,1251,923,807,742,635,536,677,1434,972,900,865,758,847,716,1188,1634,855,1063,1029,824,1323,1448,1082,1253,1209,1092,1183,564,495,376,287,517,563,1381,1494,2143,1575,1297,1019,897,1838,5366,3095,12024,2557,1965,1442,1762,718,691,432,628,3239,1811,2468,1426,1631,775,870,498,855,1263,1590,989,1247,1351,1242,1622,1922,2107,2055,2066,2318,1483,1382,1447,2016,2847,2946,2588,2866,3659,3797,2796,3851,2849,3400,3667,3761,4299,3300,3208,1986,1625,2364,4550,4493,4755,3125,3730,2544,3004,5331,4678,3690,4994,4034,1805,4642,1847,3063,3935,3448,2364,2165,2527,3623,3607,5778,3420,4659,2597,4135,2898,3806,2564,2791,3342,4972,7998,2985,3836,8969,9010,12092,4846,5642,3709,5389,4964,3919,4753,2839,4412,2772,3191,3675,3329,3254,3699,4163,3793,5014,7123,7427,10973,8830,10544,7398,7073,9670,16733,9689,8552,7846,4707,6476,4257,4989,3561,3633,2505,3659,3336,3548,3193,5098,6150,3202,4518,3611,3527,3486,2262,3768,4651,4004,4969,5312,3695,5805,5387,3231,3273,5019,3470,3083,2273,2415,3108,1694,2309,3481,3189,2517,3209,4138,2413,2189,2709,4731,7718,4464,3398,4103,2628,3726,2133,2466,1860,1077,1602,2367,2009,1282,1529,3378,3540,2831,3063,3346,3504,6657,15008,14987,12195,9231,10612,11234,10508,10228,9096,8025,9318,7970,7046,5572,5923,5067,5038,5068,6019,5689,8067,11786,7418,7992,8143,6208,7111,7449,9105,8913,9627,9027,11808,12558,13054,12358,9434,8287,31285,20854,14595,13574,11416,11023,9565,10404,8898,12742,9495,6948,5429,5897,7189,8038,8038,7779,7507,6945,6044,6156,7433,5951,6774,6942,12236,9142,6009,7930,6219,6758,7306,7806,9141,7094,4977,5687,7031,6856,7394,5795,6612,6642,6688,8703,6695,6266,8990,11123,10360,9819,8524,8354,7354,8077,8480,7150,9305,8620,6717,5604,7214,7337,14831,11177,6764,10176,17082,8874,8523,7306,8963,5704,7411,6612,6686,14691,9280,9555,8914,7480,7296,8216,8914,10067,10417,7249,12279,7202,7492,7043,9686,9612,10271,8780,8529,6968,7457,9074,8317,11730,10112,6573,16807,18349,8046,9537,6585,6583,9070,8149,8285,9704,8817,7013,6666,6819,6937,11281,21714,14379,19087,14348,8970,9136,18505,20214,24895,21960,39450,64594,74549,46688,73361,86451,213640,154130,81158,71893,73664,78713,61667,43604,36239,18906,10810,19851,30644,31907,38910,38950,36362,32211,39736,43653,43649,29449,23135,42798,31553,22424,27622,39514,22302,22953,18682,16759,34166,21440,20954,20640,19755,14751,15344,16679,16499,12960,11814,12802,14621,13087,14398,27665,19888,18513,17110,13522,12764,13064,11861,11792,12543,13275,21480,16247,26091,25655,74265,72657,50342,43341,30855,24339,27413,24983,26836,22569,28099,25673,20563,21790,18212,17608,17699,8562,10833,10665,9536,13107,14713,10708,8213,7089,7304,253,601,723,671,661,4109,4677,348]},\"selected\":{\"id\":\"8056\"},\"selection_policy\":{\"id\":\"8069\"}},\"id\":\"8055\",\"type\":\"ColumnDataSource\"}],\"root_ids\":[\"8009\"]},\"title\":\"Bokeh Application\",\"version\":\"2.4.2\"}};\n",
       "    var render_items = [{\"docid\":\"d4a65650-d3d7-4a13-860e-c9d9145184a8\",\"root_ids\":[\"8009\"],\"roots\":{\"8009\":\"45c50f98-f312-40ff-b1d5-2551946e808c\"}}];\n",
       "    root.Bokeh.embed.embed_items_notebook(docs_json, render_items);\n",
       "  }\n",
       "  if (root.Bokeh !== undefined && root.Bokeh.Panel !== undefined) {\n",
       "    embed_document(root);\n",
       "  } else {\n",
       "    var attempts = 0;\n",
       "    var timer = setInterval(function(root) {\n",
       "      if (root.Bokeh !== undefined && root.Bokeh.Panel !== undefined) {\n",
       "        clearInterval(timer);\n",
       "        embed_document(root);\n",
       "      } else if (document.readyState == \"complete\") {\n",
       "        attempts++;\n",
       "        if (attempts > 200) {\n",
       "          clearInterval(timer);\n",
       "          console.log(\"Bokeh: ERROR: Unable to run BokehJS code because BokehJS library is missing\");\n",
       "        }\n",
       "      }\n",
       "    }, 25, root)\n",
       "  }\n",
       "})(window);</script>"
      ],
      "text/plain": [
       ":Layout\n",
       "   .Overlay.I           :Overlay\n",
       "      .Curve.Number_of_Trades        :Curve   [date]   (num_trades)\n",
       "      .Curve.Number_of_Unique_Buyers :Curve   [date]   (unique_buyers)\n",
       "   .Curve.Volume_in_ETH :Curve   [date]   (volume)"
      ]
     },
     "execution_count": 59,
     "metadata": {
      "application/vnd.holoviews_exec.v0+json": {
       "id": "8009"
      }
     },
     "output_type": "execute_result"
    }
   ],
   "source": [
    "side_by_side"
   ]
  },
  {
   "cell_type": "code",
   "execution_count": null,
   "id": "7a800f64-7466-4cb4-9b35-cd2d3c8885d3",
   "metadata": {},
   "outputs": [],
   "source": []
  }
 ],
 "metadata": {
  "kernelspec": {
   "display_name": "Python (dev)",
   "language": "python",
   "name": "dev"
  },
  "language_info": {
   "codemirror_mode": {
    "name": "ipython",
    "version": 3
   },
   "file_extension": ".py",
   "mimetype": "text/x-python",
   "name": "python",
   "nbconvert_exporter": "python",
   "pygments_lexer": "ipython3",
   "version": "3.7.13"
  }
 },
 "nbformat": 4,
 "nbformat_minor": 5
}
