{
 "cells": [
  {
   "cell_type": "markdown",
   "id": "622beb22-371b-4ed7-ac6f-96c2735e4f14",
   "metadata": {},
   "source": [
    "# Data Exploration and Cleanup Process"
   ]
  },
  {
   "cell_type": "markdown",
   "id": "8d3d672a-d9d5-464b-84f5-c05ad96fd090",
   "metadata": {},
   "source": [
    "## Initial Research\n",
    "\n",
    "---\n",
    "\n",
    "Initial search for top NFT collections across the market\n",
    "\n",
    "* OpenSea API - Could not get a key/Used Open Sea's website for manual data of Top NFT Collections\n",
    "* OpenSea TestNet - Did not have collections of interest\n",
    "* [Rarify API](https://docs.rarify.tech/reference) - Free API keys, limits un-impactful/Interfaces with OpenSea\n",
    "* NonFungible.com - Data only provided as CSV files\n",
    "* Nansen - API key required subscription/Used to manually compare NFT baskets to Nansen's NFT indexes\n",
    "* Twitter API"
   ]
  },
  {
   "cell_type": "markdown",
   "id": "077b03e4-fc36-4417-a50c-4d2b39d3c1e9",
   "metadata": {},
   "source": [
    "## Datasets Used\n",
    "\n",
    "---\n",
    "\n",
    "Based on data restrictions and file formats, we decided to only use Rarify's API to collect data for the following reasons:\n",
    "\n",
    "1. Real-time Data\n",
    "2. Interfaced with OpenSea\n",
    "3. Free to use"
   ]
  },
  {
   "cell_type": "markdown",
   "id": "5475230b-5105-4567-86c5-fd8f3168b8df",
   "metadata": {},
   "source": [
    "## Database Construction\n",
    "\n",
    "---\n",
    "\n",
    "1. Install the Python to Postgres Database Driver:\n",
    "\n",
    "```python\n",
    "pip install psycopg2\n",
    "```\n",
    "\n",
    "2. Two Python files in the database directory (ddl.py and dml.py), these scripts create the database tables as well as the default system data used within the application\n",
    "\n",
    "3. Advantages to storing the data locally:\n",
    "\n",
    "* Faster to access data stored locally\n",
    "* Did not require calls to the API every time we wanted to work with the data leading to more analysis conducted\n",
    "* Entity Relationship Diagram shows the relationships between collections & tokens, traits, and trade transactions on the blockchain for each collection\n",
    "* Store all the data from different sources in one location using the same request method through the contract addresses for each NFT collection\n",
    "\n",
    "SHOW ERD FILE\n",
    "\n"
   ]
  },
  {
   "cell_type": "markdown",
   "id": "8a05da44-b183-4fbc-83f1-f49a2c62d1cf",
   "metadata": {},
   "source": [
    "### Rarify API provides the following data:\n",
    "\n",
    "* API call request returns top 100 collections based on all time volume traded\n",
    "* API call request also returns top 100 tokens for each collection\n",
    "* API call request returns traits for each collection and their rarity score\n",
    "* API call request returns trade transactions\n",
    "\n",
    "### Extract Transform and Load Process\n",
    "\n",
    "etl.py runs nightly to extract data from the rarify API and stores the data into an AWS Postgres Cloud Database\n",
    "\n",
    "\n",
    "### Converting API calls to SQL Queries\n",
    "\n",
    "SQL queries are used to extract data for analysis\n"
   ]
  },
  {
   "cell_type": "markdown",
   "id": "0757a5ec-60d4-4f2d-9bfb-25ed789d2514",
   "metadata": {},
   "source": [
    "### Setup and Installation\n",
    "\n",
    "1. Install the Python to Postgres Database Driver:\n",
    "\n",
    "```python\n",
    "pip install psycopg2\n",
    "```\n",
    "\n",
    "2. Install SQLAlchemy:\n",
    "\n",
    "```python\n",
    "pip install sqlalchemy\n",
    "```\n",
    "\n"
   ]
  },
  {
   "cell_type": "code",
   "execution_count": null,
   "id": "3da42606-a1e2-4433-ba82-cfa7ff9e2d2a",
   "metadata": {},
   "outputs": [],
   "source": []
  }
 ],
 "metadata": {
  "kernelspec": {
   "display_name": "Python (dev)",
   "language": "python",
   "name": "dev"
  },
  "language_info": {
   "codemirror_mode": {
    "name": "ipython",
    "version": 3
   },
   "file_extension": ".py",
   "mimetype": "text/x-python",
   "name": "python",
   "nbconvert_exporter": "python",
   "pygments_lexer": "ipython3",
   "version": "3.7.13"
  }
 },
 "nbformat": 4,
 "nbformat_minor": 5
}
