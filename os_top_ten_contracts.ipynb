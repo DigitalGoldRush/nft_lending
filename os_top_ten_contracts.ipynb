{
 "cells": [
  {
   "cell_type": "code",
   "execution_count": 6,
   "id": "942712d9-f357-4bbb-9d1f-0cecd3b440bf",
   "metadata": {},
   "outputs": [],
   "source": [
    "os_top_ten = {\n",
    "    'b47e3cd837ddf8e4c57f05d70ab865de6e193bbb': 'CryptoPunks',\n",
    "    'BC4CA0EdA7647A8aB7C2061c2E118A18a936f13D': 'BoredApeYachtClub',\n",
    "    '60E4d786628Fea6478F785A6d7e704777c86a7c6': 'MutantApeYachtClub',\n",
    "    '34d85c9CDeB23FA97cb08333b511ac86E1C4E258': 'Otherdeed', \n",
    "    'ED5AF388653567Af2F388E6224dC7C4b3241C544': 'Azuki',\n",
    "    '49cF6f5d44E70224e2E23fDcdd2C053F30aDA28B': 'CloneX',\n",
    "    '23581767a106ae21c074b2276D25e5C3e136a68b': 'Moonbirds',\n",
    "    '8a90CAb2b38dba80c64b7734e58Ee1dB38B8992e': 'Doodles',\n",
    "    '7Bd29408f11D2bFC23c34f18275bBf23bB716Bc7': 'Meebits',\n",
    "    '1A92f7381B9F03921564a437210bB9396471050C': 'Cool Cats',\n",
    "    'ba30E5F9Bb24caa003E9f2f0497Ad287FDF95623': 'BoredApeKennelClub'\n",
    "}  "
   ]
  }
 ],
 "metadata": {
  "kernelspec": {
   "display_name": "Python (dev)",
   "language": "python",
   "name": "dev"
  },
  "language_info": {
   "codemirror_mode": {
    "name": "ipython",
    "version": 3
   },
   "file_extension": ".py",
   "mimetype": "text/x-python",
   "name": "python",
   "nbconvert_exporter": "python",
   "pygments_lexer": "ipython3",
   "version": "3.7.13"
  }
 },
 "nbformat": 4,
 "nbformat_minor": 5
}
